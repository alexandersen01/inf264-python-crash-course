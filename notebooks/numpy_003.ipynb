{
 "cells": [
  {
   "attachments": {},
   "cell_type": "markdown",
   "id": "a46841d4-12c7-448e-9867-55ae4ce9279c",
   "metadata": {},
   "source": [
    "# 3. Reshaping, Transposing and Concatenating Arrays"
   ]
  },
  {
   "cell_type": "code",
   "execution_count": 18,
   "id": "77d401e7-5363-4c07-b185-d511b889aa24",
   "metadata": {},
   "outputs": [],
   "source": [
    "import numpy as np"
   ]
  },
  {
   "attachments": {},
   "cell_type": "markdown",
   "id": "e8e5f629-d0cd-4695-8e1d-d2f5bff3e703",
   "metadata": {},
   "source": [
    "NumPy arrays can be reshaped. When reshaping an array, the content stays the same, making it a very fast operation.\n",
    "\n",
    "For example, if we have a 2D array (matrix) `arr` of shape 3x3 and we want to \"flatten\" it to a 1-dimensional array of length $9$, we can simply write `arr.reshape(9)`. We can also use `-1` to let NumPy infer the size in a dimension when possible. We can also reshape the flat array back into a 2-dimensional one."
   ]
  },
  {
   "cell_type": "code",
   "execution_count": 19,
   "id": "fe29e868-fa86-49fb-9a51-f0c66b741179",
   "metadata": {},
   "outputs": [
    {
     "name": "stdout",
     "output_type": "stream",
     "text": [
      "[[1 2 3]\n",
      " [4 5 6]\n",
      " [7 8 9]]\n",
      "shape: (3, 3)\n",
      "[1 2 3 4 5 6 7 8 9]\n",
      "shape: (9,)\n",
      "[[1 2 3]\n",
      " [4 5 6]\n",
      " [7 8 9]]\n",
      "shape: (3, 3)\n"
     ]
    }
   ],
   "source": [
    "# Create a 3x3 array\n",
    "arr = np.array([[1, 2, 3], [4, 5, 6], [7, 8, 9]])\n",
    "print(arr)\n",
    "print(f\"shape: {arr.shape}\")\n",
    "\n",
    "# Flatten the array\n",
    "arr = arr.reshape(9) # or arr.reshape(-1)\n",
    "print(arr)\n",
    "print(f\"shape: {arr.shape}\")\n",
    "\n",
    "# Reshape it back to a 3x3 array\n",
    "arr = arr.reshape(-1, 3) # or arr.reshape(3, 3) or arr.reshape(3, -1)\n",
    "print(arr)\n",
    "print(f\"shape: {arr.shape}\")"
   ]
  },
  {
   "attachments": {},
   "cell_type": "markdown",
   "id": "8ba712f0-c455-4a61-a95f-7ddad35279e0",
   "metadata": {},
   "source": [
    "Here are some more examples of reshaping."
   ]
  },
  {
   "cell_type": "code",
   "execution_count": 20,
   "id": "3f410f33-1288-4706-a83c-07a2457b5364",
   "metadata": {},
   "outputs": [
    {
     "name": "stdout",
     "output_type": "stream",
     "text": [
      "[[[1 2]\n",
      "  [3 4]]\n",
      "\n",
      " [[5 6]\n",
      "  [7 8]]]\n",
      "shape: (2, 2, 2)\n",
      "[[1 2 3 4]\n",
      " [5 6 7 8]]\n",
      "shape: (2, 4)\n",
      "[[1 2 3 4 5 6 7 8]]\n",
      "shape: (1, 8)\n",
      "[[1]\n",
      " [2]\n",
      " [3]\n",
      " [4]\n",
      " [5]\n",
      " [6]\n",
      " [7]\n",
      " [8]]\n",
      "shape: (8, 1)\n"
     ]
    }
   ],
   "source": [
    "arr = np.array([[[1, 2], [3, 4]], [[5, 6], [7, 8]]])\n",
    "print(arr)\n",
    "print(f\"shape: {arr.shape}\")\n",
    "\n",
    "arr = arr.reshape(-1, 4)\n",
    "print(arr)\n",
    "print(f\"shape: {arr.shape}\")\n",
    "\n",
    "arr = arr.reshape(1, 8)\n",
    "print(arr)\n",
    "print(f\"shape: {arr.shape}\")\n",
    "\n",
    "arr = arr.reshape(8, 1)\n",
    "print(arr)\n",
    "print(f\"shape: {arr.shape}\")"
   ]
  },
  {
   "attachments": {},
   "cell_type": "markdown",
   "id": "29422056-359e-45e7-93fc-a2b8cec3e10d",
   "metadata": {},
   "source": [
    "We can also transpose a matrix `arr` by using `arr.transpose()` or simply `arr.T`. For \"transposing\" higher-dimensional arrays, see `np.swapaxes()` ([documentation](https://numpy.org/doc/stable/reference/generated/numpy.swapaxes.html))."
   ]
  },
  {
   "cell_type": "code",
   "execution_count": 21,
   "id": "1eff65ec-db93-4028-abb0-467f0204fb44",
   "metadata": {},
   "outputs": [
    {
     "name": "stdout",
     "output_type": "stream",
     "text": [
      "[[1 2 3]\n",
      " [4 5 6]\n",
      " [7 8 9]]\n",
      "[[1 4 7]\n",
      " [2 5 8]\n",
      " [3 6 9]]\n"
     ]
    }
   ],
   "source": [
    "arr = np.array([[1, 2, 3], [4, 5, 6], [7, 8, 9]])\n",
    "print(arr)\n",
    "\n",
    "arr_transposed = arr.T # or arr.transpose()\n",
    "print(arr_transposed)"
   ]
  },
  {
   "attachments": {},
   "cell_type": "markdown",
   "id": "ca39f33d-888e-4f69-81f3-642f46375146",
   "metadata": {},
   "source": [
    "NumPy offers many functions to join multiple NumPy arrays together.\n",
    "\n",
    "The two main ones are `np.concatenate()` ([documentation](https://numpy.org/doc/stable/reference/generated/numpy.concatenate.html)) and `np.stack()` ([documentation](https://numpy.org/doc/stable/reference/generated/numpy.stack.html)).\n",
    "\n",
    "The function `np.stack()` stacks arrays along a new dimension, whereas `np.concatenate()` concatenate arrays along an existing axis without adding a new dimension."
   ]
  },
  {
   "cell_type": "code",
   "execution_count": 22,
   "id": "64e71c51-25bb-4cb6-b0fc-8e8d3d9433a8",
   "metadata": {},
   "outputs": [
    {
     "name": "stdout",
     "output_type": "stream",
     "text": [
      "arr1 = [1 2 3]\n",
      "arr2 = [4 5 6]\n",
      "Stacked in new dimension 0\n",
      "[[1 2 3]\n",
      " [4 5 6]]\n",
      "shape: (2, 3)\n",
      "Stacked in new dimension 1\n",
      "[[1 4]\n",
      " [2 5]\n",
      " [3 6]]\n",
      "shape: (3, 2)\n",
      "Concatenated in existing dimension\n",
      "[1 2 3 4 5 6]\n",
      "shape: (6,)\n"
     ]
    }
   ],
   "source": [
    "arr1 = np.array([1, 2, 3])\n",
    "arr2 = np.array([4, 5, 6])\n",
    "\n",
    "print(f\"arr1 = {arr1}\")\n",
    "print(f\"arr2 = {arr2}\")\n",
    "\n",
    "# Stack arrays along a new axis (in dimension 0, i.e., stack as rows)\n",
    "stacked_arr = np.stack((arr1, arr2), axis=0)\n",
    "print(\"Stacked in new dimension 0\")\n",
    "print(stacked_arr)\n",
    "print(f\"shape: {stacked_arr.shape}\")\n",
    "\n",
    "# Stack arrays along another new axis\n",
    "stacked_arr = np.stack((arr1, arr2), axis=1)\n",
    "print(\"Stacked in new dimension 1\")\n",
    "print(stacked_arr)\n",
    "print(f\"shape: {stacked_arr.shape}\")\n",
    "\n",
    "# Concatenate in existing dimension 0\n",
    "concatenated_arr = np.concatenate((arr1, arr2), axis=0)\n",
    "print(\"Concatenated in existing dimension\")\n",
    "print(concatenated_arr)\n",
    "print(f\"shape: {concatenated_arr.shape}\")"
   ]
  },
  {
   "attachments": {},
   "cell_type": "markdown",
   "id": "da2c41ac-38ac-40ca-b4c0-ce9693ff9577",
   "metadata": {},
   "source": [
    "Let us see how we can concatenate two 2-dimensional arrays as well."
   ]
  },
  {
   "cell_type": "code",
   "execution_count": 23,
   "id": "55d4b130-968a-4564-a9f4-d9932cc8dfaf",
   "metadata": {},
   "outputs": [
    {
     "name": "stdout",
     "output_type": "stream",
     "text": [
      "Original arrays\n",
      "arr3 =\n",
      "[[1 2 3]\n",
      " [4 5 6]] (shape: (2, 3))\n",
      "\n",
      "arr4 =\n",
      "[[ 7  8  9]\n",
      " [10 11 12]] (shape: (2, 3))\n",
      "\n",
      "Stacked along dimension 0 (rows)\n",
      "[[ 1  2  3]\n",
      " [ 4  5  6]\n",
      " [ 7  8  9]\n",
      " [10 11 12]]\n",
      "new shape: (4, 3)\n",
      "Stacked along dimension 1 (columns)\n",
      "[[ 1  2  3  7  8  9]\n",
      " [ 4  5  6 10 11 12]]\n",
      "new shape: (2, 6)\n"
     ]
    }
   ],
   "source": [
    "arr3 = np.array([[1, 2, 3], [4, 5, 6]])\n",
    "arr4 = np.array([[7, 8, 9], [10, 11, 12]])\n",
    "\n",
    "print(\"Original arrays\")\n",
    "print(f\"arr3 =\\n{arr3} (shape: {arr3.shape})\\n\")\n",
    "print(f\"arr4 =\\n{arr4} (shape: {arr4.shape})\\n\")\n",
    "\n",
    "# Concatenate arrays along axis=0\n",
    "concatenated_arr = np.concatenate((arr3, arr4), axis=0)\n",
    "print(\"Stacked along dimension 0 (rows)\")\n",
    "print(concatenated_arr)\n",
    "print(f\"new shape: {concatenated_arr.shape}\")\n",
    "\n",
    "# Concatenate arrays along axis=1\n",
    "concatenated_arr = np.concatenate((arr3, arr4), axis=1)\n",
    "print(\"Stacked along dimension 1 (columns)\")\n",
    "print(concatenated_arr)\n",
    "print(f\"new shape: {concatenated_arr.shape}\")"
   ]
  },
  {
   "attachments": {},
   "cell_type": "markdown",
   "id": "77f13eb4-55a2-436b-ae0c-50092528f4c8",
   "metadata": {},
   "source": [
    "Here is a full list (I think) of different functions for stacking and concatenating arrays in NumPy. But usually, `concatenate` and `stack` will be sufficient for most tasks.\n",
    "\n",
    "**Concatenation Functions:**\n",
    "- `np.concatenate()`\n",
    "- `np.vstack()`\n",
    "- `np.hstack()`\n",
    "- `np.dstack()`\n",
    "- `np.column_stack()`\n",
    "- `np.row_stack()`\n",
    "\n",
    "**Stacking Functions:**\n",
    "- `np.stack()`\n",
    "- `np.block()`\n",
    "- `np.tile()`\n",
    "- `np.repeat()`\n",
    "\n",
    "**Shorthand Utilities:**\n",
    "- `np.c_[]`\n",
    "- `np.r_[]`"
   ]
  },
  {
   "attachments": {},
   "cell_type": "markdown",
   "id": "169b4631-287e-49e7-a816-30d630729b19",
   "metadata": {},
   "source": [
    "## Exercises\n",
    "\n",
    "### 1. Matrix from `np.arange()`\n",
    "\n",
    "Create a NumPy array `arr` storing the matrix $\\begin{pmatrix}1&4&7\\\\10&13&16\\\\19&22&25\\end{pmatrix}$ using only `np.arange()` and `arr.reshape()`. Print the array to verify your solution."
   ]
  },
  {
   "cell_type": "code",
   "execution_count": 24,
   "id": "b2d2f767-680f-41e4-8abb-aabd4dbfe669",
   "metadata": {},
   "outputs": [
    {
     "name": "stdout",
     "output_type": "stream",
     "text": [
      "[[ 1  4  7]\n",
      " [10 13 16]\n",
      " [19 22 25]]\n"
     ]
    }
   ],
   "source": [
    "# You code here\n",
    "arr = ...\n",
    "\n",
    "# Solution:\n",
    "arr = np.arange(1, 26, 3).reshape(-1 ,3)\n",
    "print(arr)"
   ]
  },
  {
   "attachments": {},
   "cell_type": "markdown",
   "id": "2239b30a-d971-4365-ac11-67bb5ac1fe08",
   "metadata": {},
   "source": [
    "### 2. 2D to 3D\n",
    "\n",
    "Reshape the 2D array `arr` of shape `(2, 9)` into a 3D array of shape `(2, 3, 3)`. Print the array before and after reshaping to better understand what is going on."
   ]
  },
  {
   "cell_type": "code",
   "execution_count": 25,
   "id": "71307ccf-2f58-4017-8a1c-fc7ad111c26f",
   "metadata": {},
   "outputs": [
    {
     "name": "stdout",
     "output_type": "stream",
     "text": [
      "[[3 6 1 9 2 4 8 3 2]\n",
      " [0 1 6 3 7 4 3 6 1]]\n",
      "[[[3 6 1]\n",
      "  [9 2 4]\n",
      "  [8 3 2]]\n",
      "\n",
      " [[0 1 6]\n",
      "  [3 7 4]\n",
      "  [3 6 1]]]\n"
     ]
    }
   ],
   "source": [
    "arr = np.array([[3, 6, 1, 9, 2, 4, 8, 3, 2], [0, 1, 6, 3, 7, 4, 3, 6, 1]])\n",
    "\n",
    "# Your code here\n",
    "...\n",
    "\n",
    "# Solution\n",
    "print(arr)\n",
    "arr = arr.reshape(2, 3, 3)\n",
    "print(arr)"
   ]
  },
  {
   "attachments": {},
   "cell_type": "markdown",
   "id": "e6720142-3da5-4a53-89b1-c00c300295ab",
   "metadata": {},
   "source": [
    "### 3. Stacking Grades\n",
    "\n",
    "You are given three 1D arrays representing the scores of students in Math, Science, and English, respectively.\n",
    "\n",
    "1. Use `np.stack()` to combine the arrays along a new axis so that each row in the resulting array represents the scores of a single.\n",
    "2. Print the resulting array and its shape. \n",
    "\n",
    "The output should be as follows:\n",
    "\n",
    "```python\n",
    "[[85 88 87]\n",
    " [90 94 85]\n",
    " [78 80 90]\n",
    " [92 86 88]]\n",
    "Shape: (4, 3)\n",
    "```"
   ]
  },
  {
   "cell_type": "code",
   "execution_count": 26,
   "id": "e9a39819-9de9-4535-94b0-eab2b932a97d",
   "metadata": {},
   "outputs": [
    {
     "name": "stdout",
     "output_type": "stream",
     "text": [
      "Stacked Scores:\n",
      "[[85 88 87]\n",
      " [90 94 85]\n",
      " [78 80 90]\n",
      " [92 86 88]]\n",
      "Shape: (4, 3)\n"
     ]
    }
   ],
   "source": [
    "math_scores = np.array([85, 90, 78, 92])\n",
    "science_scores = np.array([88, 94, 80, 86])\n",
    "english_scores = np.array([87, 85, 90, 88])\n",
    "\n",
    "# Your code here\n",
    "stacked_scores = ...\n",
    "\n",
    "# Solution\n",
    "stacked_scores = np.stack((math_scores, science_scores, english_scores), axis=1)\n",
    "# Print the resulting array\n",
    "print(\"Stacked Scores:\")\n",
    "print(stacked_scores)\n",
    "# Verify the shape\n",
    "print(\"Shape:\", stacked_scores.shape)"
   ]
  },
  {
   "attachments": {},
   "cell_type": "markdown",
   "id": "1f0ccc9a-e7c9-4199-a98b-71d1dba3bf1f",
   "metadata": {},
   "source": [
    "### 4. °Concatenate\n",
    "\n",
    "You are given two arrays `temperatures_part1` and `temperatures_part2`, both of shape `(7, 2)`.\n",
    "\n",
    "The two arrays contains the morning temperature (first column) and evening temperature (second column) for a period of 7 days.\n",
    "\n",
    "1. Use `np.concatenate()` to combine the arrays along the vertical axis (axis 0).\n",
    "2. Print the resulting array.\n",
    "3. Verify the shape of the resulting array to ensure it has the correct dimensions `(14, 2)`."
   ]
  },
  {
   "cell_type": "code",
   "execution_count": 27,
   "id": "a65b5877-9d64-4486-9cfc-ff5bb02009a5",
   "metadata": {},
   "outputs": [
    {
     "name": "stdout",
     "output_type": "stream",
     "text": [
      "Concatenated Temperatures:\n",
      "[[15 22]\n",
      " [16 23]\n",
      " [15 21]\n",
      " [14 20]\n",
      " [13 19]\n",
      " [12 18]\n",
      " [14 21]\n",
      " [18 25]\n",
      " [17 24]\n",
      " [19 26]\n",
      " [16 23]\n",
      " [15 22]\n",
      " [14 21]\n",
      " [17 24]]\n",
      "Shape: (14, 2)\n"
     ]
    }
   ],
   "source": [
    "temperatures_part1 = np.array([[15, 22], \n",
    "                               [16, 23], \n",
    "                               [15, 21], \n",
    "                               [14, 20], \n",
    "                               [13, 19], \n",
    "                               [12, 18], \n",
    "                               [14, 21]])\n",
    "\n",
    "temperatures_part2 = np.array([[18, 25], \n",
    "                               [17, 24], \n",
    "                               [19, 26], \n",
    "                               [16, 23], \n",
    "                               [15, 22], \n",
    "                               [14, 21], \n",
    "                               [17, 24]])\n",
    "\n",
    "# Your code here\n",
    "concatenated_temperatures = ...\n",
    "\n",
    "# Solution\n",
    "concatenated_temperatures = np.concatenate((temperatures_part1, temperatures_part2), axis=0)\n",
    "# Print the resulting array\n",
    "print(\"Concatenated Temperatures:\")\n",
    "print(concatenated_temperatures)\n",
    "# Verify the shape\n",
    "print(\"Shape:\", concatenated_temperatures.shape)"
   ]
  }
 ],
 "metadata": {
  "kernelspec": {
   "display_name": "Python 3 (ipykernel)",
   "language": "python",
   "name": "python3"
  },
  "language_info": {
   "codemirror_mode": {
    "name": "ipython",
    "version": 3
   },
   "file_extension": ".py",
   "mimetype": "text/x-python",
   "name": "python",
   "nbconvert_exporter": "python",
   "pygments_lexer": "ipython3",
   "version": "3.12.3"
  }
 },
 "nbformat": 4,
 "nbformat_minor": 5
}
