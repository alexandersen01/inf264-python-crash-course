{
 "cells": [
  {
   "attachments": {},
   "cell_type": "markdown",
   "id": "8438279d-5dfb-4808-9552-8e50d506889c",
   "metadata": {},
   "source": [
    "# 2. Indexing NumPy Arrays"
   ]
  },
  {
   "cell_type": "markdown",
   "id": "3a899590-b733-48ba-ac25-039358c7ec9b",
   "metadata": {},
   "source": [
    "We start by importing NumPy under the alias `np`."
   ]
  },
  {
   "cell_type": "code",
   "execution_count": null,
   "id": "63cd7f7a-120b-48bb-bb69-058a3a693a62",
   "metadata": {},
   "outputs": [],
   "source": [
    "import numpy as np"
   ]
  },
  {
   "cell_type": "markdown",
   "id": "ac95ccd3-4063-4110-949a-cfe46aecbb65",
   "metadata": {},
   "source": [
    "NumPy arrays can be indexed in the same way we index Python lists."
   ]
  },
  {
   "cell_type": "code",
   "execution_count": 18,
   "id": "7180e6ff-958b-47a1-8f4d-b5451b0519b6",
   "metadata": {},
   "outputs": [
    {
     "name": "stdout",
     "output_type": "stream",
     "text": [
      "1\n",
      "2\n",
      "4\n"
     ]
    }
   ],
   "source": [
    "arr = np.array([1, 2, 3, 4])\n",
    "\n",
    "print(arr[0])  # First value\n",
    "print(arr[1])  # Second value\n",
    "print(arr[-1]) # Last value"
   ]
  },
  {
   "attachments": {},
   "cell_type": "markdown",
   "id": "a5202f54-7d71-4b22-82dc-664a2838eb69",
   "metadata": {},
   "source": [
    "We can also use slicing to index a subarray by `arr[start:end+1]`. You can choose the step size by using `arr[start:end+1:step]` as well."
   ]
  },
  {
   "cell_type": "code",
   "execution_count": 19,
   "id": "7385e078-5287-489d-846d-2b9d2dd4eca0",
   "metadata": {},
   "outputs": [
    {
     "name": "stdout",
     "output_type": "stream",
     "text": [
      "[1 2]\n",
      "[1 2]\n",
      "[3 4 5]\n",
      "[3 4 5 6]\n",
      "[6 5 4 3 2 1]\n"
     ]
    }
   ],
   "source": [
    "arr = np.array([1, 2, 3, 4, 5, 6])\n",
    "\n",
    "print(arr[0:2])  # First two values\n",
    "print(arr[:2])   # Does the same as above\n",
    "print(arr[2:-1]) # From index 2 to the second last value\n",
    "print(arr[2:])   # Everything starting from index 2\n",
    "print(arr[::-1]) # Reverse array"
   ]
  },
  {
   "attachments": {},
   "cell_type": "markdown",
   "id": "570bdb7c-d6c4-4fa9-ba09-cc9d2bf0c00d",
   "metadata": {},
   "source": [
    "We also want to do indexing on multidimensional NumPy arrays. The syntax is `arr[i_0, i_1, ..., i_n]` where `i_j` is the index for dimension `j`. We can do slicing also here."
   ]
  },
  {
   "cell_type": "code",
   "execution_count": 20,
   "id": "c054ddcf-aa31-44fe-a5e1-d7e152062edb",
   "metadata": {},
   "outputs": [
    {
     "name": "stdout",
     "output_type": "stream",
     "text": [
      "[[1 2 3]\n",
      " [4 5 6]\n",
      " [7 8 9]]\n",
      "5\n",
      "[1 2 3]\n",
      "[1 4 7]\n",
      "[[5 6]\n",
      " [8 9]]\n",
      "[[1 3]\n",
      " [7 9]]\n"
     ]
    }
   ],
   "source": [
    "arr = np.array([[1, 2, 3], [4, 5, 6], [7, 8, 9]])\n",
    "\n",
    "print(arr)           # Original array\n",
    "print(arr[1, 1])     # The middle value at index (1, 1)\n",
    "print(arr[0])        # First row\n",
    "print(arr[:, 0])     # First column\n",
    "print(arr[1:, 1:])   # Bottom right 2x2 square submatrix\n",
    "print(arr[::2, ::2]) # Everything but the middle \"cross\""
   ]
  },
  {
   "attachments": {},
   "cell_type": "markdown",
   "id": "751849e7-871d-4ba5-91e9-8687d989c429",
   "metadata": {},
   "source": [
    "#### Conditional Indexing\n",
    "\n",
    "We can also index using boolean arrays. One useful application is when we want to do conditional indexing. For example, the code cell below finds the indices of all entries in `arr` greater or equal to `16` and then uses this boolean array to extract those entries."
   ]
  },
  {
   "cell_type": "code",
   "execution_count": 21,
   "id": "77cf9a0c-7ce2-4eef-bbf8-f84429a740b7",
   "metadata": {},
   "outputs": [
    {
     "name": "stdout",
     "output_type": "stream",
     "text": [
      "[[  1   2   4]\n",
      " [  8  16  32]\n",
      " [ 64 128 256]]\n",
      "[[False False False]\n",
      " [False  True  True]\n",
      " [ True  True  True]]\n",
      "[ 16  32  64 128 256]\n"
     ]
    }
   ],
   "source": [
    "arr = np.array([[1, 2, 4], [8, 16, 32], [64, 128, 256]])\n",
    "idxs = (arr >= 16)\n",
    "print(arr)\n",
    "print(idxs)\n",
    "print(arr[idxs])"
   ]
  },
  {
   "attachments": {},
   "cell_type": "markdown",
   "id": "b5e75f36-0edd-4545-9511-94bb27712982",
   "metadata": {},
   "source": [
    "### Bonus: Useful Methods of Boolean Arrays\n",
    "\n",
    "**Using `arr.all()` and `arr.any()` on boolean arrays**: When you have a boolean NumPy array `arr`, you can use the methods `.all()` and `.any()` to reduce the array to a single boolean variable. The method `.all()` returns the logical AND of all the values in the array, whereas the method `.any()` returns the logical OR. We can also specify which axis we want to take the AND/OR along (see below example)."
   ]
  },
  {
   "cell_type": "code",
   "execution_count": 22,
   "id": "f9ff5935-47ee-49ce-a95c-2ae3897932e6",
   "metadata": {},
   "outputs": [
    {
     "name": "stdout",
     "output_type": "stream",
     "text": [
      "[[ True False]\n",
      " [ True False]]\n",
      "any() : True\n",
      "all() : False\n",
      "[[ True  True]\n",
      " [ True  True]]\n",
      "any() : True\n",
      "all() : True\n",
      "[[ True False]\n",
      " [ True False]]\n",
      "any(axis=0) : [ True False]\n",
      "any(axis=1) : [ True  True]\n",
      "all(axis=0) : [ True False]\n",
      "all(axis=1) : [False False]\n",
      "[[ True  True]\n",
      " [False False]]\n",
      "all(axis=0).any() : False\n",
      "[[ True False]\n",
      " [ True False]]\n",
      "all(axis=0).any() : True\n"
     ]
    }
   ],
   "source": [
    "# Over all dimensions\n",
    "arr = np.array([[True, False], [True, False]])\n",
    "print(arr)\n",
    "print(f\"any() : {arr.any()}\")\n",
    "print(f\"all() : {arr.all()}\")\n",
    "\n",
    "arr = np.array([[True, True], [True, True]])\n",
    "print(arr)\n",
    "print(f\"any() : {arr.any()}\")\n",
    "print(f\"all() : {arr.all()}\")\n",
    "\n",
    "# Along a given dimension\n",
    "arr = np.array([[True, False], [True, False]])\n",
    "print(arr)\n",
    "print(f\"any(axis=0) : {arr.any(axis=0)}\")\n",
    "print(f\"any(axis=1) : {arr.any(axis=1)}\")\n",
    "print(f\"all(axis=0) : {arr.all(axis=0)}\")\n",
    "print(f\"all(axis=1) : {arr.all(axis=1)}\")\n",
    "\n",
    "# Combination of all() and any()\n",
    "# Check if there exists at least one column with all values True\n",
    "arr = np.array([[True, True], [False, False]])\n",
    "print(arr)\n",
    "print(f\"all(axis=0).any() : {arr.all(axis=0).any()}\")\n",
    "\n",
    "arr = np.array([[True, False], [True, False]])\n",
    "print(arr)\n",
    "print(f\"all(axis=0).any() : {arr.all(axis=0).any()}\")"
   ]
  },
  {
   "attachments": {},
   "cell_type": "markdown",
   "id": "f7d4e6dc-b2aa-40b4-bbba-224d9323e2fb",
   "metadata": {},
   "source": [
    "## Exercises\n",
    "\n",
    "### 1. Indexing and Slicing a Matrix (2D-array)\n",
    "\n",
    "First, create a NumPy array named `arr` storing the matrix $A=\\begin{pmatrix}1&2&3\\\\4&5&6\\\\7&8&9\\end{pmatrix}$.\n",
    "\n",
    "Then use indexing and slicing to perform the following tasks:\n",
    "\n",
    "1. Store the centre value of $A$, i.e., the value at index $(1,1)$ to a variable named `centre_value`.\n",
    "2. Store the second row of $A$, i.e., the array `[4, 5, 6]`, in a variable named `second_row`.\n",
    "3. Store the last column of $A$, i.e., the array `[3, 6, 9]`, in a variable named `last_column`.\n",
    "4. Store the bottom left $2\\times2$ sub-matrix of $A$, i.e., the array `[[4, 5], [7, 8]]` in a variable named `bottom_left_submatrix`."
   ]
  },
  {
   "cell_type": "code",
   "execution_count": 23,
   "id": "2fa032ee-c834-4912-b942-e3f9ce0b4701",
   "metadata": {},
   "outputs": [
    {
     "name": "stdout",
     "output_type": "stream",
     "text": [
      "All test passed!\n"
     ]
    }
   ],
   "source": [
    "# Your code here\n",
    "arr = ...\n",
    "centre_value = ...\n",
    "second_row = ...\n",
    "last_column = ...\n",
    "bottom_left_submatrix = ...\n",
    "\n",
    "# Solution:\n",
    "arr = np.array([[1, 2, 3], [4, 5, 6], [7, 8, 9]])\n",
    "centre_value = arr[1,1]\n",
    "second_row = arr[1]\n",
    "last_column = arr[:, -1]\n",
    "bottom_left_submatrix = arr[1:,:2]\n",
    "\n",
    "# Automatic tests:\n",
    "assert (arr == np.arange(1, 10).reshape(3, 3)).all()\n",
    "assert centre_value == 5\n",
    "assert (second_row == np.array([4, 5, 6])).all()\n",
    "assert (last_column == np.array([3, 6, 9])).all()\n",
    "assert (bottom_left_submatrix == np.array([[4, 5], [7, 8]])).all()\n",
    "print(\"All test passed!\")"
   ]
  },
  {
   "attachments": {},
   "cell_type": "markdown",
   "id": "f786f9a7-3ac6-4241-b439-2334d3cd8e42",
   "metadata": {},
   "source": [
    "### 3. Find All Values Over a Given Threshold\n",
    "\n",
    "Write a function `return_values_over_threshold(arr, threshold)` that takes in a NumPy array `arr` and a float `threshold`, and returns a NumPy array containing those values in `arr` *greater than or equal to* `threshold`. \n",
    "\n",
    "**NB! Do not use any loops for this task.** Vectorizing our code speeds up things and is one of the main reasons we use NumPy."
   ]
  },
  {
   "cell_type": "code",
   "execution_count": 24,
   "id": "0c979a96-472b-44da-9675-201d2bec3acb",
   "metadata": {},
   "outputs": [
    {
     "name": "stdout",
     "output_type": "stream",
     "text": [
      "All test passed!\n"
     ]
    }
   ],
   "source": [
    "def return_values_over_threshold(arr: np.ndarray, threshold: float):\n",
    "    ...\n",
    "\n",
    "# Solution:\n",
    "def return_values_over_threshold(arr: np.ndarray, threshold: float):\n",
    "    idxs = (arr >= threshold)\n",
    "    return arr[idxs]\n",
    "\n",
    "# Automatic tests\n",
    "arr = np.array([-3, 4, -1, 5, 7, 12, 0, -8, 4, -3, 1])\n",
    "threshold = -0.5\n",
    "result = return_values_over_threshold(arr, threshold)\n",
    "assert (result == np.array([4, 5, 7, 12, 0, 4, 1])).all()\n",
    "\n",
    "arr = np.array([[17, 16, 38], [14, 1, 20], [43, 11, 23], [31, 15, 18]])\n",
    "threshold = 16\n",
    "result = return_values_over_threshold(arr, threshold)\n",
    "assert (result == np.array([17, 16, 38, 20, 43, 23, 31, 18])).all()\n",
    "\n",
    "print(\"All test passed!\")"
   ]
  }
 ],
 "metadata": {
  "kernelspec": {
   "display_name": "Python 3 (ipykernel)",
   "language": "python",
   "name": "python3"
  },
  "language_info": {
   "codemirror_mode": {
    "name": "ipython",
    "version": 3
   },
   "file_extension": ".py",
   "mimetype": "text/x-python",
   "name": "python",
   "nbconvert_exporter": "python",
   "pygments_lexer": "ipython3",
   "version": "3.12.3"
  }
 },
 "nbformat": 4,
 "nbformat_minor": 5
}
