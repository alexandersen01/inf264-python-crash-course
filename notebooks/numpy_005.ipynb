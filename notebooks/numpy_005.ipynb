{
 "cells": [
  {
   "attachments": {},
   "cell_type": "markdown",
   "id": "d96bc7e1-61cf-4f70-8c31-9c7b7aa6b0fe",
   "metadata": {},
   "source": [
    "# 5. Matrix and Vector Algebra in NumPy"
   ]
  },
  {
   "cell_type": "markdown",
   "id": "c73c0e4a-535d-4183-92ac-36fcbfa13aa0",
   "metadata": {},
   "source": [
    "We start by importing NumPy under the alias `np`."
   ]
  },
  {
   "cell_type": "code",
   "execution_count": 1,
   "id": "88996bbf-3269-4b7e-b3ff-ca0ec6e824f4",
   "metadata": {},
   "outputs": [],
   "source": [
    "import numpy as np"
   ]
  },
  {
   "cell_type": "markdown",
   "id": "ce72cf22-a563-473e-8e36-4a37c82460ff",
   "metadata": {},
   "source": [
    "NumPy can also perform matrix multiplication and dot products instead of the element-wise operations we have seen so far.\n",
    "\n",
    "In this example, we first create two matrices $A=\\begin{pmatrix}1&2&3\\\\4&5&6\\end{pmatrix}$ and $B=\\begin{pmatrix}2&4\\\\6&8\\\\10&12\\end{pmatrix}$ as NumPy arrays and then compute their [matrix product](https://en.wikipedia.org/wiki/Matrix_multiplication) $AB$. You can either use the shorthand syntax `A @ B` or `np.matmul(A, B)` as these are the same.\n",
    "\n",
    "For 2D arrays, we can also compute the matrix product by `np.dot(A, B)`."
   ]
  },
  {
   "cell_type": "code",
   "execution_count": 2,
   "id": "8b11005f-c87d-42b6-bcf6-1f9b51552afd",
   "metadata": {},
   "outputs": [
    {
     "name": "stdout",
     "output_type": "stream",
     "text": [
      "[[1 2 3]\n",
      " [4 5 6]]\n",
      "[[ 2  4]\n",
      " [ 6  8]\n",
      " [10 12]]\n",
      "[[ 44  56]\n",
      " [ 98 128]]\n",
      "[[ 44  56]\n",
      " [ 98 128]]\n",
      "[[ 44  56]\n",
      " [ 98 128]]\n"
     ]
    }
   ],
   "source": [
    "A = np.array([[1, 2, 3], [4, 5, 6]])\n",
    "B = np.array([[2, 4], [6, 8], [10, 12]])\n",
    "\n",
    "print(A)\n",
    "print(B)\n",
    "\n",
    "# These are all equivalent for 2D-arrays:\n",
    "print(A @ B)\n",
    "print(np.matmul(A, B))\n",
    "print(np.dot(A, B))"
   ]
  },
  {
   "attachments": {},
   "cell_type": "markdown",
   "id": "29c94e11-dfd3-4510-aa19-170ebc6fd4ff",
   "metadata": {},
   "source": [
    "We can also do matrix-vector multiplication $Ax$ for a vector $x$. This is just a special case of matrix multiplication, really. \n",
    "\n",
    "Notice that if we try to use `*` instead of the `@`, the vector `x` is broadcast, and we end up with a new matrix with the same shape as `A`.\n",
    "\n",
    "We can also use `np.dot()` to compute the dot-product $x\\cdot y$ between two vectors. Alternatively, we can use matrix multiplication for computing the dot product as well since $x\\cdot y = x^T y$."
   ]
  },
  {
   "cell_type": "code",
   "execution_count": 3,
   "id": "6fe36ac3-9e4c-44b1-82b2-c89f8b5a6e48",
   "metadata": {},
   "outputs": [
    {
     "name": "stdout",
     "output_type": "stream",
     "text": [
      "[ 5 11 17]\n",
      "[[ 1 -2  6]\n",
      " [ 4 -5 12]\n",
      " [ 7 -8 18]]\n",
      "[ 5 11 17]\n",
      "[ 5 11 17]\n",
      "-4\n",
      "-4\n"
     ]
    }
   ],
   "source": [
    "A = np.array([[1, 2, 3], [4, 5, 6], [7, 8, 9]])\n",
    "x = np.array([1, -1, 2])\n",
    "\n",
    "print(A @ x)           # Compute Ax matrix-vector product\n",
    "print(A * x)           # NB! This is not the same as the previous line\n",
    "print(np.matmul(A, x)) # But this computes Ax ...\n",
    "print(np.dot(A, x))    # ...and this too.\n",
    "\n",
    "# Compute dot-product of x and y\n",
    "y = np.array([-1, 3, 0])\n",
    "print(np.dot(x, y))\n",
    "print(x.T @ y) # Equivalent way of computing the dot product"
   ]
  },
  {
   "attachments": {},
   "cell_type": "markdown",
   "id": "82338b16-a12f-458f-a7af-8798f1f9d1ca",
   "metadata": {},
   "source": [
    "For more advanced use of `np.matmul()` on higher-dimensional arrays see the [documentation](https://numpy.org/doc/stable/reference/generated/numpy.matmul.html). Many high-dimensional operations can also be implemented using NumPy's `einsum()` function ([documentation](https://numpy.org/doc/stable/reference/generated/numpy.einsum.html))."
   ]
  },
  {
   "attachments": {},
   "cell_type": "markdown",
   "id": "9e1b1d08-adf0-4477-bb7a-2da135baa5bb",
   "metadata": {},
   "source": [
    "Here are a few more matrix related functions provided by NumPy."
   ]
  },
  {
   "cell_type": "code",
   "execution_count": 4,
   "id": "40c099c4-0c3d-4701-9cc5-e19df0368eb8",
   "metadata": {},
   "outputs": [
    {
     "name": "stdout",
     "output_type": "stream",
     "text": [
      "[1 5 9]\n",
      "15\n",
      "[[ 0.32978723  0.14893617 -0.0106383 ]\n",
      " [ 0.0212766   0.10638298  0.06382979]\n",
      " [ 0.23758865  0.0212766   0.04609929]]\n",
      "282.00000000000006\n"
     ]
    }
   ],
   "source": [
    "A = np.array([[1, -2, 3], [4, 5, -6], [-7, 8, 9]])\n",
    "\n",
    "# Get the diagonal of A\n",
    "print(A.diagonal()) # or np.diag(A)\n",
    "\n",
    "# Compute trace (sum of diagonal)\n",
    "print(A.trace())    # or np.trace(A) or A.diagonal().sum()\n",
    "\n",
    "# Compute the inverse of the matrix A\n",
    "print(np.linalg.inv(A))\n",
    "\n",
    "# Print the determinant of A\n",
    "print(np.linalg.det(A))"
   ]
  },
  {
   "attachments": {},
   "cell_type": "markdown",
   "id": "4ebf59ad-8d75-44d5-9452-8fc30c3cfaf3",
   "metadata": {},
   "source": [
    "## Exercises\n",
    "\n",
    "### 1. Element-wise Operations vs. Matrix Multiplication\n",
    "\n",
    "Perform element-wise multiplication and matrix multiplication for given matrices A and B. Print the results and see how the two operations differ."
   ]
  },
  {
   "cell_type": "code",
   "execution_count": 5,
   "id": "abb2a2da-df25-446a-a886-f898b589f706",
   "metadata": {},
   "outputs": [
    {
     "name": "stdout",
     "output_type": "stream",
     "text": [
      "[[ 5 12]\n",
      " [21 32]]\n",
      "[[19 22]\n",
      " [43 50]]\n"
     ]
    }
   ],
   "source": [
    "A = np.array([[1, 2], \n",
    "              [3, 4]])\n",
    "B = np.array([[5, 6], \n",
    "              [7, 8]])\n",
    "\n",
    "# Your code here\n",
    "elementwise_product = ...\n",
    "matrix_product = ...\n",
    "\n",
    "# Solution\n",
    "elementwise_product = A * B\n",
    "matrix_product = np.dot(A, B)\n",
    "\n",
    "print(elementwise_product)\n",
    "print(matrix_product)"
   ]
  },
  {
   "attachments": {},
   "cell_type": "markdown",
   "id": "4eb1043d-c659-4311-9ea3-2f546f3eb633",
   "metadata": {},
   "source": [
    "### Properties of Matrix Multiplication\n",
    "\n",
    "Recall that matrix multiplication is what we call *associative*. This simply means that $A(BC)=(AB)C$. In other words, multiplying $B$ and $C$ first and then multiply the result with $A$ is the same as first multiplying $A$ and $B$, and then multiplying the result with $C$.\n",
    "\n",
    "Also recall that matrix multiplication is **not** *commutative*. That is, it is not always true that $AB\\neq BA$.\n",
    "\n",
    "1. Compute $A(BC)$ and $(AB)C$ using NumPy and check that the resulting matrices are equal.\n",
    "2. Compute $AB$ and $BA$ using NumPy and verify that the two products are different."
   ]
  },
  {
   "cell_type": "code",
   "execution_count": 6,
   "id": "2bbb721c-c42b-4753-9712-7555e13ec31a",
   "metadata": {},
   "outputs": [
    {
     "name": "stdout",
     "output_type": "stream",
     "text": [
      "True\n",
      "False\n"
     ]
    }
   ],
   "source": [
    "A = np.array([[1, 2], \n",
    "              [3, 4]])\n",
    "B = np.array([[5, 6], \n",
    "              [7, 8]])\n",
    "C = np.array([[9, 10], \n",
    "              [11, 12]])\n",
    "\n",
    "# Your code here\n",
    "ABC1 = ...\n",
    "ABC2 = ...\n",
    "\n",
    "AB = ...\n",
    "BA = ...\n",
    "\n",
    "# Solution\n",
    "ABC1 = A @ (B @ C)\n",
    "ABC2 = (A @ B) @ C\n",
    "print((ABC1 == ABC2).all())\n",
    "\n",
    "AB = A @ B\n",
    "BA = B @ A\n",
    "print((AB == BA).all())"
   ]
  },
  {
   "attachments": {},
   "cell_type": "markdown",
   "id": "29974743-e87a-4db5-be5a-ca0d00d8a5e5",
   "metadata": {},
   "source": [
    "### 3. Solve Linear System of Equations\n",
    "\n",
    "Solve the equation $Ax=b$ where $A=\\begin{pmatrix}1&4&-1\\\\2&-5&0\\\\5&-1&-2\\end{pmatrix}$ and $b=\\begin{pmatrix}8\\\\2\\\\4\\end{pmatrix}$ using NumPy.\n",
    "\n",
    "**Hint:** Use `np.linalg.inv()` to find the inverse $A^{-1}$ of $A$. Then use matrix-vector multiplication to compute $x=A^{-1}Ax=A^{-1}b$ to solve for $x$.\n",
    "\n",
    "You can compare your answer to the one you get using `np.linalg.solve(A, b)`."
   ]
  },
  {
   "cell_type": "code",
   "execution_count": 7,
   "id": "4ff26f68-5dc6-4db8-9c7c-574d38d17287",
   "metadata": {},
   "outputs": [
    {
     "name": "stdout",
     "output_type": "stream",
     "text": [
      "[26. 10. 58.]\n",
      "True\n"
     ]
    }
   ],
   "source": [
    "A = np.array([[1,  4, -1],\n",
    "              [2, -5,  0],\n",
    "              [5, -1, -2]])\n",
    "\n",
    "b = np.array([8, 2, 4])\n",
    "\n",
    "# You code here\n",
    "A_inv = ...\n",
    "x = ...\n",
    "\n",
    "# Solution\n",
    "A_inv = np.linalg.inv(A)\n",
    "x = A_inv @ b\n",
    "print(x)\n",
    "x_2 = np.linalg.solve(A, b)\n",
    "print(np.allclose(x_2, x)) # Check that the solutions are approximately equal"
   ]
  }
 ],
 "metadata": {
  "kernelspec": {
   "display_name": "Python 3 (ipykernel)",
   "language": "python",
   "name": "python3"
  },
  "language_info": {
   "codemirror_mode": {
    "name": "ipython",
    "version": 3
   },
   "file_extension": ".py",
   "mimetype": "text/x-python",
   "name": "python",
   "nbconvert_exporter": "python",
   "pygments_lexer": "ipython3",
   "version": "3.12.3"
  }
 },
 "nbformat": 4,
 "nbformat_minor": 5
}
