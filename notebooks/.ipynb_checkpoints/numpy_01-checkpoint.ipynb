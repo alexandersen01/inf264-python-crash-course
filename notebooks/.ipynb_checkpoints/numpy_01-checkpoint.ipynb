{
 "cells": [
  {
   "cell_type": "code",
   "execution_count": 19,
   "id": "b0d1dabc-a755-4cb1-8eee-405e75a97013",
   "metadata": {},
   "outputs": [],
   "source": [
    "import numpy as np"
   ]
  },
  {
   "cell_type": "markdown",
   "id": "622ae026-9c45-46a6-8d5c-906dabb133ba",
   "metadata": {},
   "source": [
    "# 1. Creating NumPy Arrays\n",
    "\n",
    "There are numerous ways you can create NumPy arrays. For example, you can create an array from a Python list as follows:"
   ]
  },
  {
   "cell_type": "code",
   "execution_count": 20,
   "id": "bb1f0959-8054-4deb-abe5-6d42aedd2ba6",
   "metadata": {},
   "outputs": [
    {
     "name": "stdout",
     "output_type": "stream",
     "text": [
      "[1 2 3]\n"
     ]
    }
   ],
   "source": [
    "a = [1, 2, 3]\n",
    "arr = np.array(a)\n",
    "print(arr)"
   ]
  },
  {
   "cell_type": "markdown",
   "id": "3740724e-08ee-4836-8553-efa4b4b8ad01",
   "metadata": {},
   "source": [
    "NumPy arrays can be multidimensional. For example, we can create an array `arr` storing the matrix $\\begin{pmatrix}1 & 2\\\\4 & 5\\end{pmatrix}$ as follows:"
   ]
  },
  {
   "cell_type": "code",
   "execution_count": 21,
   "id": "62fd2a4b-aed8-4ac5-93cc-044d87af58da",
   "metadata": {},
   "outputs": [
    {
     "name": "stdout",
     "output_type": "stream",
     "text": [
      "[[1 2]\n",
      " [4 5]]\n"
     ]
    }
   ],
   "source": [
    "arr = np.array([[1, 2], [4, 5]])\n",
    "print(arr)"
   ]
  },
  {
   "cell_type": "markdown",
   "id": "96013437-844b-4ad7-b2f5-b0e170b740b6",
   "metadata": {},
   "source": [
    "To create an array containing only zeros, we use `np.zeros()`. The `shape` argument expects a tuple determining the shape of the zero array."
   ]
  },
  {
   "cell_type": "code",
   "execution_count": 22,
   "id": "7471bed2-1d28-4aea-928f-64ca2257cd68",
   "metadata": {},
   "outputs": [
    {
     "name": "stdout",
     "output_type": "stream",
     "text": [
      "arr1 = \n",
      "[0. 0.]\n",
      "\n",
      "arr2 = \n",
      "[[0. 0.]\n",
      " [0. 0.]\n",
      " [0. 0.]]\n",
      "\n",
      "arr3 = \n",
      "[[[0. 0.]\n",
      "  [0. 0.]\n",
      "  [0. 0.]]\n",
      "\n",
      " [[0. 0.]\n",
      "  [0. 0.]\n",
      "  [0. 0.]]]\n",
      "\n"
     ]
    }
   ],
   "source": [
    "arr1 = np.zeros(2) # or np.zeros(shape=(2,))\n",
    "arr2 = np.zeros(shape=(3, 2)) # 3x2 matrix\n",
    "arr3 = np.zeros(shape=(2, 3, 2)) # A 3-dimensional array\n",
    "\n",
    "print(f\"arr1 = \\n{arr1}\\n\")\n",
    "print(f\"arr2 = \\n{arr2}\\n\")\n",
    "print(f\"arr3 = \\n{arr3}\\n\")"
   ]
  },
  {
   "cell_type": "markdown",
   "id": "26fe3064-ffb5-47c8-875d-126448faea88",
   "metadata": {},
   "source": [
    "Similarly, we can create a new array containing only ones using `np.ones()`."
   ]
  },
  {
   "cell_type": "code",
   "execution_count": 23,
   "id": "3e3add0b-d626-43c1-950b-11ad1b2eff42",
   "metadata": {},
   "outputs": [
    {
     "name": "stdout",
     "output_type": "stream",
     "text": [
      "[[1. 1.]\n",
      " [1. 1.]\n",
      " [1. 1.]]\n"
     ]
    }
   ],
   "source": [
    "arr2 = np.ones(shape=(3, 2))\n",
    "print(arr2)"
   ]
  },
  {
   "cell_type": "markdown",
   "id": "899c3938-7330-457a-b9ac-5a7b74bfa6f7",
   "metadata": {},
   "source": [
    "The function `np.empty()` creates a new NumPy array and is very fast. But be aware that we do not know which values it will contain, as it just allocates some memory for your array. It is useful if we are going to fill in the values ourselves later."
   ]
  },
  {
   "cell_type": "code",
   "execution_count": 24,
   "id": "1851c9fb-fd99-4b32-92b0-b16aec816e25",
   "metadata": {},
   "outputs": [
    {
     "name": "stdout",
     "output_type": "stream",
     "text": [
      "[ 0.  2.  4.  6.  8. 10. 12. 14. 16. 18.]\n"
     ]
    }
   ],
   "source": [
    "arr = np.empty(10)\n",
    "\n",
    "for i in range(10):\n",
    "    arr[i] = 2 * i\n",
    "\n",
    "print(arr)"
   ]
  },
  {
   "cell_type": "markdown",
   "id": "7eb7d541-3dcd-4294-a75f-6f1e4e3f008a",
   "metadata": {},
   "source": [
    "There is also a dedicated function `np.eye(n)` returning the $n\\times n$ identity matrix (ones on the diagonal, zeros everywhere else)."
   ]
  },
  {
   "cell_type": "code",
   "execution_count": 25,
   "id": "779cf856-e102-4121-909c-a1af2c90a66a",
   "metadata": {},
   "outputs": [
    {
     "name": "stdout",
     "output_type": "stream",
     "text": [
      "[[1. 0. 0. 0.]\n",
      " [0. 1. 0. 0.]\n",
      " [0. 0. 1. 0.]\n",
      " [0. 0. 0. 1.]]\n"
     ]
    }
   ],
   "source": [
    "arr = np.eye(4) # 4x4 identity matrix\n",
    "print(arr)"
   ]
  },
  {
   "cell_type": "markdown",
   "id": "16677662-79c3-42ef-a052-3a721271c189",
   "metadata": {},
   "source": [
    "NumPy's `np.arange()` is similar to Python's `range()` function but returns a NumPy array instead of a Python list."
   ]
  },
  {
   "cell_type": "code",
   "execution_count": 26,
   "id": "c0cb4f53-57b0-43c6-b0ff-6b672c7e2e8f",
   "metadata": {},
   "outputs": [
    {
     "name": "stdout",
     "output_type": "stream",
     "text": [
      "arr1 = [0 1 2 3 4 5 6 7 8 9]\n",
      "arr2 = [2 3 4 5 6]\n",
      "arr3 = [1 3 5 7 9]\n",
      "arr4 = [5 4 3 2 1]\n"
     ]
    }
   ],
   "source": [
    "arr1 = np.arange(10)\n",
    "arr2 = np.arange(2, 7)\n",
    "arr3 = np.arange(1, 11, 2)\n",
    "arr4 = np.arange(5, 0, -1)\n",
    "\n",
    "print(f\"arr1 = {arr1}\")\n",
    "print(f\"arr2 = {arr2}\")\n",
    "print(f\"arr3 = {arr3}\")\n",
    "print(f\"arr4 = {arr4}\")"
   ]
  },
  {
   "cell_type": "markdown",
   "id": "c155e8f2-49bb-4d89-b239-df446f070580",
   "metadata": {},
   "source": [
    "To create an evenly spaced 1-dimensional grid, we can use `np.linspace()`. For example, if we want a grid with $11$ points on the interval $[-1, 1]$, we can do as follows:"
   ]
  },
  {
   "cell_type": "code",
   "execution_count": 27,
   "id": "48e18f70-edd3-4f76-b3ee-cbd7f6849457",
   "metadata": {},
   "outputs": [
    {
     "name": "stdout",
     "output_type": "stream",
     "text": [
      "[-1.  -0.8 -0.6 -0.4 -0.2  0.   0.2  0.4  0.6  0.8  1. ]\n"
     ]
    }
   ],
   "source": [
    "arr = np.linspace(-1, 1, 11)\n",
    "print(arr)"
   ]
  },
  {
   "cell_type": "markdown",
   "id": "eec66a50-bd23-4de8-969e-65b2a3bd6d8e",
   "metadata": {},
   "source": [
    "### Shape and data types of NumPy Arrays\n",
    "\n",
    "There are two important properties of NumPy arrays we should know about. Namely, the `dtype` describing the array's data type and the `shape` describing its shape."
   ]
  },
  {
   "cell_type": "code",
   "execution_count": 28,
   "id": "8cebdc54-58c2-466f-867b-317cdba91394",
   "metadata": {},
   "outputs": [
    {
     "name": "stdout",
     "output_type": "stream",
     "text": [
      "[1 2 3]\n",
      "dtype: int64\n",
      "shape: (3,)\n"
     ]
    }
   ],
   "source": [
    "arr = np.array([1, 2, 3])\n",
    "\n",
    "print(arr)\n",
    "print(f\"dtype: {arr.dtype}\")\n",
    "print(f\"shape: {arr.shape}\")"
   ]
  },
  {
   "cell_type": "markdown",
   "id": "8064a30d-e80f-4bf9-b8ef-b54996861a0a",
   "metadata": {},
   "source": [
    "Here is another example where we use `np.random.uniform()` to create a random NumPy array with shape $(2, 4, 3)$ sampled uniformly from the interval $[0, 1)$. You can read more about NumPy's random module [here (link)](https://numpy.org/doc/stable/reference/random/index.html)."
   ]
  },
  {
   "cell_type": "code",
   "execution_count": 29,
   "id": "7b73d91d-d89d-4833-9d66-174263f58f6b",
   "metadata": {},
   "outputs": [
    {
     "name": "stdout",
     "output_type": "stream",
     "text": [
      "[[[0.15256723 0.5948419  0.11516663]\n",
      "  [0.26836692 0.91964718 0.4329172 ]\n",
      "  [0.29037309 0.72806425 0.33027702]\n",
      "  [0.96835233 0.69820194 0.24838196]]\n",
      "\n",
      " [[0.48014614 0.73374074 0.51178334]\n",
      "  [0.53888055 0.71993832 0.37497574]\n",
      "  [0.40460691 0.27008941 0.86002769]\n",
      "  [0.17652986 0.58112845 0.380758  ]]]\n",
      "dtype: float64\n",
      "shape: (2, 4, 3)\n"
     ]
    }
   ],
   "source": [
    "arr = np.random.uniform(size=(2, 4, 3))\n",
    "print(arr)\n",
    "print(f\"dtype: {arr.dtype}\")\n",
    "print(f\"shape: {arr.shape}\")"
   ]
  },
  {
   "cell_type": "markdown",
   "id": "fe90f6b2-f1e3-4d43-ba00-51cb2c7a9163",
   "metadata": {},
   "source": [
    "NumPy arrays can also store boolean and string values."
   ]
  },
  {
   "cell_type": "code",
   "execution_count": 30,
   "id": "cee19b08-eaab-4f59-b4dc-05d54577d10d",
   "metadata": {},
   "outputs": [
    {
     "name": "stdout",
     "output_type": "stream",
     "text": [
      "arr1:\n",
      "[[ True False]\n",
      " [False False]]\n",
      "dtype: bool\n",
      "shape: (2, 2)\n",
      "\n",
      "arr2:\n",
      "[['Hel']\n",
      " ['lo']\n",
      " ['wo']\n",
      " ['rld']]\n",
      "dtype: <U3\n",
      "shape: (4, 1)\n"
     ]
    }
   ],
   "source": [
    "arr1 = np.array([[True, False], [False, False]])\n",
    "arr2 = np.array([[\"Hel\"], [\"lo\"], [\"wo\"], [\"rld\"]])\n",
    "\n",
    "print(\"arr1:\")\n",
    "print(arr1)\n",
    "print(f\"dtype: {arr1.dtype}\")\n",
    "print(f\"shape: {arr1.shape}\")\n",
    "\n",
    "print(\"\\narr2:\")\n",
    "print(arr2)\n",
    "print(f\"dtype: {arr2.dtype}\")\n",
    "print(f\"shape: {arr2.shape}\")"
   ]
  },
  {
   "cell_type": "markdown",
   "id": "5133c325-823d-4e39-9987-1c6a80a94b09",
   "metadata": {},
   "source": [
    "By calling `len()` on a NumPy array, we get the size of the first dimension, so `len(arr)` is equivalent to `arr.shape[0]`."
   ]
  },
  {
   "cell_type": "code",
   "execution_count": 31,
   "id": "4db1a1d3-e0d1-47b2-a9c0-8d3b6118c3e6",
   "metadata": {},
   "outputs": [
    {
     "name": "stdout",
     "output_type": "stream",
     "text": [
      "(4, 2)\n",
      "4\n"
     ]
    }
   ],
   "source": [
    "arr = np.array([[1, 2], [3, 4], [5, 6], [7, 8]])\n",
    "print(arr.shape)\n",
    "print(len(arr))"
   ]
  },
  {
   "cell_type": "markdown",
   "id": "2cd5d9ea-2c8b-4bee-afde-d074be563db7",
   "metadata": {},
   "source": [
    "For more details about NumPy data types, see [here (link)](https://numpy.org/doc/stable/user/basics.types.html). To convert an array from one data type to another, one can use `np.ndarray.astype()`. "
   ]
  },
  {
   "cell_type": "code",
   "execution_count": 32,
   "id": "86a0b1b3-e54c-449d-a9d6-398bbc3ee5a1",
   "metadata": {},
   "outputs": [
    {
     "name": "stdout",
     "output_type": "stream",
     "text": [
      "['2.1' '3.6']\n",
      "[2.1 3.6]\n",
      "[2 3]\n"
     ]
    }
   ],
   "source": [
    "arr = np.array([\"2.1\", \"3.6\"])\n",
    "print(arr)\n",
    "\n",
    "arr = arr.astype(np.float64)\n",
    "print(arr)\n",
    "\n",
    "arr = arr.astype(np.int64)\n",
    "print(arr)"
   ]
  },
  {
   "cell_type": "markdown",
   "id": "7eeb874e-be1e-4a8d-bb95-010e57b2b869",
   "metadata": {},
   "source": [
    "## Exercises"
   ]
  },
  {
   "cell_type": "markdown",
   "id": "22d20fbe-12bd-4da5-9a3a-c7f2c21078b9",
   "metadata": {},
   "source": [
    "### 1. CSV Data to NumPy Array\n",
    "\n",
    "The variable `csv_content` contains comma separated CSV data.  Convert this to a NumPy array `arr` of shape `(3, 4)` with `dtype=np.float64`."
   ]
  },
  {
   "cell_type": "code",
   "execution_count": 33,
   "id": "9732452c-e2ba-4f09-8dc0-fbeca0321511",
   "metadata": {},
   "outputs": [
    {
     "name": "stdout",
     "output_type": "stream",
     "text": [
      "All test passed!\n"
     ]
    }
   ],
   "source": [
    "csv_content = \"1.5,2.2,7.5,0.1\\n1.2,7.0,8.9,7.5\\n5.5,9.9,9.5,3.4\"\n",
    "\n",
    "# Your code here...\n",
    "arr = ...\n",
    "\n",
    "# Solution\n",
    "arr = np.array([row.split(\",\") for row in csv_content.split(\"\\n\")]).astype(np.float64)\n",
    "\n",
    "# Automatic tests:\n",
    "assert (arr == np.array([[1.5, 2.2, 7.5, 0.1], [1.2, 7.,  8.9, 7.5], [5.5, 9.9, 9.5, 3.4]])).all()\n",
    "assert arr.shape == (3, 4)\n",
    "assert arr.dtype == np.float64\n",
    "print(\"All test passed!\")"
   ]
  },
  {
   "cell_type": "markdown",
   "id": "1dcdfcaa-16bd-45b6-8e27-492b4887df68",
   "metadata": {},
   "source": [
    "### 2. Function Values on a Grid\n",
    "\n",
    "Use `np.linspace()` to create a grid `X` on $[0, 2\\pi]$ with $8$ points (NumPy provides $\\pi$ as a constant `np.pi`).\n",
    "\n",
    "Then use `np.cos` on `X` and store the result in a variable `y`. Calling `np.cos(X)` will compute `cos(x)` element-wise on `X` and return an array of the same shape as `X`."
   ]
  },
  {
   "cell_type": "code",
   "execution_count": 34,
   "id": "2f454920-52c8-4b5d-95e7-e4f765608463",
   "metadata": {},
   "outputs": [
    {
     "name": "stdout",
     "output_type": "stream",
     "text": [
      "All test passed!\n"
     ]
    }
   ],
   "source": [
    "# Your code here\n",
    "X = ...\n",
    "y = ...\n",
    "\n",
    "# Solution\n",
    "X = np.linspace(0, 2 * np.pi, 8)\n",
    "y = np.cos(X)\n",
    "\n",
    "# Automatic tests:\n",
    "assert np.allclose(X, np.array([0.0, 0.8975979010256552, 1.7951958020513104, 2.6927937030769655, 3.5903916041026207, 4.487989505128276, 5.385587406153931, 6.283185307179586]))\n",
    "assert np.allclose(y, np.array([1., 0.6234898, -0.22252093, -0.90096887, -0.90096887, -0.22252093, 0.6234898, 1.]))\n",
    "assert X.shape == y.shape == (8,)\n",
    "assert X.dtype == y.dtype == np.float_\n",
    "print(\"All test passed!\")"
   ]
  },
  {
   "cell_type": "markdown",
   "id": "f3996b65-4a9d-43fc-a095-1eac22c3a7a4",
   "metadata": {},
   "source": [
    "### 3. Saving and Loading NumPy Arrays\n",
    "\n",
    "NumPy comes with the functions `np.save()` ([documentation](https://numpy.org/doc/stable/reference/generated/numpy.save.html)) and `np.load()` ([documentation](https://numpy.org/doc/stable/reference/generated/numpy.load.html)).\n",
    "\n",
    "Create a NumPy array of shape `(4, 2, 2)` containing only ones using `np.ones()` and save it to a file named `ones_array.npy` using `np.save()`."
   ]
  },
  {
   "cell_type": "code",
   "execution_count": 35,
   "id": "fe820a8a-e783-4fbd-af24-fa99ef584ea5",
   "metadata": {},
   "outputs": [
    {
     "name": "stdout",
     "output_type": "stream",
     "text": [
      "All test passed!\n"
     ]
    }
   ],
   "source": [
    "# Your code here\n",
    "\n",
    "# Solution\n",
    "arr = np.ones(shape=(4, 2, 2))\n",
    "np.save(\"ones_array.npy\", arr)\n",
    "\n",
    "# Automatic test:\n",
    "arr = np.load(\"ones_array.npy\")\n",
    "assert np.allclose(arr, np.array([[[1., 1.], [1., 1.]], [[1., 1.], [1., 1.]], [[1., 1.], [1., 1.]], [[1., 1.], [1., 1.]]]))\n",
    "print(\"All test passed!\")"
   ]
  },
  {
   "cell_type": "markdown",
   "id": "8438279d-5dfb-4808-9552-8e50d506889c",
   "metadata": {},
   "source": [
    "# 2. Indexing NumPy Arrays\n",
    "\n",
    "NumPy arrays can be indexed in the same way we index Python lists."
   ]
  },
  {
   "cell_type": "code",
   "execution_count": 36,
   "id": "7180e6ff-958b-47a1-8f4d-b5451b0519b6",
   "metadata": {},
   "outputs": [
    {
     "name": "stdout",
     "output_type": "stream",
     "text": [
      "1\n",
      "2\n",
      "4\n"
     ]
    }
   ],
   "source": [
    "arr = np.array([1, 2, 3, 4])\n",
    "\n",
    "print(arr[0])  # First value\n",
    "print(arr[1])  # Second value\n",
    "print(arr[-1]) # Last value"
   ]
  },
  {
   "cell_type": "markdown",
   "id": "a5202f54-7d71-4b22-82dc-664a2838eb69",
   "metadata": {},
   "source": [
    "We can also use slicing to index a subarray by `arr[start:end+1]`. You can choose the step size by using `arr[start:end+1:step]` as well."
   ]
  },
  {
   "cell_type": "code",
   "execution_count": 37,
   "id": "7385e078-5287-489d-846d-2b9d2dd4eca0",
   "metadata": {},
   "outputs": [
    {
     "name": "stdout",
     "output_type": "stream",
     "text": [
      "[1 2]\n",
      "[1 2]\n",
      "[3 4 5]\n",
      "[3 4 5 6]\n",
      "[6 5 4 3 2 1]\n"
     ]
    }
   ],
   "source": [
    "arr = np.array([1, 2, 3, 4, 5, 6])\n",
    "\n",
    "print(arr[0:2])  # First two values\n",
    "print(arr[:2])   # Does the same as above\n",
    "print(arr[2:-1]) # From index 2 to the second last value\n",
    "print(arr[2:])   # Everything starting from index 2\n",
    "print(arr[::-1]) # Reverse array"
   ]
  },
  {
   "cell_type": "markdown",
   "id": "570bdb7c-d6c4-4fa9-ba09-cc9d2bf0c00d",
   "metadata": {},
   "source": [
    "We also want to do indexing on multidimensional NumPy arrays. The syntax is `arr[i_0, i_1, ..., i_n]` where `i_j` is the index for dimension `j`. We can do slicing also here."
   ]
  },
  {
   "cell_type": "code",
   "execution_count": 39,
   "id": "c054ddcf-aa31-44fe-a5e1-d7e152062edb",
   "metadata": {},
   "outputs": [
    {
     "name": "stdout",
     "output_type": "stream",
     "text": [
      "[[1 2 3]\n",
      " [4 5 6]\n",
      " [7 8 9]]\n",
      "5\n",
      "[1 2 3]\n",
      "[1 4 7]\n",
      "[[5 6]\n",
      " [8 9]]\n",
      "[[1 3]\n",
      " [7 9]]\n"
     ]
    }
   ],
   "source": [
    "arr = np.array([[1, 2, 3], [4, 5, 6], [7, 8, 9]])\n",
    "\n",
    "print(arr)           # Original array\n",
    "print(arr[1, 1])     # The middle value at index (1, 1)\n",
    "print(arr[0])        # First row\n",
    "print(arr[:, 0])     # First column\n",
    "print(arr[1:, 1:])   # Bottom right 2x2 square submatrix\n",
    "print(arr[::2, ::2]) # Everything but the middle \"cross\""
   ]
  },
  {
   "cell_type": "markdown",
   "id": "751849e7-871d-4ba5-91e9-8687d989c429",
   "metadata": {},
   "source": [
    "We can also index using boolean arrays. One useful application is when we want to do conditional indexing. For example, the code cell below finds the indices of all entries in `arr` greater or equal to `16` and then uses this boolean array to extract those entries."
   ]
  },
  {
   "cell_type": "code",
   "execution_count": 59,
   "id": "77cf9a0c-7ce2-4eef-bbf8-f84429a740b7",
   "metadata": {},
   "outputs": [
    {
     "name": "stdout",
     "output_type": "stream",
     "text": [
      "[[  1   2   4]\n",
      " [  8  16  32]\n",
      " [ 64 128 256]]\n",
      "[[False False False]\n",
      " [False  True  True]\n",
      " [ True  True  True]]\n",
      "[ 16  32  64 128 256]\n"
     ]
    }
   ],
   "source": [
    "arr = np.array([[1, 2, 4], [8, 16, 32], [64, 128, 256]])\n",
    "idxs = (arr >= 16)\n",
    "print(arr)\n",
    "print(idxs)\n",
    "print(arr[idx])"
   ]
  },
  {
   "cell_type": "markdown",
   "id": "b5e75f36-0edd-4545-9511-94bb27712982",
   "metadata": {},
   "source": [
    "### Bonus: Useful Methods of Boolean Arrays\n",
    "\n",
    "**Using `arr.all()` and `arr.any()` on boolean arrays**: When you have a boolean NumPy array `arr`, you can use the methods `.all()` and `.any()` to reduce the array to a single boolean variable. The method `.all()` returns the logical AND of all the values in the array, whereas the method `.any()` returns the logical OR. We can also specify which axis we want to take the AND/OR along (see below example)."
   ]
  },
  {
   "cell_type": "code",
   "execution_count": 125,
   "id": "f9ff5935-47ee-49ce-a95c-2ae3897932e6",
   "metadata": {},
   "outputs": [
    {
     "name": "stdout",
     "output_type": "stream",
     "text": [
      "[[ True False]\n",
      " [ True False]]\n",
      "any() : True\n",
      "all() : False\n",
      "[[ True  True]\n",
      " [ True  True]]\n",
      "any() : True\n",
      "all() : True\n",
      "[[ True False]\n",
      " [ True False]]\n",
      "any(axis=0) : [ True False]\n",
      "any(axis=1) : [ True  True]\n",
      "all(axis=0) : [ True False]\n",
      "all(axis=1) : [False False]\n",
      "[[ True  True]\n",
      " [False False]]\n",
      "all(axis=0).any() : False\n",
      "[[ True False]\n",
      " [ True False]]\n",
      "all(axis=0).any() : True\n"
     ]
    }
   ],
   "source": [
    "# Over all dimensions\n",
    "arr = np.array([[True, False], [True, False]])\n",
    "print(arr)\n",
    "print(f\"any() : {arr.any()}\")\n",
    "print(f\"all() : {arr.all()}\")\n",
    "\n",
    "arr = np.array([[True, True], [True, True]])\n",
    "print(arr)\n",
    "print(f\"any() : {arr.any()}\")\n",
    "print(f\"all() : {arr.all()}\")\n",
    "\n",
    "# Along a given dimension\n",
    "arr = np.array([[True, False], [True, False]])\n",
    "print(arr)\n",
    "print(f\"any(axis=0) : {arr.any(axis=0)}\")\n",
    "print(f\"any(axis=1) : {arr.any(axis=1)}\")\n",
    "print(f\"all(axis=0) : {arr.all(axis=0)}\")\n",
    "print(f\"all(axis=1) : {arr.all(axis=1)}\")\n",
    "\n",
    "# Combination of all() and any()\n",
    "# Check if there exists at least one column with all values True\n",
    "arr = np.array([[True, True], [False, False]])\n",
    "print(arr)\n",
    "print(f\"all(axis=0).any() : {arr.all(axis=0).any()}\")\n",
    "\n",
    "arr = np.array([[True, False], [True, False]])\n",
    "print(arr)\n",
    "print(f\"all(axis=0).any() : {arr.all(axis=0).any()}\")"
   ]
  },
  {
   "cell_type": "markdown",
   "id": "f7d4e6dc-b2aa-40b4-bbba-224d9323e2fb",
   "metadata": {},
   "source": [
    "## Exercises\n",
    "\n",
    "### 1. Indexing and Slicing a Matrix (2D-array)\n",
    "\n",
    "First, create a NumPy array named `arr` storing the matrix $A=\\begin{pmatrix}1&2&3\\\\4&5&6\\\\7&8&9\\end{pmatrix}$.\n",
    "\n",
    "Then use indexing and slicing to perform the following tasks:\n",
    "\n",
    "1. Store the centre value of $A$, i.e., the value at index $(1,1)$ to a variable named `centre_value`.\n",
    "2. Store the second row of $A$, i.e., the array `[4, 5, 6]`, in a variable named `second_row`.\n",
    "3. Store the last column of $A$, i.e., the array `[3, 6, 9]`, in a variable named `last_column`.\n",
    "4. Store the bottom left $2\\times2$ sub-matrix of $A$, i.e., the array `[[4, 5], [7, 8]]` in a variable named `bottom_left_submatrix`."
   ]
  },
  {
   "cell_type": "code",
   "execution_count": 110,
   "id": "2fa032ee-c834-4912-b942-e3f9ce0b4701",
   "metadata": {},
   "outputs": [
    {
     "name": "stdout",
     "output_type": "stream",
     "text": [
      "All test passed!\n"
     ]
    }
   ],
   "source": [
    "# Your code here\n",
    "arr = ...\n",
    "centre_value = ...\n",
    "second_row = ...\n",
    "last_column = ...\n",
    "bottom_left_submatrix = ...\n",
    "\n",
    "# Solution:\n",
    "arr = np.array([[1, 2, 3], [4, 5, 6], [7, 8, 9]])\n",
    "centre_value = arr[1,1]\n",
    "second_row = arr[1]\n",
    "last_column = arr[:, -1]\n",
    "bottom_left_submatrix = arr[1:,:2]\n",
    "\n",
    "# Automatic tests:\n",
    "assert (arr == np.arange(1, 10).reshape(3, 3)).all()\n",
    "assert centre_value == 5\n",
    "assert (second_row == np.array([4, 5, 6])).all()\n",
    "assert (last_column == np.array([3, 6, 9])).all()\n",
    "assert (bottom_left_submatrix == np.array([[4, 5], [7, 8]])).all()\n",
    "print(\"All test passed!\")"
   ]
  },
  {
   "cell_type": "markdown",
   "id": "f786f9a7-3ac6-4241-b439-2334d3cd8e42",
   "metadata": {},
   "source": [
    "### 3. Find All Values Over a Given Threshold\n",
    "\n",
    "Write a function `return_values_over_threshold(arr, threshold)` that takes in a NumPy array `arr` and a float `threshold`, and returns a NumPy array containing those values in `arr` *greater than or equal to* `threshold`. \n",
    "\n",
    "**NB! Do not use any loops for this task.** Vectorizing our code speeds up things and is one of the main reasons we use NumPy."
   ]
  },
  {
   "cell_type": "code",
   "execution_count": 111,
   "id": "0c979a96-472b-44da-9675-201d2bec3acb",
   "metadata": {},
   "outputs": [
    {
     "name": "stdout",
     "output_type": "stream",
     "text": [
      "All test passed!\n"
     ]
    }
   ],
   "source": [
    "def return_values_over_threshold(arr: np.ndarray, threshold: float):\n",
    "    ...\n",
    "\n",
    "# Solution:\n",
    "def return_values_over_threshold(arr: np.ndarray, threshold: float):\n",
    "    idxs = (arr >= threshold)\n",
    "    return arr[idxs]\n",
    "\n",
    "# Automatic tests\n",
    "arr = np.array([-3, 4, -1, 5, 7, 12, 0, -8, 4, -3, 1])\n",
    "threshold = -0.5\n",
    "result = return_values_over_threshold(arr, threshold)\n",
    "assert (result == np.array([4, 5, 7, 12, 0, 4, 1])).all()\n",
    "\n",
    "arr = np.array([[17, 16, 38], [14, 1, 20], [43, 11, 23], [31, 15, 18]])\n",
    "threshold = 16\n",
    "result = return_values_over_threshold(arr, threshold)\n",
    "assert (result == np.array([17, 16, 38, 20, 43, 23, 31, 18])).all()\n",
    "\n",
    "print(\"All test passed!\")"
   ]
  },
  {
   "cell_type": "markdown",
   "id": "a46841d4-12c7-448e-9867-55ae4ce9279c",
   "metadata": {},
   "source": [
    "# 3. Reshaping and Transposing Arrays"
   ]
  },
  {
   "cell_type": "markdown",
   "id": "e8e5f629-d0cd-4695-8e1d-d2f5bff3e703",
   "metadata": {},
   "source": [
    "Every so often, we want to reshape our NumPy arrays. The content stays the same when reshaping, making it a very fast operation.\n",
    "\n",
    "For example, if we have a matrix $A=\\begin{pmatrix}1&2&3\\\\4&5&6\\\\7&8&9\\end{pmatrix}$ stored as a NumPy array `arr` and we want to \"flatten\" it to a 1-dimensional array of length $9$, we can simply write `arr.reshape(9)`. We can also use `-1` to let NumPy infer the size when possible. And we can also reshape the array back into a 2-dimensional one."
   ]
  },
  {
   "cell_type": "code",
   "execution_count": 87,
   "id": "fe29e868-fa86-49fb-9a51-f0c66b741179",
   "metadata": {},
   "outputs": [
    {
     "name": "stdout",
     "output_type": "stream",
     "text": [
      "[[1 2 3]\n",
      " [4 5 6]\n",
      " [7 8 9]]\n",
      "shape: (3, 3)\n",
      "[1 2 3 4 5 6 7 8 9]\n",
      "shape: (9,)\n",
      "[[1 2 3]\n",
      " [4 5 6]\n",
      " [7 8 9]]\n",
      "shape: (3, 3)\n"
     ]
    }
   ],
   "source": [
    "# Create a 3x3 array\n",
    "arr = np.array([[1, 2, 3], [4, 5, 6], [7, 8, 9]])\n",
    "print(arr)\n",
    "print(f\"shape: {arr.shape}\")\n",
    "\n",
    "# Flatten the array\n",
    "arr = arr.reshape(9) # or arr.reshape(-1)\n",
    "print(arr)\n",
    "print(f\"shape: {arr.shape}\")\n",
    "\n",
    "# Reshape it back to a 3x3 array\n",
    "arr = arr.reshape(-1, 3) # or arr.reshape(3, 3) or arr.reshape(3, -1)\n",
    "print(arr)\n",
    "print(f\"shape: {arr.shape}\")"
   ]
  },
  {
   "cell_type": "markdown",
   "id": "8ba712f0-c455-4a61-a95f-7ddad35279e0",
   "metadata": {},
   "source": [
    "Here are some more examples of reshaping."
   ]
  },
  {
   "cell_type": "code",
   "execution_count": 88,
   "id": "3f410f33-1288-4706-a83c-07a2457b5364",
   "metadata": {},
   "outputs": [
    {
     "name": "stdout",
     "output_type": "stream",
     "text": [
      "[[[1 2]\n",
      "  [3 4]]\n",
      "\n",
      " [[5 6]\n",
      "  [7 8]]]\n",
      "shape: (2, 2, 2)\n",
      "[[1 2 3 4]\n",
      " [5 6 7 8]]\n",
      "shape: (2, 4)\n",
      "[[1 2 3 4 5 6 7 8]]\n",
      "shape: (1, 8)\n",
      "[[1]\n",
      " [2]\n",
      " [3]\n",
      " [4]\n",
      " [5]\n",
      " [6]\n",
      " [7]\n",
      " [8]]\n",
      "shape: (8, 1)\n"
     ]
    }
   ],
   "source": [
    "arr = np.array([[[1, 2], [3, 4]], [[5, 6], [7, 8]]])\n",
    "print(arr)\n",
    "print(f\"shape: {arr.shape}\")\n",
    "\n",
    "arr = arr.reshape(-1, 4)\n",
    "print(arr)\n",
    "print(f\"shape: {arr.shape}\")\n",
    "\n",
    "arr = arr.reshape(1, 8)\n",
    "print(arr)\n",
    "print(f\"shape: {arr.shape}\")\n",
    "\n",
    "arr = arr.reshape(8, 1)\n",
    "print(arr)\n",
    "print(f\"shape: {arr.shape}\")"
   ]
  },
  {
   "cell_type": "markdown",
   "id": "29422056-359e-45e7-93fc-a2b8cec3e10d",
   "metadata": {},
   "source": [
    "We can also transpose a matrix `arr` by using `arr.transpose()` or simply `arr.T`. For \"transposing\" higher-dimensional arrays, see `np.swapaxes()` ([documentation](https://numpy.org/doc/stable/reference/generated/numpy.swapaxes.html))."
   ]
  },
  {
   "cell_type": "code",
   "execution_count": 89,
   "id": "1eff65ec-db93-4028-abb0-467f0204fb44",
   "metadata": {},
   "outputs": [
    {
     "name": "stdout",
     "output_type": "stream",
     "text": [
      "[[1 2 3]\n",
      " [4 5 6]\n",
      " [7 8 9]]\n",
      "[[1 4 7]\n",
      " [2 5 8]\n",
      " [3 6 9]]\n"
     ]
    }
   ],
   "source": [
    "arr = np.array([[1, 2, 3], [4, 5, 6], [7, 8, 9]])\n",
    "print(arr)\n",
    "\n",
    "arr_transposed = arr.T # or arr.transpose()\n",
    "print(arr_transposed)"
   ]
  },
  {
   "cell_type": "markdown",
   "id": "169b4631-287e-49e7-a816-30d630729b19",
   "metadata": {},
   "source": [
    "## Exercises\n",
    "\n",
    "### 1. Matrix from `np.arange()`\n",
    "\n",
    "Create a NumPy array `arr` storing the matrix $\\begin{pmatrix}1&4&7\\\\10&13&16\\\\19&22&25\\end{pmatrix}$ using only `np.arange()` and `arr.reshape()`."
   ]
  },
  {
   "cell_type": "code",
   "execution_count": 108,
   "id": "b2d2f767-680f-41e4-8abb-aabd4dbfe669",
   "metadata": {},
   "outputs": [
    {
     "name": "stdout",
     "output_type": "stream",
     "text": [
      "Test passed!\n"
     ]
    }
   ],
   "source": [
    "# You code here\n",
    "arr = ...\n",
    "\n",
    "# Solution:\n",
    "arr = np.arange(1, 26, 3).reshape(-1 ,3)\n",
    "\n",
    "# Automatic test\n",
    "assert (arr == np.array([[1, 4, 7], [10, 13, 16], [19, 22, 25]])).all()\n",
    "print(\"Test passed!\")"
   ]
  },
  {
   "cell_type": "markdown",
   "id": "2239b30a-d971-4365-ac11-67bb5ac1fe08",
   "metadata": {},
   "source": [
    "### 2. 2D to 3D\n",
    "\n",
    "Reshape the 2D array/matrix `arr` of shape `(2, 9)` into a 3D array of shape `(2, 3, 3)`. Print the array before and after reshaping to better understand what is going on."
   ]
  },
  {
   "cell_type": "code",
   "execution_count": 109,
   "id": "71307ccf-2f58-4017-8a1c-fc7ad111c26f",
   "metadata": {},
   "outputs": [
    {
     "name": "stdout",
     "output_type": "stream",
     "text": [
      "[[3 6 1 9 2 4 8 3 2]\n",
      " [0 1 6 3 7 4 3 6 1]]\n",
      "[[[3 6 1]\n",
      "  [9 2 4]\n",
      "  [8 3 2]]\n",
      "\n",
      " [[0 1 6]\n",
      "  [3 7 4]\n",
      "  [3 6 1]]]\n",
      "Test passed!\n"
     ]
    }
   ],
   "source": [
    "arr = np.array([[3, 6, 1, 9, 2, 4, 8, 3, 2], [0, 1, 6, 3, 7, 4, 3, 6, 1]])\n",
    "\n",
    "# Your code here\n",
    "...\n",
    "\n",
    "# Solution\n",
    "print(arr)\n",
    "arr = arr.reshape(2, 3, 3)\n",
    "print(arr)\n",
    "\n",
    "# Automatic test\n",
    "assert (arr == np.array([[[3, 6, 1], [9, 2, 4], [8, 3, 2]], [[0, 1, 6], [3, 7, 4], [3, 6, 1]]])).all()\n",
    "print(\"Test passed!\")"
   ]
  },
  {
   "cell_type": "markdown",
   "id": "b72419af-723e-4327-a422-bd60525b896d",
   "metadata": {},
   "source": [
    "### 3. Reshape, Transpose and Reshape\n",
    "\n",
    "Create a 2D array `arr` with shape `(3, 4)` containing the numbers 0 through 11. Transpose it and then reshape it to a 3D array with shape `(2, 2, 3)`.\n",
    "\n",
    "**Note:** You only need to use `np.arange()`, `arr.reshape()` and `arr.T` (or `arr.transpose()`) to solve this task. Again, do not use loops."
   ]
  },
  {
   "cell_type": "code",
   "execution_count": 130,
   "id": "da7f19f7-f4f4-4e6d-aaec-51e8b9ac7fa3",
   "metadata": {},
   "outputs": [
    {
     "name": "stdout",
     "output_type": "stream",
     "text": [
      "Test passed!\n"
     ]
    }
   ],
   "source": [
    "# Your code here\n",
    "arr = ...\n",
    "\n",
    "# Solution\n",
    "arr = np.arange(12).reshape(3, 4)\n",
    "arr = array.T\n",
    "arr = arr.reshape(2, 2, 3)\n",
    "\n",
    "# Automatic test\n",
    "assert (arr == np.array([[[0, 4, 8], [1, 5, 9]], [[2, 6, 10], [3, 7, 11]]])).all()\n",
    "print(\"Test passed!\")"
   ]
  },
  {
   "cell_type": "markdown",
   "id": "78f25620-4d4c-4158-8925-771ae9b3ddba",
   "metadata": {},
   "source": [
    "# 4. Basic Array Operations and Broadcasting\n",
    "\n",
    "- Scalar-array multiplication\n",
    "- Sums and differences\n",
    "- Matrix multiplication\n",
    "- Transpose\n",
    "- Sum, mean, min, max, argmin, argmax, std\n",
    "- Unique values\n",
    "- Sorting and argsort"
   ]
  },
  {
   "cell_type": "markdown",
   "id": "5310df6e-4c63-4292-93f4-7c5d65e839e8",
   "metadata": {},
   "source": [
    "Perform mathematical operations between a NumPy array and a scalar is straight-forward."
   ]
  },
  {
   "cell_type": "code",
   "execution_count": 147,
   "id": "2cffd243-fac6-4d93-b061-2cfd33f4831d",
   "metadata": {},
   "outputs": [
    {
     "name": "stdout",
     "output_type": "stream",
     "text": [
      "Original:\n",
      " [[1. 2. 3.]\n",
      " [4. 5. 6.]]\n",
      "Multiply by 2:\n",
      " [[ 2.  4.  6.]\n",
      " [ 8. 10. 12.]]\n",
      "Divide by 10:\n",
      " [[0.1 0.2 0.3]\n",
      " [0.4 0.5 0.6]]\n",
      "Subtract 3:\n",
      " [[-2. -1.  0.]\n",
      " [ 1.  2.  3.]]\n",
      "Add 4:\n",
      " [[ 5.  6.  7.]\n",
      " [ 8.  9. 10.]]\n",
      "Square:\n",
      " [[ 1.  4.  9.]\n",
      " [16. 25. 36.]]\n"
     ]
    }
   ],
   "source": [
    "arr = np.array([[1., 2., 3.], [4., 5., 6.]])\n",
    "\n",
    "print(f\"Original:\\n {arr}\")\n",
    "print(f\"Multiply by 2:\\n {2.0 * arr}\") # Multiply all values by 2\n",
    "print(f\"Divide by 10:\\n {arr / 10.0}\") # Divide all values by 10\n",
    "print(f\"Subtract 3:\\n {arr - 3.0}\")    # Subtract 3 from all values in arr\n",
    "print(f\"Add 4:\\n {arr + 4.0}\")         # Add 4 to all values in arr\n",
    "print(f\"Square:\\n {arr ** 2}\")         # Square all values in arr"
   ]
  },
  {
   "cell_type": "markdown",
   "id": "6211b9a5-5fbb-47b1-b4ec-8e60e945facc",
   "metadata": {},
   "source": [
    "If two NumPy arrays are of the **same shape**, we can just as easily perform element-wise operations as follows:"
   ]
  },
  {
   "cell_type": "code",
   "execution_count": 154,
   "id": "fab3b8a9-da76-4f5a-bb88-50d62e8b0fe2",
   "metadata": {},
   "outputs": [
    {
     "name": "stdout",
     "output_type": "stream",
     "text": [
      "arr1 =\n",
      "[[1 2 3]\n",
      " [4 5 6]]\n",
      "arr2 =\n",
      "[[ 2.   1.  -1. ]\n",
      " [ 3.   0.5  2. ]]\n",
      "arr1 + arr2 =\n",
      "[[3.  3.  2. ]\n",
      " [7.  5.5 8. ]]\n",
      "arr1 - arr2 =\n",
      "[[3.  3.  2. ]\n",
      " [7.  5.5 8. ]]\n",
      "arr1 * arr2 =\n",
      "[[3.  3.  2. ]\n",
      " [7.  5.5 8. ]]\n",
      "arr1 / arr2 =\n",
      "[[3.  3.  2. ]\n",
      " [7.  5.5 8. ]]\n",
      "arr1 ** arr2 =\n",
      "[[3.  3.  2. ]\n",
      " [7.  5.5 8. ]]\n"
     ]
    }
   ],
   "source": [
    "arr1 = np.array([[1, 2, 3], [4, 5, 6]])\n",
    "arr2 = np.array([[2, 1,-1], [3,.5, 2]])\n",
    "\n",
    "print(f\"arr1 =\\n{arr1}\")\n",
    "print(f\"arr2 =\\n{arr2}\")\n",
    "\n",
    "print(f\"arr1 + arr2 =\\n{arr1 + arr2}\")\n",
    "print(f\"arr1 - arr2 =\\n{arr1 + arr2}\")\n",
    "print(f\"arr1 * arr2 =\\n{arr1 + arr2}\")\n",
    "print(f\"arr1 / arr2 =\\n{arr1 + arr2}\")\n",
    "print(f\"arr1 ** arr2 =\\n{arr1 + arr2}\")"
   ]
  },
  {
   "cell_type": "markdown",
   "id": "40b5e3db-bd0b-4e2e-8eaa-a7dbad430ad9",
   "metadata": {},
   "source": [
    "Broadcasting allows NumPy to work with arrays of **different shapes** when performing arithmetic operations. The smaller array is \"broadcast\" across the larger array so that they have compatible shapes. This makes many operations much more efficient.\n",
    "\n",
    "**Broadcasting Rules**\n",
    "- Arrays have compatible shapes if they are equal or one of them is 1.\n",
    "- If the arrays do not have the same number of dimensions, prepend the shape of the smaller array with ones until they have the same number of dimensions.\n",
    "- If any dimension does not match and is not 1, then broadcasting will not work.\n",
    "\n",
    "Operations involving a NumPy array and a scalar is a special case of broadcasting where the scalar (which we can think of as a NumPy array of shape `(1,)`) is broadcast to the same shape as the NumPy array.\n",
    "\n",
    "Here is a more interesting example: If you have a 1D array and a 2D array where the 1D array's shape is compatible with the trailing dimensions of the 2D array, broadcasting will occur."
   ]
  },
  {
   "cell_type": "code",
   "execution_count": 157,
   "id": "3c668b97-3ee0-4823-adc0-caa6a94a231d",
   "metadata": {},
   "outputs": [
    {
     "name": "stdout",
     "output_type": "stream",
     "text": [
      "[[11 22 33]\n",
      " [14 25 36]]\n"
     ]
    }
   ],
   "source": [
    "arr_2d = np.array([[1, 2, 3], [4, 5, 6]])\n",
    "arr_1d = np.array([10, 20, 30])\n",
    "\n",
    "result = arr_2d + arr_1d # This will broadcast arr_1d into [[10, 20, 30], [10, 20, 30]] and then do addition element-wise!\n",
    "print(result)"
   ]
  },
  {
   "cell_type": "markdown",
   "id": "d9399b46-d1d8-4255-9e55-ac1422220e58",
   "metadata": {},
   "source": [
    "Here is another example of broadcasting where we want to multiply the first row of `arr_2d` by $1$ and the second row by $2$."
   ]
  },
  {
   "cell_type": "code",
   "execution_count": 159,
   "id": "56c142d5-2b10-48cc-aa65-8262a2014cbd",
   "metadata": {},
   "outputs": [
    {
     "name": "stdout",
     "output_type": "stream",
     "text": [
      "[[ 1  2  3]\n",
      " [ 8 10 12]]\n"
     ]
    }
   ],
   "source": [
    "arr_2d = np.array([[1, 2, 3], [4, 5, 6]])\n",
    "arr_1d = np.array([1, 2])\n",
    "\n",
    "# Reshape arr_1d to (2, 1) to make it compatible\n",
    "arr_1d = arr_1d.reshape(2, 1)\n",
    "\n",
    "result = arr_2d * arr_1d\n",
    "print(result)"
   ]
  },
  {
   "cell_type": "markdown",
   "id": "f10e9a09-7aa8-4da3-95a4-2c3c36c6a990",
   "metadata": {},
   "source": [
    "When broadcasting is not possible, NumPy will raise an error. You will probably encounter this type of error message many times, so here is an example to help you get to know eachother."
   ]
  },
  {
   "cell_type": "code",
   "execution_count": 161,
   "id": "24527033-e972-4248-81e0-76b48bc10eaf",
   "metadata": {},
   "outputs": [
    {
     "name": "stdout",
     "output_type": "stream",
     "text": [
      "Error: operands could not be broadcast together with shapes (2,3) (4,) \n"
     ]
    }
   ],
   "source": [
    "arr1 = np.array([[1, 2, 3], [4, 5, 6]])\n",
    "arr2 = np.array([1, 2, 3, 4])\n",
    "\n",
    "try:\n",
    "    result = arr1 + arr2\n",
    "except ValueError as e:\n",
    "    print(f\"Error: {e}\")"
   ]
  },
  {
   "cell_type": "markdown",
   "id": "fbc76a8e-4a82-46ce-aa8f-906c4de205ca",
   "metadata": {},
   "source": [
    "**Summary:** Broadcasting makes it easy to perform operations on arrays of different shapes without having to manually resize them. By following the broadcasting rules, NumPy automatically handles the necessary shape transformations to enable efficient computation."
   ]
  },
  {
   "cell_type": "markdown",
   "id": "3de99e54-23cf-47f8-8e58-355952c2247f",
   "metadata": {},
   "source": [
    "## Exercises\n",
    "\n",
    "### 1. Adding Scalars to Arrays\n",
    "Create a 1D array `arr` with values `[1, 2, 3, 4, 5]`. Add a scalar value `10` to `arr` and print the result."
   ]
  },
  {
   "cell_type": "code",
   "execution_count": 178,
   "id": "b891c150-4ead-40a9-960a-59ec0c4e8347",
   "metadata": {},
   "outputs": [
    {
     "name": "stdout",
     "output_type": "stream",
     "text": [
      "[11 12 13 14 15]\n"
     ]
    }
   ],
   "source": [
    "# Your code here\n",
    "arr = ...\n",
    "\n",
    "# Solution\n",
    "arr = np.array([1, 2, 3, 4, 5])\n",
    "arr = arr + 10\n",
    "print(arr)"
   ]
  },
  {
   "cell_type": "markdown",
   "id": "04d350a2-3c8b-4a9a-ac63-3d1554087c74",
   "metadata": {},
   "source": [
    "### 2. Multiply 1D Arrays\n",
    "\n",
    "Create two 1D arrays `arr1` with values `[1, 2, 3]` and `arr2` with values `[10, 20, 30]`. Multiply `arr1` and `arr2` element-wise and print the result."
   ]
  },
  {
   "cell_type": "code",
   "execution_count": 179,
   "id": "5fe86bae-20c1-4157-9186-4f7f681715d9",
   "metadata": {},
   "outputs": [
    {
     "name": "stdout",
     "output_type": "stream",
     "text": [
      "[10 40 90]\n"
     ]
    }
   ],
   "source": [
    "# Your code here\n",
    "arr1 = ...\n",
    "arr2 = ...\n",
    "\n",
    "# Solution\n",
    "arr1 = np.array([1, 2, 3])\n",
    "arr2 = np.array([10, 20, 30])\n",
    "result = arr1 * arr2\n",
    "print(result)"
   ]
  },
  {
   "cell_type": "markdown",
   "id": "185d2c70-d28f-4297-af22-36d8a3ce38ad",
   "metadata": {},
   "source": [
    "### 3. Broadcasting with Different Shapes\n",
    "\n",
    "Create a 2D array `arr1` with values `[[1, 2, 3], [4, 5, 6]]` and a 1D array `arr2` with values `[1, 2, 3]`. Add `arr1` and `arr2` and print the result. Try to understand how `arr2` was broadcasted by NumPy."
   ]
  },
  {
   "cell_type": "code",
   "execution_count": 181,
   "id": "bdcaee8e-515c-4264-bfe9-593481b8d938",
   "metadata": {},
   "outputs": [
    {
     "name": "stdout",
     "output_type": "stream",
     "text": [
      "[[2 4 6]\n",
      " [5 7 9]]\n"
     ]
    }
   ],
   "source": [
    "# Your code here\n",
    "arr1 = ...\n",
    "arr2 = ...\n",
    "\n",
    "# Solution\n",
    "arr1 = np.array([[1, 2, 3], [4, 5, 6]])\n",
    "arr2 = np.array([1, 2, 3])\n",
    "result = arr1 + arr2\n",
    "print(result)"
   ]
  },
  {
   "cell_type": "markdown",
   "id": "98848db7-aa1d-4e70-86f6-b376336098ee",
   "metadata": {},
   "source": [
    "### 4. Broadcasting with Different Dimensions\n",
    "\n",
    "Create a 3D array `arr1` with shape `(2, 2, 3)` containing values from 1 to 12 and a 1D array `arr2` with values `[1, 2, 3]`. Add `arr1` and `arr2` and print the result. Try to understand how `arr2` was broadcasted by NumPy before the addition took place."
   ]
  },
  {
   "cell_type": "code",
   "execution_count": 187,
   "id": "1effbd54-730e-4640-8646-9e0b14792c1e",
   "metadata": {},
   "outputs": [
    {
     "name": "stdout",
     "output_type": "stream",
     "text": [
      "[[[ 2  4  6]\n",
      "  [ 5  7  9]]\n",
      "\n",
      " [[ 8 10 12]\n",
      "  [11 13 15]]]\n"
     ]
    }
   ],
   "source": [
    "# Your code here\n",
    "arr1 = ...\n",
    "arr2 = ...\n",
    "\n",
    "# Solution\n",
    "arr1 = np.arange(1, 13).reshape(2, 2, 3)\n",
    "arr2 = np.array([1, 2, 3])\n",
    "result = arr1 + arr2\n",
    "print(result)"
   ]
  },
  {
   "cell_type": "markdown",
   "id": "cba0cedb-d39d-43c8-8869-25958991ecf3",
   "metadata": {},
   "source": [
    "### 5. Reshaping for Broadcasting\n",
    "\n",
    "Create a 2D array `arr1` with shape `(3, 4)` containing values from 0 to 11 and a 1D array `arr2` with values `[1, 2, 3]`. Reshape `arr2` to be compatible with `arr1` and then add them together. Print the result and try to understand what is going on."
   ]
  },
  {
   "cell_type": "code",
   "execution_count": 194,
   "id": "7fad260b-b348-4e6a-b255-5d324d7ac9cb",
   "metadata": {},
   "outputs": [
    {
     "name": "stdout",
     "output_type": "stream",
     "text": [
      "[[ 0  1  2  3]\n",
      " [ 4  5  6  7]\n",
      " [ 8  9 10 11]]\n",
      "[[1]\n",
      " [2]\n",
      " [3]]\n",
      "[[ 1  2  3  4]\n",
      " [ 6  7  8  9]\n",
      " [11 12 13 14]]\n"
     ]
    }
   ],
   "source": [
    "# Your code here\n",
    "arr1 = ...\n",
    "arr2 = ...\n",
    "\n",
    "# Solution\n",
    "arr1 = np.arange(12).reshape(3, 4)\n",
    "arr2 = np.array([1, 2, 3])\n",
    "arr2 = arr2.reshape(3, 1)\n",
    "result = arr1 + arr2"
   ]
  },
  {
   "cell_type": "markdown",
   "id": "c60b0351-4f34-4728-b600-229c1d16038a",
   "metadata": {},
   "source": [
    "### 6. Broadcasting with Higher Dimensions\n",
    "\n",
    "Create a 3D array `arr1` with shape `(2, 3, 4)` containing values from 0 to 23 and a 1D array `arr2` with values `[1, 2, 3, 4]`. Add `arr1` and `arr2` and print the result."
   ]
  },
  {
   "cell_type": "code",
   "execution_count": 196,
   "id": "d6f4b2a8-00b7-4472-a05d-127c825d0a8d",
   "metadata": {},
   "outputs": [
    {
     "name": "stdout",
     "output_type": "stream",
     "text": [
      "[[[ 1  3  5  7]\n",
      "  [ 5  7  9 11]\n",
      "  [ 9 11 13 15]]\n",
      "\n",
      " [[13 15 17 19]\n",
      "  [17 19 21 23]\n",
      "  [21 23 25 27]]]\n"
     ]
    }
   ],
   "source": [
    "# Your code here\n",
    "arr1 = ...\n",
    "arr2 = ...\n",
    "\n",
    "# Solution\n",
    "arr1 = np.arange(24).reshape(2, 3, 4)\n",
    "arr2 = np.array([1, 2, 3, 4])\n",
    "result = arr1 + arr2\n",
    "print(result)"
   ]
  },
  {
   "cell_type": "markdown",
   "id": "20ac73e2-9bfc-483b-94c5-ddf43c9d9260",
   "metadata": {},
   "source": [
    "# 5. Some Other Useful NumPy Functions"
   ]
  },
  {
   "cell_type": "code",
   "execution_count": null,
   "id": "25a9b1cf-076d-4804-b567-b916fdcf16b3",
   "metadata": {},
   "outputs": [],
   "source": []
  }
 ],
 "metadata": {
  "kernelspec": {
   "display_name": "Python 3 (ipykernel)",
   "language": "python",
   "name": "python3"
  },
  "language_info": {
   "codemirror_mode": {
    "name": "ipython",
    "version": 3
   },
   "file_extension": ".py",
   "mimetype": "text/x-python",
   "name": "python",
   "nbconvert_exporter": "python",
   "pygments_lexer": "ipython3",
   "version": "3.12.3"
  }
 },
 "nbformat": 4,
 "nbformat_minor": 5
}
