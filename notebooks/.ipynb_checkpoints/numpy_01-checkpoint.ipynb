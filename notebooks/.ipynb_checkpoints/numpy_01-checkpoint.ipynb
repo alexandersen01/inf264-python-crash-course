{
 "cells": [
  {
   "cell_type": "code",
   "execution_count": 1,
   "id": "b0d1dabc-a755-4cb1-8eee-405e75a97013",
   "metadata": {},
   "outputs": [],
   "source": [
    "import numpy as np"
   ]
  },
  {
   "cell_type": "markdown",
   "id": "622ae026-9c45-46a6-8d5c-906dabb133ba",
   "metadata": {},
   "source": [
    "# 1. Creating NumPy Arrays\n",
    "\n",
    "There are numerous ways you can create NumPy arrays. For example, you can create an array from a Python list as follows:"
   ]
  },
  {
   "cell_type": "code",
   "execution_count": 2,
   "id": "bb1f0959-8054-4deb-abe5-6d42aedd2ba6",
   "metadata": {},
   "outputs": [
    {
     "name": "stdout",
     "output_type": "stream",
     "text": [
      "[1 2 3]\n"
     ]
    }
   ],
   "source": [
    "a = [1, 2, 3]\n",
    "arr = np.array(a)\n",
    "print(arr)"
   ]
  },
  {
   "cell_type": "markdown",
   "id": "3740724e-08ee-4836-8553-efa4b4b8ad01",
   "metadata": {},
   "source": [
    "NumPy arrays can be multidimensional. For example, we can create an array `arr` storing the matrix $\\begin{pmatrix}1 & 2\\\\4 & 5\\end{pmatrix}$ as follows:"
   ]
  },
  {
   "cell_type": "code",
   "execution_count": 3,
   "id": "62fd2a4b-aed8-4ac5-93cc-044d87af58da",
   "metadata": {},
   "outputs": [
    {
     "name": "stdout",
     "output_type": "stream",
     "text": [
      "[[1 2]\n",
      " [4 5]]\n"
     ]
    }
   ],
   "source": [
    "arr = np.array([[1, 2], [4, 5]])\n",
    "print(arr)"
   ]
  },
  {
   "cell_type": "markdown",
   "id": "96013437-844b-4ad7-b2f5-b0e170b740b6",
   "metadata": {},
   "source": [
    "To create an array containing only zeros, we use `np.zeros()`. The `shape` argument expects a tuple determining the shape of the zero array."
   ]
  },
  {
   "cell_type": "code",
   "execution_count": 4,
   "id": "7471bed2-1d28-4aea-928f-64ca2257cd68",
   "metadata": {},
   "outputs": [
    {
     "name": "stdout",
     "output_type": "stream",
     "text": [
      "arr1 = \n",
      "[0. 0.]\n",
      "\n",
      "arr2 = \n",
      "[[0. 0.]\n",
      " [0. 0.]\n",
      " [0. 0.]]\n",
      "\n",
      "arr3 = \n",
      "[[[0. 0.]\n",
      "  [0. 0.]\n",
      "  [0. 0.]]\n",
      "\n",
      " [[0. 0.]\n",
      "  [0. 0.]\n",
      "  [0. 0.]]]\n",
      "\n"
     ]
    }
   ],
   "source": [
    "arr1 = np.zeros(2) # or np.zeros(shape=(2,))\n",
    "arr2 = np.zeros(shape=(3, 2)) # 3x2 matrix\n",
    "arr3 = np.zeros(shape=(2, 3, 2)) # A 3-dimensional array\n",
    "\n",
    "print(f\"arr1 = \\n{arr1}\\n\")\n",
    "print(f\"arr2 = \\n{arr2}\\n\")\n",
    "print(f\"arr3 = \\n{arr3}\\n\")"
   ]
  },
  {
   "cell_type": "markdown",
   "id": "26fe3064-ffb5-47c8-875d-126448faea88",
   "metadata": {},
   "source": [
    "Similarly, we can create a new array containing only ones using `np.ones()`."
   ]
  },
  {
   "cell_type": "code",
   "execution_count": 5,
   "id": "3e3add0b-d626-43c1-950b-11ad1b2eff42",
   "metadata": {},
   "outputs": [
    {
     "name": "stdout",
     "output_type": "stream",
     "text": [
      "[[1. 1.]\n",
      " [1. 1.]\n",
      " [1. 1.]]\n"
     ]
    }
   ],
   "source": [
    "arr2 = np.ones(shape=(3, 2))\n",
    "print(arr2)"
   ]
  },
  {
   "cell_type": "markdown",
   "id": "899c3938-7330-457a-b9ac-5a7b74bfa6f7",
   "metadata": {},
   "source": [
    "The function `np.empty()` creates a new NumPy array and is very fast. But be aware that we do not know which values it will contain, as it just allocates some memory for your array. It is useful if we are going to fill in the values ourselves later."
   ]
  },
  {
   "cell_type": "code",
   "execution_count": 6,
   "id": "1851c9fb-fd99-4b32-92b0-b16aec816e25",
   "metadata": {},
   "outputs": [
    {
     "name": "stdout",
     "output_type": "stream",
     "text": [
      "[ 0.  2.  4.  6.  8. 10. 12. 14. 16. 18.]\n"
     ]
    }
   ],
   "source": [
    "arr = np.empty(10)\n",
    "\n",
    "for i in range(10):\n",
    "    arr[i] = 2 * i\n",
    "\n",
    "print(arr)"
   ]
  },
  {
   "cell_type": "markdown",
   "id": "7eb7d541-3dcd-4294-a75f-6f1e4e3f008a",
   "metadata": {},
   "source": [
    "There is also a dedicated function `np.eye(n)` returning the $n\\times n$ identity matrix (ones on the diagonal, zeros everywhere else)."
   ]
  },
  {
   "cell_type": "code",
   "execution_count": 7,
   "id": "779cf856-e102-4121-909c-a1af2c90a66a",
   "metadata": {},
   "outputs": [
    {
     "name": "stdout",
     "output_type": "stream",
     "text": [
      "[[1. 0. 0. 0.]\n",
      " [0. 1. 0. 0.]\n",
      " [0. 0. 1. 0.]\n",
      " [0. 0. 0. 1.]]\n"
     ]
    }
   ],
   "source": [
    "arr = np.eye(4) # 4x4 identity matrix\n",
    "print(arr)"
   ]
  },
  {
   "cell_type": "markdown",
   "id": "16677662-79c3-42ef-a052-3a721271c189",
   "metadata": {},
   "source": [
    "NumPy's `np.arange()` is similar to Python's `range()` function but returns a NumPy array instead of a Python list."
   ]
  },
  {
   "cell_type": "code",
   "execution_count": 8,
   "id": "c0cb4f53-57b0-43c6-b0ff-6b672c7e2e8f",
   "metadata": {},
   "outputs": [
    {
     "name": "stdout",
     "output_type": "stream",
     "text": [
      "arr1 = [0 1 2 3 4 5 6 7 8 9]\n",
      "arr2 = [2 3 4 5 6]\n",
      "arr3 = [1 3 5 7 9]\n",
      "arr4 = [5 4 3 2 1]\n"
     ]
    }
   ],
   "source": [
    "arr1 = np.arange(10)\n",
    "arr2 = np.arange(2, 7)\n",
    "arr3 = np.arange(1, 11, 2)\n",
    "arr4 = np.arange(5, 0, -1)\n",
    "\n",
    "print(f\"arr1 = {arr1}\")\n",
    "print(f\"arr2 = {arr2}\")\n",
    "print(f\"arr3 = {arr3}\")\n",
    "print(f\"arr4 = {arr4}\")"
   ]
  },
  {
   "cell_type": "markdown",
   "id": "c155e8f2-49bb-4d89-b239-df446f070580",
   "metadata": {},
   "source": [
    "To create an evenly spaced 1-dimensional grid, we can use `np.linspace()`. For example, if we want a grid with $11$ points on the interval $[-1, 1]$, we can do as follows:"
   ]
  },
  {
   "cell_type": "code",
   "execution_count": 9,
   "id": "48e18f70-edd3-4f76-b3ee-cbd7f6849457",
   "metadata": {},
   "outputs": [
    {
     "name": "stdout",
     "output_type": "stream",
     "text": [
      "[-1.  -0.8 -0.6 -0.4 -0.2  0.   0.2  0.4  0.6  0.8  1. ]\n"
     ]
    }
   ],
   "source": [
    "arr = np.linspace(-1, 1, 11)\n",
    "print(arr)"
   ]
  },
  {
   "cell_type": "markdown",
   "id": "eec66a50-bd23-4de8-969e-65b2a3bd6d8e",
   "metadata": {},
   "source": [
    "### Shape and data types of NumPy Arrays\n",
    "\n",
    "There are two important properties of NumPy arrays we should know about. Namely, the `dtype` describing the array's data type and the `shape` describing its shape."
   ]
  },
  {
   "cell_type": "code",
   "execution_count": 10,
   "id": "8cebdc54-58c2-466f-867b-317cdba91394",
   "metadata": {},
   "outputs": [
    {
     "name": "stdout",
     "output_type": "stream",
     "text": [
      "[1 2 3]\n",
      "dtype: int64\n",
      "shape: (3,)\n"
     ]
    }
   ],
   "source": [
    "arr = np.array([1, 2, 3])\n",
    "\n",
    "print(arr)\n",
    "print(f\"dtype: {arr.dtype}\")\n",
    "print(f\"shape: {arr.shape}\")"
   ]
  },
  {
   "cell_type": "markdown",
   "id": "8064a30d-e80f-4bf9-b8ef-b54996861a0a",
   "metadata": {},
   "source": [
    "Here is another example where we use `np.random.uniform()` to create a random NumPy array with shape $(2, 4, 3)$ sampled uniformly from the interval $[0, 1)$. You can read more about NumPy's random module [here (link)](https://numpy.org/doc/stable/reference/random/index.html)."
   ]
  },
  {
   "cell_type": "code",
   "execution_count": 11,
   "id": "7b73d91d-d89d-4833-9d66-174263f58f6b",
   "metadata": {},
   "outputs": [
    {
     "name": "stdout",
     "output_type": "stream",
     "text": [
      "[[[0.47068256 0.23643094 0.62905145]\n",
      "  [0.52638783 0.90195297 0.94893482]\n",
      "  [0.89780345 0.00098515 0.67705698]\n",
      "  [0.95762215 0.7031034  0.81621906]]\n",
      "\n",
      " [[0.19276487 0.0719698  0.229159  ]\n",
      "  [0.13637561 0.87884185 0.52048473]\n",
      "  [0.86086685 0.72338927 0.55830033]\n",
      "  [0.91460397 0.63248088 0.23186476]]]\n",
      "dtype: float64\n",
      "shape: (2, 4, 3)\n"
     ]
    }
   ],
   "source": [
    "arr = np.random.uniform(size=(2, 4, 3))\n",
    "print(arr)\n",
    "print(f\"dtype: {arr.dtype}\")\n",
    "print(f\"shape: {arr.shape}\")"
   ]
  },
  {
   "cell_type": "markdown",
   "id": "fe90f6b2-f1e3-4d43-ba00-51cb2c7a9163",
   "metadata": {},
   "source": [
    "NumPy arrays can also store boolean and string values."
   ]
  },
  {
   "cell_type": "code",
   "execution_count": 12,
   "id": "cee19b08-eaab-4f59-b4dc-05d54577d10d",
   "metadata": {},
   "outputs": [
    {
     "name": "stdout",
     "output_type": "stream",
     "text": [
      "arr1:\n",
      "[[ True False]\n",
      " [False False]]\n",
      "dtype: bool\n",
      "shape: (2, 2)\n",
      "\n",
      "arr2:\n",
      "[['Hel']\n",
      " ['lo']\n",
      " ['wo']\n",
      " ['rld']]\n",
      "dtype: <U3\n",
      "shape: (4, 1)\n"
     ]
    }
   ],
   "source": [
    "arr1 = np.array([[True, False], [False, False]])\n",
    "arr2 = np.array([[\"Hel\"], [\"lo\"], [\"wo\"], [\"rld\"]])\n",
    "\n",
    "print(\"arr1:\")\n",
    "print(arr1)\n",
    "print(f\"dtype: {arr1.dtype}\")\n",
    "print(f\"shape: {arr1.shape}\")\n",
    "\n",
    "print(\"\\narr2:\")\n",
    "print(arr2)\n",
    "print(f\"dtype: {arr2.dtype}\")\n",
    "print(f\"shape: {arr2.shape}\")"
   ]
  },
  {
   "cell_type": "markdown",
   "id": "5133c325-823d-4e39-9987-1c6a80a94b09",
   "metadata": {},
   "source": [
    "By calling `len()` on a NumPy array, we get the size of the first dimension, so `len(arr)` is equivalent to `arr.shape[0]`."
   ]
  },
  {
   "cell_type": "code",
   "execution_count": 13,
   "id": "4db1a1d3-e0d1-47b2-a9c0-8d3b6118c3e6",
   "metadata": {},
   "outputs": [
    {
     "name": "stdout",
     "output_type": "stream",
     "text": [
      "(4, 2)\n",
      "4\n",
      "4\n"
     ]
    }
   ],
   "source": [
    "arr = np.array([[1, 2], [3, 4], [5, 6], [7, 8]])\n",
    "print(arr.shape)\n",
    "print(arr.shape[0])\n",
    "print(len(arr))"
   ]
  },
  {
   "cell_type": "markdown",
   "id": "2cd5d9ea-2c8b-4bee-afde-d074be563db7",
   "metadata": {},
   "source": [
    "For more details about NumPy data types, see [here (link)](https://numpy.org/doc/stable/user/basics.types.html). To convert an array from one data type to another, one can use `np.ndarray.astype()`. "
   ]
  },
  {
   "cell_type": "code",
   "execution_count": 14,
   "id": "86a0b1b3-e54c-449d-a9d6-398bbc3ee5a1",
   "metadata": {},
   "outputs": [
    {
     "name": "stdout",
     "output_type": "stream",
     "text": [
      "['2.1' '3.6']\n",
      "[2.1 3.6]\n",
      "[2 3]\n"
     ]
    }
   ],
   "source": [
    "arr = np.array([\"2.1\", \"3.6\"])\n",
    "print(arr)\n",
    "\n",
    "arr = arr.astype(np.float64)\n",
    "print(arr)\n",
    "\n",
    "arr = arr.astype(np.int64)\n",
    "print(arr)"
   ]
  },
  {
   "cell_type": "markdown",
   "id": "7eeb874e-be1e-4a8d-bb95-010e57b2b869",
   "metadata": {},
   "source": [
    "## Exercises"
   ]
  },
  {
   "cell_type": "markdown",
   "id": "22d20fbe-12bd-4da5-9a3a-c7f2c21078b9",
   "metadata": {},
   "source": [
    "### 1. CSV Data to NumPy Array\n",
    "\n",
    "The variable `csv_content` contains comma separated CSV data.  Convert this to a NumPy array `arr` of shape `(3, 4)` with `dtype=np.float64`."
   ]
  },
  {
   "cell_type": "code",
   "execution_count": 15,
   "id": "9732452c-e2ba-4f09-8dc0-fbeca0321511",
   "metadata": {},
   "outputs": [
    {
     "name": "stdout",
     "output_type": "stream",
     "text": [
      "All test passed!\n"
     ]
    }
   ],
   "source": [
    "csv_content = \"1.5,2.2,7.5,0.1\\n1.2,7.0,8.9,7.5\\n5.5,9.9,9.5,3.4\"\n",
    "\n",
    "# Your code here...\n",
    "arr = ...\n",
    "\n",
    "# Solution\n",
    "arr = np.array([row.split(\",\") for row in csv_content.split(\"\\n\")]).astype(np.float64)\n",
    "\n",
    "# Automatic tests:\n",
    "assert (arr == np.array([[1.5, 2.2, 7.5, 0.1], [1.2, 7.,  8.9, 7.5], [5.5, 9.9, 9.5, 3.4]])).all()\n",
    "assert arr.shape == (3, 4)\n",
    "assert arr.dtype == np.float64\n",
    "print(\"All test passed!\")"
   ]
  },
  {
   "cell_type": "markdown",
   "id": "1dcdfcaa-16bd-45b6-8e27-492b4887df68",
   "metadata": {},
   "source": [
    "### 2. Function Values on a Grid\n",
    "\n",
    "Use `np.linspace()` to create a grid `X` on $[0, 2\\pi]$ with $8$ points (NumPy provides $\\pi$ as a constant `np.pi`).\n",
    "\n",
    "Then use `np.cos` on `X` and store the result in a variable `y`. Calling `np.cos(X)` will compute `cos(x)` element-wise on `X` and return an array of the same shape as `X`."
   ]
  },
  {
   "cell_type": "code",
   "execution_count": 16,
   "id": "2f454920-52c8-4b5d-95e7-e4f765608463",
   "metadata": {},
   "outputs": [
    {
     "name": "stdout",
     "output_type": "stream",
     "text": [
      "All test passed!\n"
     ]
    }
   ],
   "source": [
    "# Your code here\n",
    "X = ...\n",
    "y = ...\n",
    "\n",
    "# Solution\n",
    "X = np.linspace(0, 2 * np.pi, 8)\n",
    "y = np.cos(X)\n",
    "\n",
    "# Automatic tests:\n",
    "assert np.allclose(X, np.array([0.0, 0.8975979010256552, 1.7951958020513104, 2.6927937030769655, 3.5903916041026207, 4.487989505128276, 5.385587406153931, 6.283185307179586]))\n",
    "assert np.allclose(y, np.array([1., 0.6234898, -0.22252093, -0.90096887, -0.90096887, -0.22252093, 0.6234898, 1.]))\n",
    "assert X.shape == y.shape == (8,)\n",
    "assert X.dtype == y.dtype == np.float_\n",
    "print(\"All test passed!\")"
   ]
  },
  {
   "cell_type": "markdown",
   "id": "f3996b65-4a9d-43fc-a095-1eac22c3a7a4",
   "metadata": {},
   "source": [
    "### 3. Saving and Loading NumPy Arrays\n",
    "\n",
    "NumPy comes with the functions `np.save()` ([documentation](https://numpy.org/doc/stable/reference/generated/numpy.save.html)) and `np.load()` ([documentation](https://numpy.org/doc/stable/reference/generated/numpy.load.html)).\n",
    "\n",
    "Create a NumPy array of shape `(4, 2, 2)` containing only ones using `np.ones()` and save it to a file named `ones_array.npy` using `np.save()`."
   ]
  },
  {
   "cell_type": "code",
   "execution_count": 17,
   "id": "fe820a8a-e783-4fbd-af24-fa99ef584ea5",
   "metadata": {},
   "outputs": [
    {
     "name": "stdout",
     "output_type": "stream",
     "text": [
      "All test passed!\n"
     ]
    }
   ],
   "source": [
    "# Your code here\n",
    "\n",
    "# Solution\n",
    "arr = np.ones(shape=(4, 2, 2))\n",
    "np.save(\"ones_array.npy\", arr)\n",
    "\n",
    "# Automatic test:\n",
    "arr = np.load(\"ones_array.npy\")\n",
    "assert np.allclose(arr, np.array([[[1., 1.], [1., 1.]], [[1., 1.], [1., 1.]], [[1., 1.], [1., 1.]], [[1., 1.], [1., 1.]]]))\n",
    "print(\"All test passed!\")"
   ]
  },
  {
   "cell_type": "markdown",
   "id": "8438279d-5dfb-4808-9552-8e50d506889c",
   "metadata": {},
   "source": [
    "# 2. Indexing NumPy Arrays\n",
    "\n",
    "NumPy arrays can be indexed in the same way we index Python lists."
   ]
  },
  {
   "cell_type": "code",
   "execution_count": 18,
   "id": "7180e6ff-958b-47a1-8f4d-b5451b0519b6",
   "metadata": {},
   "outputs": [
    {
     "name": "stdout",
     "output_type": "stream",
     "text": [
      "1\n",
      "2\n",
      "4\n"
     ]
    }
   ],
   "source": [
    "arr = np.array([1, 2, 3, 4])\n",
    "\n",
    "print(arr[0])  # First value\n",
    "print(arr[1])  # Second value\n",
    "print(arr[-1]) # Last value"
   ]
  },
  {
   "cell_type": "markdown",
   "id": "a5202f54-7d71-4b22-82dc-664a2838eb69",
   "metadata": {},
   "source": [
    "We can also use slicing to index a subarray by `arr[start:end+1]`. You can choose the step size by using `arr[start:end+1:step]` as well."
   ]
  },
  {
   "cell_type": "code",
   "execution_count": 19,
   "id": "7385e078-5287-489d-846d-2b9d2dd4eca0",
   "metadata": {},
   "outputs": [
    {
     "name": "stdout",
     "output_type": "stream",
     "text": [
      "[1 2]\n",
      "[1 2]\n",
      "[3 4 5]\n",
      "[3 4 5 6]\n",
      "[6 5 4 3 2 1]\n"
     ]
    }
   ],
   "source": [
    "arr = np.array([1, 2, 3, 4, 5, 6])\n",
    "\n",
    "print(arr[0:2])  # First two values\n",
    "print(arr[:2])   # Does the same as above\n",
    "print(arr[2:-1]) # From index 2 to the second last value\n",
    "print(arr[2:])   # Everything starting from index 2\n",
    "print(arr[::-1]) # Reverse array"
   ]
  },
  {
   "cell_type": "markdown",
   "id": "570bdb7c-d6c4-4fa9-ba09-cc9d2bf0c00d",
   "metadata": {},
   "source": [
    "We also want to do indexing on multidimensional NumPy arrays. The syntax is `arr[i_0, i_1, ..., i_n]` where `i_j` is the index for dimension `j`. We can do slicing also here."
   ]
  },
  {
   "cell_type": "code",
   "execution_count": 20,
   "id": "c054ddcf-aa31-44fe-a5e1-d7e152062edb",
   "metadata": {},
   "outputs": [
    {
     "name": "stdout",
     "output_type": "stream",
     "text": [
      "[[1 2 3]\n",
      " [4 5 6]\n",
      " [7 8 9]]\n",
      "5\n",
      "[1 2 3]\n",
      "[1 4 7]\n",
      "[[5 6]\n",
      " [8 9]]\n",
      "[[1 3]\n",
      " [7 9]]\n"
     ]
    }
   ],
   "source": [
    "arr = np.array([[1, 2, 3], [4, 5, 6], [7, 8, 9]])\n",
    "\n",
    "print(arr)           # Original array\n",
    "print(arr[1, 1])     # The middle value at index (1, 1)\n",
    "print(arr[0])        # First row\n",
    "print(arr[:, 0])     # First column\n",
    "print(arr[1:, 1:])   # Bottom right 2x2 square submatrix\n",
    "print(arr[::2, ::2]) # Everything but the middle \"cross\""
   ]
  },
  {
   "cell_type": "markdown",
   "id": "751849e7-871d-4ba5-91e9-8687d989c429",
   "metadata": {},
   "source": [
    "#### Conditional Indexing\n",
    "\n",
    "We can also index using boolean arrays. One useful application is when we want to do conditional indexing. For example, the code cell below finds the indices of all entries in `arr` greater or equal to `16` and then uses this boolean array to extract those entries."
   ]
  },
  {
   "cell_type": "code",
   "execution_count": 21,
   "id": "77cf9a0c-7ce2-4eef-bbf8-f84429a740b7",
   "metadata": {},
   "outputs": [
    {
     "name": "stdout",
     "output_type": "stream",
     "text": [
      "[[  1   2   4]\n",
      " [  8  16  32]\n",
      " [ 64 128 256]]\n",
      "[[False False False]\n",
      " [False  True  True]\n",
      " [ True  True  True]]\n",
      "[ 16  32  64 128 256]\n"
     ]
    }
   ],
   "source": [
    "arr = np.array([[1, 2, 4], [8, 16, 32], [64, 128, 256]])\n",
    "idxs = (arr >= 16)\n",
    "print(arr)\n",
    "print(idxs)\n",
    "print(arr[idxs])"
   ]
  },
  {
   "cell_type": "markdown",
   "id": "b5e75f36-0edd-4545-9511-94bb27712982",
   "metadata": {},
   "source": [
    "### Bonus: Useful Methods of Boolean Arrays\n",
    "\n",
    "**Using `arr.all()` and `arr.any()` on boolean arrays**: When you have a boolean NumPy array `arr`, you can use the methods `.all()` and `.any()` to reduce the array to a single boolean variable. The method `.all()` returns the logical AND of all the values in the array, whereas the method `.any()` returns the logical OR. We can also specify which axis we want to take the AND/OR along (see below example)."
   ]
  },
  {
   "cell_type": "code",
   "execution_count": 22,
   "id": "f9ff5935-47ee-49ce-a95c-2ae3897932e6",
   "metadata": {},
   "outputs": [
    {
     "name": "stdout",
     "output_type": "stream",
     "text": [
      "[[ True False]\n",
      " [ True False]]\n",
      "any() : True\n",
      "all() : False\n",
      "[[ True  True]\n",
      " [ True  True]]\n",
      "any() : True\n",
      "all() : True\n",
      "[[ True False]\n",
      " [ True False]]\n",
      "any(axis=0) : [ True False]\n",
      "any(axis=1) : [ True  True]\n",
      "all(axis=0) : [ True False]\n",
      "all(axis=1) : [False False]\n",
      "[[ True  True]\n",
      " [False False]]\n",
      "all(axis=0).any() : False\n",
      "[[ True False]\n",
      " [ True False]]\n",
      "all(axis=0).any() : True\n"
     ]
    }
   ],
   "source": [
    "# Over all dimensions\n",
    "arr = np.array([[True, False], [True, False]])\n",
    "print(arr)\n",
    "print(f\"any() : {arr.any()}\")\n",
    "print(f\"all() : {arr.all()}\")\n",
    "\n",
    "arr = np.array([[True, True], [True, True]])\n",
    "print(arr)\n",
    "print(f\"any() : {arr.any()}\")\n",
    "print(f\"all() : {arr.all()}\")\n",
    "\n",
    "# Along a given dimension\n",
    "arr = np.array([[True, False], [True, False]])\n",
    "print(arr)\n",
    "print(f\"any(axis=0) : {arr.any(axis=0)}\")\n",
    "print(f\"any(axis=1) : {arr.any(axis=1)}\")\n",
    "print(f\"all(axis=0) : {arr.all(axis=0)}\")\n",
    "print(f\"all(axis=1) : {arr.all(axis=1)}\")\n",
    "\n",
    "# Combination of all() and any()\n",
    "# Check if there exists at least one column with all values True\n",
    "arr = np.array([[True, True], [False, False]])\n",
    "print(arr)\n",
    "print(f\"all(axis=0).any() : {arr.all(axis=0).any()}\")\n",
    "\n",
    "arr = np.array([[True, False], [True, False]])\n",
    "print(arr)\n",
    "print(f\"all(axis=0).any() : {arr.all(axis=0).any()}\")"
   ]
  },
  {
   "cell_type": "markdown",
   "id": "f7d4e6dc-b2aa-40b4-bbba-224d9323e2fb",
   "metadata": {},
   "source": [
    "## Exercises\n",
    "\n",
    "### 1. Indexing and Slicing a Matrix (2D-array)\n",
    "\n",
    "First, create a NumPy array named `arr` storing the matrix $A=\\begin{pmatrix}1&2&3\\\\4&5&6\\\\7&8&9\\end{pmatrix}$.\n",
    "\n",
    "Then use indexing and slicing to perform the following tasks:\n",
    "\n",
    "1. Store the centre value of $A$, i.e., the value at index $(1,1)$ to a variable named `centre_value`.\n",
    "2. Store the second row of $A$, i.e., the array `[4, 5, 6]`, in a variable named `second_row`.\n",
    "3. Store the last column of $A$, i.e., the array `[3, 6, 9]`, in a variable named `last_column`.\n",
    "4. Store the bottom left $2\\times2$ sub-matrix of $A$, i.e., the array `[[4, 5], [7, 8]]` in a variable named `bottom_left_submatrix`."
   ]
  },
  {
   "cell_type": "code",
   "execution_count": 23,
   "id": "2fa032ee-c834-4912-b942-e3f9ce0b4701",
   "metadata": {},
   "outputs": [
    {
     "name": "stdout",
     "output_type": "stream",
     "text": [
      "All test passed!\n"
     ]
    }
   ],
   "source": [
    "# Your code here\n",
    "arr = ...\n",
    "centre_value = ...\n",
    "second_row = ...\n",
    "last_column = ...\n",
    "bottom_left_submatrix = ...\n",
    "\n",
    "# Solution:\n",
    "arr = np.array([[1, 2, 3], [4, 5, 6], [7, 8, 9]])\n",
    "centre_value = arr[1,1]\n",
    "second_row = arr[1]\n",
    "last_column = arr[:, -1]\n",
    "bottom_left_submatrix = arr[1:,:2]\n",
    "\n",
    "# Automatic tests:\n",
    "assert (arr == np.arange(1, 10).reshape(3, 3)).all()\n",
    "assert centre_value == 5\n",
    "assert (second_row == np.array([4, 5, 6])).all()\n",
    "assert (last_column == np.array([3, 6, 9])).all()\n",
    "assert (bottom_left_submatrix == np.array([[4, 5], [7, 8]])).all()\n",
    "print(\"All test passed!\")"
   ]
  },
  {
   "cell_type": "markdown",
   "id": "f786f9a7-3ac6-4241-b439-2334d3cd8e42",
   "metadata": {},
   "source": [
    "### 3. Find All Values Over a Given Threshold\n",
    "\n",
    "Write a function `return_values_over_threshold(arr, threshold)` that takes in a NumPy array `arr` and a float `threshold`, and returns a NumPy array containing those values in `arr` *greater than or equal to* `threshold`. \n",
    "\n",
    "**NB! Do not use any loops for this task.** Vectorizing our code speeds up things and is one of the main reasons we use NumPy."
   ]
  },
  {
   "cell_type": "code",
   "execution_count": 24,
   "id": "0c979a96-472b-44da-9675-201d2bec3acb",
   "metadata": {},
   "outputs": [
    {
     "name": "stdout",
     "output_type": "stream",
     "text": [
      "All test passed!\n"
     ]
    }
   ],
   "source": [
    "def return_values_over_threshold(arr: np.ndarray, threshold: float):\n",
    "    ...\n",
    "\n",
    "# Solution:\n",
    "def return_values_over_threshold(arr: np.ndarray, threshold: float):\n",
    "    idxs = (arr >= threshold)\n",
    "    return arr[idxs]\n",
    "\n",
    "# Automatic tests\n",
    "arr = np.array([-3, 4, -1, 5, 7, 12, 0, -8, 4, -3, 1])\n",
    "threshold = -0.5\n",
    "result = return_values_over_threshold(arr, threshold)\n",
    "assert (result == np.array([4, 5, 7, 12, 0, 4, 1])).all()\n",
    "\n",
    "arr = np.array([[17, 16, 38], [14, 1, 20], [43, 11, 23], [31, 15, 18]])\n",
    "threshold = 16\n",
    "result = return_values_over_threshold(arr, threshold)\n",
    "assert (result == np.array([17, 16, 38, 20, 43, 23, 31, 18])).all()\n",
    "\n",
    "print(\"All test passed!\")"
   ]
  },
  {
   "cell_type": "markdown",
   "id": "a46841d4-12c7-448e-9867-55ae4ce9279c",
   "metadata": {},
   "source": [
    "# 3. Reshaping, Transposing and Concatenating Arrays"
   ]
  },
  {
   "cell_type": "markdown",
   "id": "e8e5f629-d0cd-4695-8e1d-d2f5bff3e703",
   "metadata": {},
   "source": [
    "Every so often, we want to reshape our NumPy arrays. The content stays the same when reshaping, making it a very fast operation.\n",
    "\n",
    "For example, if we have a matrix $A=\\begin{pmatrix}1&2&3\\\\4&5&6\\\\7&8&9\\end{pmatrix}$ stored as a NumPy array `arr` and we want to \"flatten\" it to a 1-dimensional array of length $9$, we can simply write `arr.reshape(9)`. We can also use `-1` to let NumPy infer the size when possible. Furthermore, we can reshape the array back into a 2-dimensional one."
   ]
  },
  {
   "cell_type": "code",
   "execution_count": 25,
   "id": "fe29e868-fa86-49fb-9a51-f0c66b741179",
   "metadata": {},
   "outputs": [
    {
     "name": "stdout",
     "output_type": "stream",
     "text": [
      "[[1 2 3]\n",
      " [4 5 6]\n",
      " [7 8 9]]\n",
      "shape: (3, 3)\n",
      "[1 2 3 4 5 6 7 8 9]\n",
      "shape: (9,)\n",
      "[[1 2 3]\n",
      " [4 5 6]\n",
      " [7 8 9]]\n",
      "shape: (3, 3)\n"
     ]
    }
   ],
   "source": [
    "# Create a 3x3 array\n",
    "arr = np.array([[1, 2, 3], [4, 5, 6], [7, 8, 9]])\n",
    "print(arr)\n",
    "print(f\"shape: {arr.shape}\")\n",
    "\n",
    "# Flatten the array\n",
    "arr = arr.reshape(9) # or arr.reshape(-1)\n",
    "print(arr)\n",
    "print(f\"shape: {arr.shape}\")\n",
    "\n",
    "# Reshape it back to a 3x3 array\n",
    "arr = arr.reshape(-1, 3) # or arr.reshape(3, 3) or arr.reshape(3, -1)\n",
    "print(arr)\n",
    "print(f\"shape: {arr.shape}\")"
   ]
  },
  {
   "cell_type": "markdown",
   "id": "8ba712f0-c455-4a61-a95f-7ddad35279e0",
   "metadata": {},
   "source": [
    "Here are some more examples of reshaping."
   ]
  },
  {
   "cell_type": "code",
   "execution_count": 26,
   "id": "3f410f33-1288-4706-a83c-07a2457b5364",
   "metadata": {},
   "outputs": [
    {
     "name": "stdout",
     "output_type": "stream",
     "text": [
      "[[[1 2]\n",
      "  [3 4]]\n",
      "\n",
      " [[5 6]\n",
      "  [7 8]]]\n",
      "shape: (2, 2, 2)\n",
      "[[1 2 3 4]\n",
      " [5 6 7 8]]\n",
      "shape: (2, 4)\n",
      "[[1 2 3 4 5 6 7 8]]\n",
      "shape: (1, 8)\n",
      "[[1]\n",
      " [2]\n",
      " [3]\n",
      " [4]\n",
      " [5]\n",
      " [6]\n",
      " [7]\n",
      " [8]]\n",
      "shape: (8, 1)\n"
     ]
    }
   ],
   "source": [
    "arr = np.array([[[1, 2], [3, 4]], [[5, 6], [7, 8]]])\n",
    "print(arr)\n",
    "print(f\"shape: {arr.shape}\")\n",
    "\n",
    "arr = arr.reshape(-1, 4)\n",
    "print(arr)\n",
    "print(f\"shape: {arr.shape}\")\n",
    "\n",
    "arr = arr.reshape(1, 8)\n",
    "print(arr)\n",
    "print(f\"shape: {arr.shape}\")\n",
    "\n",
    "arr = arr.reshape(8, 1)\n",
    "print(arr)\n",
    "print(f\"shape: {arr.shape}\")"
   ]
  },
  {
   "cell_type": "markdown",
   "id": "29422056-359e-45e7-93fc-a2b8cec3e10d",
   "metadata": {},
   "source": [
    "We can also transpose a matrix `arr` by using `arr.transpose()` or simply `arr.T`. For \"transposing\" higher-dimensional arrays, see `np.swapaxes()` ([documentation](https://numpy.org/doc/stable/reference/generated/numpy.swapaxes.html))."
   ]
  },
  {
   "cell_type": "code",
   "execution_count": 27,
   "id": "1eff65ec-db93-4028-abb0-467f0204fb44",
   "metadata": {},
   "outputs": [
    {
     "name": "stdout",
     "output_type": "stream",
     "text": [
      "[[1 2 3]\n",
      " [4 5 6]\n",
      " [7 8 9]]\n",
      "[[1 4 7]\n",
      " [2 5 8]\n",
      " [3 6 9]]\n"
     ]
    }
   ],
   "source": [
    "arr = np.array([[1, 2, 3], [4, 5, 6], [7, 8, 9]])\n",
    "print(arr)\n",
    "\n",
    "arr_transposed = arr.T # or arr.transpose()\n",
    "print(arr_transposed)"
   ]
  },
  {
   "cell_type": "markdown",
   "id": "ca39f33d-888e-4f69-81f3-642f46375146",
   "metadata": {},
   "source": [
    "Often, we would like to join multiple NumPy arrays together. NumPy offers many functions that help us achieve this.\n",
    "\n",
    "The two main ones are `np.concatenate()` ([documentation](https://numpy.org/doc/stable/reference/generated/numpy.concatenate.html)) and `np.stack()` ([documentation](https://numpy.org/doc/stable/reference/generated/numpy.stack.html)).\n",
    "\n",
    "Stacking with `np.stack()` adds a new dimension while stacking arrays, whereas `np.concatenate()` joins arrays along an existing axis without adding a new dimension.\n",
    "\n",
    "Here is a simple example."
   ]
  },
  {
   "cell_type": "code",
   "execution_count": 28,
   "id": "64e71c51-25bb-4cb6-b0fc-8e8d3d9433a8",
   "metadata": {},
   "outputs": [
    {
     "name": "stdout",
     "output_type": "stream",
     "text": [
      "Stacked in new dimension 0\n",
      "[[1 2 3]\n",
      " [4 5 6]]\n",
      "shape: (2, 3)\n",
      "Stacked in new dimension 1\n",
      "[[1 4]\n",
      " [2 5]\n",
      " [3 6]]\n",
      "shape: (3, 2)\n",
      "Concatenated in existing dimension\n",
      "[1 2 3 4 5 6]\n",
      "shape: (6,)\n"
     ]
    }
   ],
   "source": [
    "arr1 = np.array([1, 2, 3])\n",
    "arr2 = np.array([4, 5, 6])\n",
    "\n",
    "# Stack arrays along a new axis (in dimension 0, i.e., stack as rows)\n",
    "stacked_arr = np.stack((arr1, arr2), axis=0)\n",
    "print(\"Stacked in new dimension 0\")\n",
    "print(stacked_arr)\n",
    "print(f\"shape: {stacked_arr.shape}\")\n",
    "\n",
    "# Stack arrays along another new axis\n",
    "stacked_arr = np.stack((arr1, arr2), axis=1)\n",
    "print(\"Stacked in new dimension 1\")\n",
    "print(stacked_arr)\n",
    "print(f\"shape: {stacked_arr.shape}\")\n",
    "\n",
    "# Concatenate in existing dimension 0\n",
    "concatenated_arr = np.concatenate((arr1, arr2), axis=0)\n",
    "print(\"Concatenated in existing dimension\")\n",
    "print(concatenated_arr)\n",
    "print(f\"shape: {concatenated_arr.shape}\")"
   ]
  },
  {
   "cell_type": "markdown",
   "id": "da2c41ac-38ac-40ca-b4c0-ce9693ff9577",
   "metadata": {},
   "source": [
    "Let us see how we can concatenate two 2-dimensional arrays as well."
   ]
  },
  {
   "cell_type": "code",
   "execution_count": 29,
   "id": "55d4b130-968a-4564-a9f4-d9932cc8dfaf",
   "metadata": {},
   "outputs": [
    {
     "name": "stdout",
     "output_type": "stream",
     "text": [
      "Original arrays\n",
      "arr3 =\n",
      "[[1 2 3]\n",
      " [4 5 6]] (shape: (2, 3))\n",
      "\n",
      "arr4 =\n",
      "[[ 7  8  9]\n",
      " [10 11 12]] (shape: (2, 3))\n",
      "\n",
      "Stacked along dimension 0 (rows)\n",
      "[[ 1  2  3]\n",
      " [ 4  5  6]\n",
      " [ 7  8  9]\n",
      " [10 11 12]]\n",
      "new shape: (4, 3)\n",
      "Stacked along dimension 1 (columns)\n",
      "[[ 1  2  3  7  8  9]\n",
      " [ 4  5  6 10 11 12]]\n",
      "new shape: (2, 6)\n"
     ]
    }
   ],
   "source": [
    "arr3 = np.array([[1, 2, 3], [4, 5, 6]])\n",
    "arr4 = np.array([[7, 8, 9], [10, 11, 12]])\n",
    "\n",
    "print(\"Original arrays\")\n",
    "print(f\"arr3 =\\n{arr3} (shape: {arr3.shape})\\n\")\n",
    "print(f\"arr4 =\\n{arr4} (shape: {arr4.shape})\\n\")\n",
    "\n",
    "# Concatenate arrays along axis=0\n",
    "concatenated_arr = np.concatenate((arr3, arr4), axis=0)\n",
    "print(\"Stacked along dimension 0 (rows)\")\n",
    "print(concatenated_arr)\n",
    "print(f\"new shape: {concatenated_arr.shape}\")\n",
    "\n",
    "# Concatenate arrays along axis=1\n",
    "concatenated_arr = np.concatenate((arr3, arr4), axis=1)\n",
    "print(\"Stacked along dimension 1 (columns)\")\n",
    "print(concatenated_arr)\n",
    "print(f\"new shape: {concatenated_arr.shape}\")"
   ]
  },
  {
   "cell_type": "markdown",
   "id": "77f13eb4-55a2-436b-ae0c-50092528f4c8",
   "metadata": {},
   "source": [
    "Here is a full list (I think) of different functions for stacking and concatenating arrays in NumPy. But usually, `concatenate` and `stack` will be sufficient for most tasks.\n",
    "\n",
    "**Concatenation Functions:**\n",
    "- `np.concatenate()`\n",
    "- `np.vstack()`\n",
    "- `np.hstack()`\n",
    "- `np.dstack()`\n",
    "- `np.column_stack()`\n",
    "- `np.row_stack()`\n",
    "\n",
    "**Stacking Functions:**\n",
    "- `np.stack()`\n",
    "- `np.block()`\n",
    "- `np.tile()`\n",
    "- `np.repeat()`\n",
    "\n",
    "**Shorthand Utilities:**\n",
    "- `np.c_[]`\n",
    "- `np.r_[]`"
   ]
  },
  {
   "cell_type": "markdown",
   "id": "169b4631-287e-49e7-a816-30d630729b19",
   "metadata": {},
   "source": [
    "## Exercises\n",
    "\n",
    "### 1. Matrix from `np.arange()`\n",
    "\n",
    "Create a NumPy array `arr` storing the matrix $\\begin{pmatrix}1&4&7\\\\10&13&16\\\\19&22&25\\end{pmatrix}$ using only `np.arange()` and `arr.reshape()`."
   ]
  },
  {
   "cell_type": "code",
   "execution_count": 30,
   "id": "b2d2f767-680f-41e4-8abb-aabd4dbfe669",
   "metadata": {},
   "outputs": [
    {
     "name": "stdout",
     "output_type": "stream",
     "text": [
      "Test passed!\n"
     ]
    }
   ],
   "source": [
    "# You code here\n",
    "arr = ...\n",
    "\n",
    "# Solution:\n",
    "arr = np.arange(1, 26, 3).reshape(-1 ,3)\n",
    "\n",
    "# Automatic test\n",
    "assert (arr == np.array([[1, 4, 7], [10, 13, 16], [19, 22, 25]])).all()\n",
    "print(\"Test passed!\")"
   ]
  },
  {
   "cell_type": "markdown",
   "id": "2239b30a-d971-4365-ac11-67bb5ac1fe08",
   "metadata": {},
   "source": [
    "### 2. 2D to 3D\n",
    "\n",
    "Reshape the 2D array/matrix `arr` of shape `(2, 9)` into a 3D array of shape `(2, 3, 3)`. Print the array before and after reshaping to better understand what is going on."
   ]
  },
  {
   "cell_type": "code",
   "execution_count": 31,
   "id": "71307ccf-2f58-4017-8a1c-fc7ad111c26f",
   "metadata": {},
   "outputs": [
    {
     "name": "stdout",
     "output_type": "stream",
     "text": [
      "[[3 6 1 9 2 4 8 3 2]\n",
      " [0 1 6 3 7 4 3 6 1]]\n",
      "[[[3 6 1]\n",
      "  [9 2 4]\n",
      "  [8 3 2]]\n",
      "\n",
      " [[0 1 6]\n",
      "  [3 7 4]\n",
      "  [3 6 1]]]\n",
      "Test passed!\n"
     ]
    }
   ],
   "source": [
    "arr = np.array([[3, 6, 1, 9, 2, 4, 8, 3, 2], [0, 1, 6, 3, 7, 4, 3, 6, 1]])\n",
    "\n",
    "# Your code here\n",
    "...\n",
    "\n",
    "# Solution\n",
    "print(arr)\n",
    "arr = arr.reshape(2, 3, 3)\n",
    "print(arr)\n",
    "\n",
    "# Automatic test\n",
    "assert (arr == np.array([[[3, 6, 1], [9, 2, 4], [8, 3, 2]], [[0, 1, 6], [3, 7, 4], [3, 6, 1]]])).all()\n",
    "print(\"Test passed!\")"
   ]
  },
  {
   "cell_type": "markdown",
   "id": "b72419af-723e-4327-a422-bd60525b896d",
   "metadata": {},
   "source": [
    "### 3. Reshape, Transpose and Reshape\n",
    "\n",
    "Create a 2D array `arr` with shape `(3, 4)` containing the numbers 0 through 11. Transpose it and then reshape it to a 3D array with shape `(2, 2, 3)`.\n",
    "\n",
    "**Note:** You only need to use `np.arange()`, `arr.reshape()` and `arr.T` (or `arr.transpose()`) to solve this task. Again, do not use loops."
   ]
  },
  {
   "cell_type": "code",
   "execution_count": 32,
   "id": "da7f19f7-f4f4-4e6d-aaec-51e8b9ac7fa3",
   "metadata": {},
   "outputs": [
    {
     "name": "stdout",
     "output_type": "stream",
     "text": [
      "Test passed!\n"
     ]
    }
   ],
   "source": [
    "# Your code here\n",
    "arr = ...\n",
    "\n",
    "# Solution\n",
    "arr = np.arange(12).reshape(3, 4)\n",
    "arr = arr.T\n",
    "arr = arr.reshape(2, 2, 3)\n",
    "\n",
    "# Automatic test\n",
    "assert (arr == np.array([[[0, 4, 8], [1, 5, 9]], [[2, 6, 10], [3, 7, 11]]])).all()\n",
    "print(\"Test passed!\")"
   ]
  },
  {
   "cell_type": "markdown",
   "id": "e6720142-3da5-4a53-89b1-c00c300295ab",
   "metadata": {},
   "source": [
    "### 4. Stacking Grades\n",
    "\n",
    "You are given three 1D arrays representing the scores of students in three different subjects: Math, Science, and English.\n",
    "\n",
    "1. Use `np.stack()` to combine the arrays along a new axis so that each row in the resulting array represents the scores of a student across all subjects.\n",
    "2. Print the resulting array.\n",
    "3. Verify the shape of the resulting array to ensure it has the correct dimensions `(4, 3)`.\n",
    "\n",
    "The output should be as follows:\n",
    "\n",
    "```python\n",
    "[[85 88 87]\n",
    " [90 94 85]\n",
    " [78 80 90]\n",
    " [92 86 88]]\n",
    "Shape: (4, 3)\n",
    "```"
   ]
  },
  {
   "cell_type": "code",
   "execution_count": 33,
   "id": "e9a39819-9de9-4535-94b0-eab2b932a97d",
   "metadata": {},
   "outputs": [
    {
     "name": "stdout",
     "output_type": "stream",
     "text": [
      "Stacked Scores:\n",
      "[[85 88 87]\n",
      " [90 94 85]\n",
      " [78 80 90]\n",
      " [92 86 88]]\n",
      "Shape: (4, 3)\n"
     ]
    }
   ],
   "source": [
    "math_scores = np.array([85, 90, 78, 92])\n",
    "science_scores = np.array([88, 94, 80, 86])\n",
    "english_scores = np.array([87, 85, 90, 88])\n",
    "\n",
    "# Your code here\n",
    "stacked_scores = ...\n",
    "\n",
    "# Solution\n",
    "stacked_scores = np.stack((math_scores, science_scores, english_scores), axis=1)\n",
    "# Print the resulting array\n",
    "print(\"Stacked Scores:\")\n",
    "print(stacked_scores)\n",
    "# Verify the shape\n",
    "print(\"Shape:\", stacked_scores.shape)"
   ]
  },
  {
   "cell_type": "markdown",
   "id": "1f0ccc9a-e7c9-4199-a98b-71d1dba3bf1f",
   "metadata": {},
   "source": [
    "### 5. °Concatenate\n",
    "\n",
    "You are given two 2D arrays representing the daily temperatures (in Celsius) recorded over a week in two different cities. Each array has rows representing days and columns representing the morning and evening temperatures. Use `np.concatenate()` to combine these arrays along the vertical axis (axis 0) to get a complete record of temperatures for both cities.\n",
    "\n",
    "That is, your task is to\n",
    "\n",
    "1. Use `np.concatenate()` to combine the arrays along the vertical axis (axis 0).\n",
    "2. Print the resulting array.\n",
    "3. Verify the shape of the resulting array to ensure it has the correct dimensions `(14, 2)`."
   ]
  },
  {
   "cell_type": "code",
   "execution_count": 34,
   "id": "a65b5877-9d64-4486-9cfc-ff5bb02009a5",
   "metadata": {},
   "outputs": [
    {
     "name": "stdout",
     "output_type": "stream",
     "text": [
      "Concatenated Temperatures:\n",
      "[[15 22]\n",
      " [16 23]\n",
      " [15 21]\n",
      " [14 20]\n",
      " [13 19]\n",
      " [12 18]\n",
      " [14 21]\n",
      " [18 25]\n",
      " [17 24]\n",
      " [19 26]\n",
      " [16 23]\n",
      " [15 22]\n",
      " [14 21]\n",
      " [17 24]]\n",
      "Shape: (14, 2)\n"
     ]
    }
   ],
   "source": [
    "city1_temperatures = np.array([[15, 22], \n",
    "                               [16, 23], \n",
    "                               [15, 21], \n",
    "                               [14, 20], \n",
    "                               [13, 19], \n",
    "                               [12, 18], \n",
    "                               [14, 21]])\n",
    "\n",
    "city2_temperatures = np.array([[18, 25], \n",
    "                               [17, 24], \n",
    "                               [19, 26], \n",
    "                               [16, 23], \n",
    "                               [15, 22], \n",
    "                               [14, 21], \n",
    "                               [17, 24]])\n",
    "\n",
    "# Your code here\n",
    "concatenated_temperatures = ...\n",
    "\n",
    "# Solution\n",
    "concatenated_temperatures = np.concatenate((city1_temperatures, city2_temperatures), axis=0)\n",
    "# Print the resulting array\n",
    "print(\"Concatenated Temperatures:\")\n",
    "print(concatenated_temperatures)\n",
    "# Verify the shape\n",
    "print(\"Shape:\", concatenated_temperatures.shape)"
   ]
  },
  {
   "cell_type": "markdown",
   "id": "78f25620-4d4c-4158-8925-771ae9b3ddba",
   "metadata": {},
   "source": [
    "# 4. Basic Array Operations and Broadcasting"
   ]
  },
  {
   "cell_type": "markdown",
   "id": "5310df6e-4c63-4292-93f4-7c5d65e839e8",
   "metadata": {},
   "source": [
    "Perform mathematical operations between a NumPy array and a scalar is straight-forward."
   ]
  },
  {
   "cell_type": "code",
   "execution_count": 35,
   "id": "2cffd243-fac6-4d93-b061-2cfd33f4831d",
   "metadata": {},
   "outputs": [
    {
     "name": "stdout",
     "output_type": "stream",
     "text": [
      "Original:\n",
      " [[1. 2. 3.]\n",
      " [4. 5. 6.]]\n",
      "Multiply by 2:\n",
      " [[ 2.  4.  6.]\n",
      " [ 8. 10. 12.]]\n",
      "Divide by 10:\n",
      " [[0.1 0.2 0.3]\n",
      " [0.4 0.5 0.6]]\n",
      "Subtract 3:\n",
      " [[-2. -1.  0.]\n",
      " [ 1.  2.  3.]]\n",
      "Add 4:\n",
      " [[ 5.  6.  7.]\n",
      " [ 8.  9. 10.]]\n",
      "Square:\n",
      " [[ 1.  4.  9.]\n",
      " [16. 25. 36.]]\n"
     ]
    }
   ],
   "source": [
    "arr = np.array([[1., 2., 3.], [4., 5., 6.]])\n",
    "\n",
    "print(f\"Original:\\n {arr}\")\n",
    "print(f\"Multiply by 2:\\n {2.0 * arr}\") # Multiply all values by 2\n",
    "print(f\"Divide by 10:\\n {arr / 10.0}\") # Divide all values by 10\n",
    "print(f\"Subtract 3:\\n {arr - 3.0}\")    # Subtract 3 from all values in arr\n",
    "print(f\"Add 4:\\n {arr + 4.0}\")         # Add 4 to all values in arr\n",
    "print(f\"Square:\\n {arr ** 2}\")         # Square all values in arr"
   ]
  },
  {
   "cell_type": "markdown",
   "id": "6211b9a5-5fbb-47b1-b4ec-8e60e945facc",
   "metadata": {},
   "source": [
    "If two NumPy arrays are of the **same shape**, we can just as easily perform element-wise operations as follows:"
   ]
  },
  {
   "cell_type": "code",
   "execution_count": 36,
   "id": "fab3b8a9-da76-4f5a-bb88-50d62e8b0fe2",
   "metadata": {},
   "outputs": [
    {
     "name": "stdout",
     "output_type": "stream",
     "text": [
      "arr1 =\n",
      "[[1 2 3]\n",
      " [4 5 6]]\n",
      "arr2 =\n",
      "[[ 2.   1.  -1. ]\n",
      " [ 3.   0.5  2. ]]\n",
      "arr1 + arr2 =\n",
      "[[3.  3.  2. ]\n",
      " [7.  5.5 8. ]]\n",
      "arr1 - arr2 =\n",
      "[[3.  3.  2. ]\n",
      " [7.  5.5 8. ]]\n",
      "arr1 * arr2 =\n",
      "[[3.  3.  2. ]\n",
      " [7.  5.5 8. ]]\n",
      "arr1 / arr2 =\n",
      "[[3.  3.  2. ]\n",
      " [7.  5.5 8. ]]\n",
      "arr1 ** arr2 =\n",
      "[[3.  3.  2. ]\n",
      " [7.  5.5 8. ]]\n"
     ]
    }
   ],
   "source": [
    "arr1 = np.array([[1, 2, 3], [4, 5, 6]])\n",
    "arr2 = np.array([[2, 1,-1], [3,.5, 2]])\n",
    "\n",
    "print(f\"arr1 =\\n{arr1}\")\n",
    "print(f\"arr2 =\\n{arr2}\")\n",
    "\n",
    "print(f\"arr1 + arr2 =\\n{arr1 + arr2}\")  # Element-wise addition\n",
    "print(f\"arr1 - arr2 =\\n{arr1 + arr2}\")  # Element-wise subtraction\n",
    "print(f\"arr1 * arr2 =\\n{arr1 + arr2}\")  # Element-wise multiplication\n",
    "print(f\"arr1 / arr2 =\\n{arr1 + arr2}\")  # Element-wise division\n",
    "print(f\"arr1 ** arr2 =\\n{arr1 + arr2}\") # Element-wise exponentiation"
   ]
  },
  {
   "cell_type": "markdown",
   "id": "40b5e3db-bd0b-4e2e-8eaa-a7dbad430ad9",
   "metadata": {},
   "source": [
    "Broadcasting allows NumPy to work with arrays of **different shapes** when performing arithmetic operations. The smaller array is \"broadcast\" across the larger array so that they have compatible shapes. This makes many operations much more efficient.\n",
    "\n",
    "**Broadcasting Rules**\n",
    "- Arrays have compatible shapes if they are equal or one of them is 1.\n",
    "- If the arrays do not have the same number of dimensions, prepend the shape of the smaller array with ones until they have the same number of dimensions.\n",
    "- If any dimension does not match and is not 1, then broadcasting will not work.\n",
    "\n",
    "Operations involving a NumPy array and a scalar is a special case of broadcasting where the scalar (which we can think of as a NumPy array of shape `(1,)`) is broadcast to the same shape as the NumPy array.\n",
    "\n",
    "Here is a more interesting example: If you have a 1D array and a 2D array where the 1D array's shape is compatible with the trailing dimensions of the 2D array, broadcasting will occur."
   ]
  },
  {
   "cell_type": "code",
   "execution_count": 37,
   "id": "3c668b97-3ee0-4823-adc0-caa6a94a231d",
   "metadata": {},
   "outputs": [
    {
     "name": "stdout",
     "output_type": "stream",
     "text": [
      "[[11 22 33]\n",
      " [14 25 36]]\n"
     ]
    }
   ],
   "source": [
    "arr_2d = np.array([[1, 2, 3], [4, 5, 6]])\n",
    "arr_1d = np.array([10, 20, 30])\n",
    "\n",
    "result = arr_2d + arr_1d # This will broadcast arr_1d into [[10, 20, 30], [10, 20, 30]] and then do addition element-wise!\n",
    "print(result)"
   ]
  },
  {
   "cell_type": "markdown",
   "id": "d9399b46-d1d8-4255-9e55-ac1422220e58",
   "metadata": {},
   "source": [
    "Here is another example of broadcasting where we want to multiply the first row of `arr_2d` by $1$ and the second row by $2$."
   ]
  },
  {
   "cell_type": "code",
   "execution_count": 38,
   "id": "56c142d5-2b10-48cc-aa65-8262a2014cbd",
   "metadata": {},
   "outputs": [
    {
     "name": "stdout",
     "output_type": "stream",
     "text": [
      "[[ 1  2  3]\n",
      " [ 8 10 12]]\n"
     ]
    }
   ],
   "source": [
    "arr_2d = np.array([[1, 2, 3], [4, 5, 6]])\n",
    "arr_1d = np.array([1, 2])\n",
    "\n",
    "# Reshape arr_1d to (2, 1) to make it compatible\n",
    "arr_1d = arr_1d.reshape(2, 1)\n",
    "\n",
    "result = arr_2d * arr_1d\n",
    "print(result)"
   ]
  },
  {
   "cell_type": "markdown",
   "id": "f10e9a09-7aa8-4da3-95a4-2c3c36c6a990",
   "metadata": {},
   "source": [
    "When broadcasting is not possible, NumPy will raise an error. You will probably encounter this type of error message many times, so here is an example to help you get to know eachother."
   ]
  },
  {
   "cell_type": "code",
   "execution_count": 39,
   "id": "24527033-e972-4248-81e0-76b48bc10eaf",
   "metadata": {},
   "outputs": [
    {
     "name": "stdout",
     "output_type": "stream",
     "text": [
      "Error: operands could not be broadcast together with shapes (2,3) (4,) \n"
     ]
    }
   ],
   "source": [
    "arr1 = np.array([[1, 2, 3], [4, 5, 6]])\n",
    "arr2 = np.array([1, 2, 3, 4])\n",
    "\n",
    "try:\n",
    "    result = arr1 + arr2\n",
    "except ValueError as e:\n",
    "    print(f\"Error: {e}\")"
   ]
  },
  {
   "cell_type": "markdown",
   "id": "fbc76a8e-4a82-46ce-aa8f-906c4de205ca",
   "metadata": {},
   "source": [
    "**Summary:** Broadcasting makes it easy to perform operations on arrays of different shapes without having to manually resize them. By following the broadcasting rules, NumPy automatically handles the necessary shape transformations to enable efficient computation."
   ]
  },
  {
   "cell_type": "markdown",
   "id": "3de99e54-23cf-47f8-8e58-355952c2247f",
   "metadata": {},
   "source": [
    "## Exercises\n",
    "\n",
    "### 1. Adding Scalars to Arrays\n",
    "\n",
    "Create a 1D array `arr` with values `[1, 2, 3, 4, 5]`. Add a scalar value `10` to `arr` and print the result."
   ]
  },
  {
   "cell_type": "code",
   "execution_count": 40,
   "id": "b891c150-4ead-40a9-960a-59ec0c4e8347",
   "metadata": {},
   "outputs": [
    {
     "name": "stdout",
     "output_type": "stream",
     "text": [
      "[11 12 13 14 15]\n"
     ]
    }
   ],
   "source": [
    "# Your code here\n",
    "arr = ...\n",
    "\n",
    "# Solution\n",
    "arr = np.array([1, 2, 3, 4, 5])\n",
    "arr = arr + 10\n",
    "print(arr)"
   ]
  },
  {
   "cell_type": "markdown",
   "id": "04d350a2-3c8b-4a9a-ac63-3d1554087c74",
   "metadata": {},
   "source": [
    "### 2. Multiply 1D Arrays of Same Shape\n",
    "\n",
    "Create two 1D arrays `arr1` with values `[1, 2, 3]` and `arr2` with values `[10, 20, 30]`. Multiply `arr1` and `arr2` element-wise and print the result."
   ]
  },
  {
   "cell_type": "code",
   "execution_count": 41,
   "id": "5fe86bae-20c1-4157-9186-4f7f681715d9",
   "metadata": {},
   "outputs": [
    {
     "name": "stdout",
     "output_type": "stream",
     "text": [
      "[10 40 90]\n"
     ]
    }
   ],
   "source": [
    "# Your code here\n",
    "arr1 = ...\n",
    "arr2 = ...\n",
    "\n",
    "# Solution\n",
    "arr1 = np.array([1, 2, 3])\n",
    "arr2 = np.array([10, 20, 30])\n",
    "result = arr1 * arr2\n",
    "print(result)"
   ]
  },
  {
   "cell_type": "markdown",
   "id": "185d2c70-d28f-4297-af22-36d8a3ce38ad",
   "metadata": {},
   "source": [
    "### 3. Broadcasting with Different Shapes\n",
    "\n",
    "Create a 2D array `arr1` with values `[[1, 2, 3], [4, 5, 6]]` and a 1D array `arr2` with values `[1, 2, 3]`. Add `arr1` and `arr2` and print the result. Try to understand how `arr2` was broadcasted by NumPy."
   ]
  },
  {
   "cell_type": "code",
   "execution_count": 42,
   "id": "bdcaee8e-515c-4264-bfe9-593481b8d938",
   "metadata": {},
   "outputs": [
    {
     "name": "stdout",
     "output_type": "stream",
     "text": [
      "[[2 4 6]\n",
      " [5 7 9]]\n"
     ]
    }
   ],
   "source": [
    "# Your code here\n",
    "arr1 = ...\n",
    "arr2 = ...\n",
    "\n",
    "# Solution\n",
    "arr1 = np.array([[1, 2, 3], [4, 5, 6]])\n",
    "arr2 = np.array([1, 2, 3]) # Broadcasted to [[1, 2, 3], [1, 2, 3]] of shape (2, 3)\n",
    "result = arr1 + arr2\n",
    "print(result)"
   ]
  },
  {
   "cell_type": "markdown",
   "id": "98848db7-aa1d-4e70-86f6-b376336098ee",
   "metadata": {},
   "source": [
    "### 4. Broadcasting with Different Dimensions\n",
    "\n",
    "Create a 3D array `arr1` with shape `(2, 2, 3)` containing values from 1 to 12 and a 1D array `arr2` with values `[1, 2, 3]`. Add `arr1` and `arr2` and print the result. Try to understand how `arr2` was broadcasted by NumPy before the addition took place."
   ]
  },
  {
   "cell_type": "code",
   "execution_count": 43,
   "id": "1effbd54-730e-4640-8646-9e0b14792c1e",
   "metadata": {},
   "outputs": [
    {
     "name": "stdout",
     "output_type": "stream",
     "text": [
      "[[[ 2  4  6]\n",
      "  [ 5  7  9]]\n",
      "\n",
      " [[ 8 10 12]\n",
      "  [11 13 15]]]\n"
     ]
    }
   ],
   "source": [
    "# Your code here\n",
    "arr1 = ...\n",
    "arr2 = ...\n",
    "\n",
    "# Solution\n",
    "arr1 = np.arange(1, 13).reshape(2, 2, 3)\n",
    "arr2 = np.array([1, 2, 3])\n",
    "result = arr1 + arr2\n",
    "print(result)"
   ]
  },
  {
   "cell_type": "markdown",
   "id": "cba0cedb-d39d-43c8-8869-25958991ecf3",
   "metadata": {},
   "source": [
    "### 5. Reshaping for Broadcasting\n",
    "\n",
    "Create a 2D array `arr1` with shape `(3, 4)` containing values from 0 to 11 and a 1D array `arr2` with values `[1, 2, 3]`. Reshape `arr2` to be compatible with `arr1` and then add them together. Print the result and try to understand what is going on."
   ]
  },
  {
   "cell_type": "code",
   "execution_count": 44,
   "id": "7fad260b-b348-4e6a-b255-5d324d7ac9cb",
   "metadata": {},
   "outputs": [
    {
     "name": "stdout",
     "output_type": "stream",
     "text": [
      "[[ 1  2  3  4]\n",
      " [ 6  7  8  9]\n",
      " [11 12 13 14]]\n"
     ]
    }
   ],
   "source": [
    "# Your code here\n",
    "arr1 = ...\n",
    "arr2 = ...\n",
    "\n",
    "# Solution\n",
    "arr1 = np.arange(12).reshape(3, 4)\n",
    "arr2 = np.array([1, 2, 3])\n",
    "arr2 = arr2.reshape(3, 1)\n",
    "result = arr1 + arr2\n",
    "print(result)"
   ]
  },
  {
   "cell_type": "markdown",
   "id": "c60b0351-4f34-4728-b600-229c1d16038a",
   "metadata": {},
   "source": [
    "### 6. Broadcasting with Higher Dimensions\n",
    "\n",
    "Create a 3D array `arr1` with shape `(2, 3, 4)` containing values from 0 to 23 and a 1D array `arr2` with values `[1, 2, 3, 4]`. Add `arr1` and `arr2` and print the result. How did NumPy broadcast `arr2`?"
   ]
  },
  {
   "cell_type": "code",
   "execution_count": 45,
   "id": "d6f4b2a8-00b7-4472-a05d-127c825d0a8d",
   "metadata": {},
   "outputs": [
    {
     "name": "stdout",
     "output_type": "stream",
     "text": [
      "[[[ 1  3  5  7]\n",
      "  [ 5  7  9 11]\n",
      "  [ 9 11 13 15]]\n",
      "\n",
      " [[13 15 17 19]\n",
      "  [17 19 21 23]\n",
      "  [21 23 25 27]]]\n"
     ]
    }
   ],
   "source": [
    "# Your code here\n",
    "arr1 = ...\n",
    "arr2 = ...\n",
    "\n",
    "# Solution\n",
    "arr1 = np.arange(24).reshape(2, 3, 4)\n",
    "arr2 = np.array([1, 2, 3, 4])\n",
    "result = arr1 + arr2\n",
    "print(result)"
   ]
  },
  {
   "cell_type": "markdown",
   "id": "d96bc7e1-61cf-4f70-8c31-9c7b7aa6b0fe",
   "metadata": {},
   "source": [
    "# 5. Matrix and Vector Algebra in NumPy\n",
    "\n",
    "NumPy can also perform matrix multiplication and dot products instead of the element-wise operations we have seen so far.\n",
    "\n",
    "In this example, we first create two matrices $A=\\begin{pmatrix}1&2&3\\\\4&5&6\\end{pmatrix}$ and $B=\\begin{pmatrix}2&4\\\\6&8\\\\10&12\\end{pmatrix}$ as NumPy arrays and then compute their [matrix product](https://en.wikipedia.org/wiki/Matrix_multiplication) $AB$. You can either use the shorthand syntax `A @ B` or `np.matmul(A, B)` as these are the same.\n",
    "\n",
    "For 2D arrays, we can also compute the matrix product by `np.dot(A, B)`."
   ]
  },
  {
   "cell_type": "code",
   "execution_count": 46,
   "id": "8b11005f-c87d-42b6-bcf6-1f9b51552afd",
   "metadata": {},
   "outputs": [
    {
     "name": "stdout",
     "output_type": "stream",
     "text": [
      "[[1 2 3]\n",
      " [4 5 6]]\n",
      "[[ 2  4]\n",
      " [ 6  8]\n",
      " [10 12]]\n",
      "[[ 44  56]\n",
      " [ 98 128]]\n",
      "[[ 44  56]\n",
      " [ 98 128]]\n",
      "[[ 44  56]\n",
      " [ 98 128]]\n"
     ]
    }
   ],
   "source": [
    "A = np.array([[1, 2, 3], [4, 5, 6]])\n",
    "B = np.array([[2, 4], [6, 8], [10, 12]])\n",
    "\n",
    "print(A)\n",
    "print(B)\n",
    "\n",
    "# These are all equivalent for 2D-arrays:\n",
    "print(A @ B)\n",
    "print(np.matmul(A, B))\n",
    "print(np.dot(A, B))"
   ]
  },
  {
   "cell_type": "markdown",
   "id": "29c94e11-dfd3-4510-aa19-170ebc6fd4ff",
   "metadata": {},
   "source": [
    "We can also do matrix-vector multiplication $Ax$ for a vector $x$. This is just a special case of matrix multiplication, really. \n",
    "\n",
    "Notice that if we try to use `*` instead of the `@`, the vector `x` is broadcast, and we end up with a new matrix with the same shape as `A`.\n",
    "\n",
    "We can also use `np.dot()` to compute the dot-product $x\\cdot y$ between two vectors. Alternatively, we can use matrix multiplication for computing the dot product as well since $x\\cdot y = x^T y$."
   ]
  },
  {
   "cell_type": "code",
   "execution_count": 47,
   "id": "6fe36ac3-9e4c-44b1-82b2-c89f8b5a6e48",
   "metadata": {},
   "outputs": [
    {
     "name": "stdout",
     "output_type": "stream",
     "text": [
      "[ 5 11 17]\n",
      "[[ 1 -2  6]\n",
      " [ 4 -5 12]\n",
      " [ 7 -8 18]]\n",
      "[ 5 11 17]\n",
      "[ 5 11 17]\n",
      "-4\n",
      "-4\n"
     ]
    }
   ],
   "source": [
    "A = np.array([[1, 2, 3], [4, 5, 6], [7, 8, 9]])\n",
    "x = np.array([1, -1, 2])\n",
    "\n",
    "print(A @ x)           # Compute Ax matrix-vector product\n",
    "print(A * x)           # NB! This is not the same as the previous line\n",
    "print(np.matmul(A, x)) # But this computes Ax ...\n",
    "print(np.dot(A, x))    # ...and this too.\n",
    "\n",
    "# Compute dot-product of x and y\n",
    "y = np.array([-1, 3, 0])\n",
    "print(np.dot(x, y))\n",
    "print(x.T @ y) # Equivalent way of computing the dot product"
   ]
  },
  {
   "cell_type": "markdown",
   "id": "82338b16-a12f-458f-a7af-8798f1f9d1ca",
   "metadata": {},
   "source": [
    "For more advanced use of `np.matmul()` on higher-dimensional arrays see the [documentation](https://numpy.org/doc/stable/reference/generated/numpy.matmul.html). Many high-dimensional operations can also be implemented using NumPy's `einsum()` function ([documentation](https://numpy.org/doc/stable/reference/generated/numpy.einsum.html))."
   ]
  },
  {
   "cell_type": "markdown",
   "id": "9e1b1d08-adf0-4477-bb7a-2da135baa5bb",
   "metadata": {},
   "source": [
    "Here are a few more matrix related functions provided by NumPy."
   ]
  },
  {
   "cell_type": "code",
   "execution_count": 48,
   "id": "40c099c4-0c3d-4701-9cc5-e19df0368eb8",
   "metadata": {},
   "outputs": [
    {
     "name": "stdout",
     "output_type": "stream",
     "text": [
      "[1 5 9]\n",
      "15\n",
      "[[ 0.32978723  0.14893617 -0.0106383 ]\n",
      " [ 0.0212766   0.10638298  0.06382979]\n",
      " [ 0.23758865  0.0212766   0.04609929]]\n",
      "282.00000000000006\n"
     ]
    }
   ],
   "source": [
    "A = np.array([[1, -2, 3], [4, 5, -6], [-7, 8, 9]])\n",
    "\n",
    "# Get the diagonal of A\n",
    "print(A.diagonal()) # or np.diag(A)\n",
    "\n",
    "# Compute trace (sum of diagonal)\n",
    "print(A.trace())    # or np.trace(A) or A.diagonal().sum()\n",
    "\n",
    "# Compute the inverse of the matrix A\n",
    "print(np.linalg.inv(A))\n",
    "\n",
    "# Print the determinant of A\n",
    "print(np.linalg.det(A))"
   ]
  },
  {
   "cell_type": "markdown",
   "id": "4ebf59ad-8d75-44d5-9452-8fc30c3cfaf3",
   "metadata": {},
   "source": [
    "## Exercises\n",
    "\n",
    "### 1. Element-wise Operations vs. Matrix Multiplication\n",
    "\n",
    "Perform element-wise multiplication and matrix multiplication for given matrices A and B. Print the results and see how the two operations differ."
   ]
  },
  {
   "cell_type": "code",
   "execution_count": 49,
   "id": "abb2a2da-df25-446a-a886-f898b589f706",
   "metadata": {},
   "outputs": [
    {
     "name": "stdout",
     "output_type": "stream",
     "text": [
      "[[ 5 12]\n",
      " [21 32]]\n",
      "[[19 22]\n",
      " [43 50]]\n"
     ]
    }
   ],
   "source": [
    "A = np.array([[1, 2], \n",
    "              [3, 4]])\n",
    "B = np.array([[5, 6], \n",
    "              [7, 8]])\n",
    "\n",
    "# Your code here\n",
    "elementwise_product = ...\n",
    "matrix_product = ...\n",
    "\n",
    "# Solution\n",
    "elementwise_product = A * B\n",
    "matrix_product = np.dot(A, B)\n",
    "\n",
    "print(elementwise_product)\n",
    "print(matrix_product)"
   ]
  },
  {
   "cell_type": "markdown",
   "id": "4eb1043d-c659-4311-9ea3-2f546f3eb633",
   "metadata": {},
   "source": [
    "### Properties of Matrix Multiplication\n",
    "\n",
    "Recall that matrix multiplication is what we call *associative*. This simply means that $A(BC)=(AB)C$. In other words, multiplying $B$ and $C$ first and then multiply the result with $A$ is the same as first multiplying $A$ and $B$, and then multiplying the result with $C$.\n",
    "\n",
    "Also recall that matrix multiplication is **not** *commutative*. That is, it is not always true that $AB\\neq BA$.\n",
    "\n",
    "1. Compute $A(BC)$ and $(AB)C$ using NumPy and check that the resulting matrices are equal.\n",
    "2. Compute $AB$ and $BA$ using NumPy and verify that the two products are different."
   ]
  },
  {
   "cell_type": "code",
   "execution_count": 50,
   "id": "2bbb721c-c42b-4753-9712-7555e13ec31a",
   "metadata": {},
   "outputs": [
    {
     "name": "stdout",
     "output_type": "stream",
     "text": [
      "True\n",
      "False\n"
     ]
    }
   ],
   "source": [
    "A = np.array([[1, 2], \n",
    "              [3, 4]])\n",
    "B = np.array([[5, 6], \n",
    "              [7, 8]])\n",
    "C = np.array([[9, 10], \n",
    "              [11, 12]])\n",
    "\n",
    "# Your code here\n",
    "ABC1 = ...\n",
    "ABC2 = ...\n",
    "\n",
    "AB = ...\n",
    "BA = ...\n",
    "\n",
    "# Solution\n",
    "ABC1 = A @ (B @ C)\n",
    "ABC2 = (A @ B) @ C\n",
    "print((ABC1 == ABC2).all())\n",
    "\n",
    "AB = A @ B\n",
    "BA = B @ A\n",
    "print((AB == BA).all())"
   ]
  },
  {
   "cell_type": "markdown",
   "id": "29974743-e87a-4db5-be5a-ca0d00d8a5e5",
   "metadata": {},
   "source": [
    "### 3. Solve Linear System of Equations\n",
    "\n",
    "Solve the equation $Ax=b$ where $A=\\begin{pmatrix}1&4&-1\\\\2&-5&0\\\\5&-1&-2\\end{pmatrix}$ and $b=\\begin{pmatrix}8\\\\2\\\\4\\end{pmatrix}$ using NumPy.\n",
    "\n",
    "**Hint:** Use `np.linalg.inv()` to find the inverse $A^{-1}$ of $A$. Then use matrix-vector multiplication to compute $x=A^{-1}Ax=A^{-1}b$ to solve for $x$.\n",
    "\n",
    "You can compare your answer to the one you get using `np.linalg.solve(A, b)`."
   ]
  },
  {
   "cell_type": "code",
   "execution_count": 51,
   "id": "4ff26f68-5dc6-4db8-9c7c-574d38d17287",
   "metadata": {},
   "outputs": [
    {
     "name": "stdout",
     "output_type": "stream",
     "text": [
      "[26. 10. 58.]\n",
      "True\n"
     ]
    }
   ],
   "source": [
    "A = np.array([[1,  4, -1],\n",
    "              [2, -5,  0],\n",
    "              [5, -1, -2]])\n",
    "\n",
    "b = np.array([8, 2, 4])\n",
    "\n",
    "# You code here\n",
    "A_inv = ...\n",
    "x = ...\n",
    "\n",
    "# Solution\n",
    "A_inv = np.linalg.inv(A)\n",
    "x = A_inv @ b\n",
    "print(x)\n",
    "x_2 = np.linalg.solve(A, b)\n",
    "print(np.allclose(x_2, x)) # Check that the solutions are approximately equal"
   ]
  },
  {
   "cell_type": "markdown",
   "id": "20ac73e2-9bfc-483b-94c5-ddf43c9d9260",
   "metadata": {},
   "source": [
    "# 6. Reduction Operations in NumPy\n",
    "\n",
    "For this part, let us create a dummy dataset consisting of $200$ rows and $5$ columns by sampling from the uniform distribution  $\\mathcal{U}(-10, 10)$."
   ]
  },
  {
   "cell_type": "code",
   "execution_count": 52,
   "id": "25a9b1cf-076d-4804-b567-b916fdcf16b3",
   "metadata": {},
   "outputs": [
    {
     "name": "stdout",
     "output_type": "stream",
     "text": [
      "[11 12 13 14 15]\n"
     ]
    }
   ],
   "source": [
    "dataset = np.random.uniform(-10, 10, (200, 5))\n",
    "print(arr[:10]) # Print the first 10 rows of our dataset"
   ]
  },
  {
   "cell_type": "markdown",
   "id": "78b2bbd0-b751-44d9-8558-ed6daf575c17",
   "metadata": {},
   "source": [
    "To compute the mean value, we can use the array method `arr.mean()`."
   ]
  },
  {
   "cell_type": "code",
   "execution_count": 53,
   "id": "2e399e38-dc34-40c7-829d-36fdc5a6e57c",
   "metadata": {},
   "outputs": [
    {
     "name": "stdout",
     "output_type": "stream",
     "text": [
      "-0.33996438149360275\n"
     ]
    }
   ],
   "source": [
    "mean = np.mean(dataset) # or dataset.mean()\n",
    "print(mean)"
   ]
  },
  {
   "cell_type": "markdown",
   "id": "2d64a7d1-98f8-44ce-8dd9-af9f787fe74a",
   "metadata": {},
   "source": [
    "Sometimes, we want to compute the mean for each column or row. We can do this by specifying which dimension we wish to compute the mean along."
   ]
  },
  {
   "cell_type": "code",
   "execution_count": 54,
   "id": "0581e7eb-2d3f-4b9f-9f62-624e625781fd",
   "metadata": {},
   "outputs": [
    {
     "name": "stdout",
     "output_type": "stream",
     "text": [
      "(200,)\n",
      "[ 2.41515677  1.43566346 -3.28435282  0.08440053 -1.31403019  1.72374645\n",
      " -1.9775666   2.87475501  1.62890465 -1.39555212]\n",
      "(5,)\n",
      "[-0.44651098 -0.97507919  0.23033657 -0.79203323  0.28346492]\n"
     ]
    }
   ],
   "source": [
    "# Compute the mean along axis 1. This will take the mean over all columns for each row\n",
    "# resulting in an array of shape (200,)\n",
    "row_means = np.mean(dataset, axis=1) # or dataset.mean(axis=1)\n",
    "print(row_means.shape) # The mean for each row \n",
    "print(row_means[:10])  # Print the mean for the first 10 rows\n",
    "\n",
    "# Similarly, for computing the mean over all rows\n",
    "col_means = np.mean(dataset, axis=0) # or dataset.mean(axis=0)\n",
    "print(col_means.shape)\n",
    "print(col_means)"
   ]
  },
  {
   "cell_type": "markdown",
   "id": "35ec4943-d6bb-44e7-97a3-6169cecc06f0",
   "metadata": {},
   "source": [
    "There are similar functions for computing the sum, minimum, maximum and standard deviation of an array. We can also specify over which axes we want to compute along for these functions."
   ]
  },
  {
   "cell_type": "code",
   "execution_count": 55,
   "id": "190b08ff-93f1-493a-8750-de855248fed2",
   "metadata": {},
   "outputs": [
    {
     "name": "stdout",
     "output_type": "stream",
     "text": [
      "[ -89.30219674 -195.01583751   46.0673149  -158.40664603   56.69298389]\n",
      "9.99978912838094\n",
      "[-5.97699464 -8.54846342 -7.81315859 -7.59519618 -7.06540476  0.12481883\n",
      " -5.72363497 -3.00379375 -8.46823746 -7.69588657]\n",
      "[5.87311268 5.58902189 5.63648335 5.56803812 5.8595576 ]\n"
     ]
    }
   ],
   "source": [
    "print(np.sum(dataset, axis=0))      # The sum of each column (compute along row-dimension, axis 0)\n",
    "print(np.max(dataset))              # The largest value in dataset\n",
    "print(np.min(dataset, axis=1)[:10]) # The smallest values for the 10 first rows\n",
    "print(np.std(dataset, axis=0))      # Standard deviation for each column"
   ]
  },
  {
   "cell_type": "markdown",
   "id": "5a635073-32c3-4ca7-820f-d30009057195",
   "metadata": {},
   "source": [
    "If we want to find the index of the smallest or largest value, we can use `np.argmin()` and `np.argmax()`, respectively. See the following example where we find the index (and value) of the smallest and largest value in the first column of `dataset`."
   ]
  },
  {
   "cell_type": "code",
   "execution_count": 56,
   "id": "1981a4c2-8cd9-43af-8b23-89a94dd2009e",
   "metadata": {},
   "outputs": [
    {
     "name": "stdout",
     "output_type": "stream",
     "text": [
      "The smallest value in the first column is -9.8819 at index 107\n",
      "The largest value in the first column is 9.9166 at index 178\n"
     ]
    }
   ],
   "source": [
    "first_column = dataset[:, 0]      # Select only the first column\n",
    "\n",
    "min_idx = np.argmin(first_column) # Find the index of the smallest value\n",
    "min_val = first_column[min_idx]   # Get the value at index min_idx\n",
    "\n",
    "print(f\"The smallest value in the first column is {min_val:.4f} at index {min_idx}\")\n",
    "\n",
    "# Do the same with argmax\n",
    "max_idx = np.argmax(first_column) # Find the index of the smallest value\n",
    "max_val = first_column[max_idx]   # Get the value at index min_idx\n",
    "\n",
    "print(f\"The largest value in the first column is {max_val:.4f} at index {max_idx}\")"
   ]
  },
  {
   "cell_type": "markdown",
   "id": "5d6ba52f-744b-4f10-be8a-46e08ef60182",
   "metadata": {},
   "source": [
    "## Exercises\n",
    "\n",
    "### 1. Computing the Mean, Sum and Maximum\n",
    "\n",
    "You are given an array `A` in the code cell below. \n",
    "\n",
    "Compute\n",
    "1. The mean of all elements in `A` using `np.mean()`,\n",
    "2. The sum of each row, using `np.sum()`, and\n",
    "3. The largest value in each column using `np.max()`.\n",
    "\n",
    "Print the result to verify that it works as you intended. \n",
    "\n",
    "You need to use the `axis=` argument for 2. and 3."
   ]
  },
  {
   "cell_type": "code",
   "execution_count": 57,
   "id": "edde4fe0-f032-47da-90f8-9bcd1fca755b",
   "metadata": {},
   "outputs": [
    {
     "name": "stdout",
     "output_type": "stream",
     "text": [
      "5.0\n",
      "[ 6 15 24]\n",
      "[7 8 9]\n"
     ]
    }
   ],
   "source": [
    "A = np.array([[1, 2, 3], \n",
    "              [4, 5, 6], \n",
    "              [7, 8, 9]])\n",
    "\n",
    "# Your code here\n",
    "total_mean = ...\n",
    "row_sums = ...\n",
    "column_maxes = ...\n",
    "\n",
    "# Solution\n",
    "total_mean = np.mean(A)\n",
    "row_sums = np.sum(A, axis=1)\n",
    "column_maxes = np.max(A, axis=0)\n",
    "\n",
    "print(total_mean)\n",
    "print(row_sums)\n",
    "print(column_maxes)"
   ]
  },
  {
   "cell_type": "markdown",
   "id": "ba141b57-92c5-4027-8ba7-984168cc481f",
   "metadata": {},
   "source": [
    "### 2. Standardize Each Column of a Dataset\n",
    "\n",
    "You are given a dataset of shape `(200, 5)` stored in the variable `X`. Think of this as 200 observations of 5 different measurements/variables.\n",
    "\n",
    "We now want to [standardize](https://en.wikipedia.org/wiki/Standard_score#Calculation) each column $X_i$ by applying the transform $\\hat{X}_i = \\frac{X_i - \\hat{\\mu}_i}{\\hat{\\sigma}_i}$ where $\\hat{\\mu}_i$ and $\\hat{\\sigma}_i$ are the mean and standard deviation of column $i$, respectively.\n",
    "\n",
    "Compute the means and standard deviations for each column and standardize `X`. Store the standardized version of `X` in a new variable `X_hat`.\n",
    "\n",
    "Verify that the mean and standard deviation of each column of `X_hat` is (very close to) 0 and 1, respectively.\n",
    "\n",
    "**Hints:**\n",
    "\n",
    "1. Compute the mean and standard deviations for each column by using `np.mean()` and `np.std()` with the argument `axis=0` (\"compute along rows\").\n",
    "2. Taking advantage of broadcasting, all columns can be standardized simultaneously by simply writing `X_hat = (dataset - mean) / std`.\n",
    "3. Use `np.mean(X_hat, axis=0)` and `np.std(X_hat, axis=0)` to verify that each column now has mean $\\approx 0$ and standard deviation $\\approx 1$."
   ]
  },
  {
   "cell_type": "code",
   "execution_count": 58,
   "id": "0d715a71-29a5-45a7-9acc-ae89f07d160c",
   "metadata": {},
   "outputs": [
    {
     "name": "stdout",
     "output_type": "stream",
     "text": [
      "[ 0.11633791  0.24840747 -0.01445261  0.05560833 -0.00120868]\n",
      "[0.98325451 1.03312577 1.0287414  1.00059868 0.99269379]\n"
     ]
    }
   ],
   "source": [
    "X = np.random.uniform(-10, 10, (200, 5))\n",
    "\n",
    "# Your code here\n",
    "mean = ...\n",
    "std = ...\n",
    "X_hat = ...\n",
    "\n",
    "mean = np.mean(dataset, axis=0)\n",
    "std = np.std(dataset, axis=0)\n",
    "\n",
    "X_hat = (X - mean) / std\n",
    "print(X_hat.mean(axis=0))\n",
    "print(X_hat.std(axis=0))"
   ]
  },
  {
   "cell_type": "markdown",
   "id": "f5fdbc93-24eb-4d09-89a9-c5113e0cb3a4",
   "metadata": {},
   "source": [
    "### 3. Different Ways of Doing Things\n",
    "\n",
    "Below are three cases where two different expressions give the same result.\n",
    "\n",
    "Try to understand why they give (approximately) the same answers."
   ]
  },
  {
   "cell_type": "code",
   "execution_count": 59,
   "id": "7903db76-3025-41e4-b62a-2ab90a16cc2b",
   "metadata": {},
   "outputs": [
    {
     "name": "stdout",
     "output_type": "stream",
     "text": [
      "[ 0.74353183  0.47480495 -0.97408338 -0.19549168  0.10518622]\n",
      "[ 0.74353183  0.47480495 -0.97408338 -0.19549168  0.10518622]\n",
      "5.82451301512215\n",
      "5.82451301512215\n",
      "30.789586764258217\n",
      "30.78958676425826\n"
     ]
    }
   ],
   "source": [
    "X = np.random.uniform(-10, 10, (200, 5))\n",
    "\n",
    "# Case 1\n",
    "print(X.sum(axis=0) / X.shape[0])\n",
    "print(X.mean(axis=0))\n",
    "\n",
    "# Case 2\n",
    "print(X.std())\n",
    "print(np.mean((X - X.mean())**2) ** 0.5)\n",
    "\n",
    "# Case 3\n",
    "print(X.sum())\n",
    "print((X.mean(0) * len(X)).sum())"
   ]
  },
  {
   "cell_type": "markdown",
   "id": "b09f1161-30d7-47c6-8c55-86d2727fa20c",
   "metadata": {},
   "source": [
    "### 4. Count With Boolean Arrays\n",
    "\n",
    "You are given an array `X` with 100000 integers between 0 and 100 in the code cell below.\n",
    "\n",
    "1. Create a boolean array `ge_50_mask` by using `(X > 50)`. This will create an array of the same shape as `X` with `True` or `False` depending on the value in `X` is greater than 50 or not.\n",
    "2. Print the sum and mean of `ge_50_mask`.\n",
    "\n",
    "What does the sum and mean of `ge_50_mask` tell us? And why are they approximately, 50000 and 0.5, respectively?\n",
    "\n",
    "**Note:** When you do `np.sum()` or `arr.sum()` on a boolean array, NumPy will treat `False` as 0 and `True` as 1 and sum these. The same is true for mean and standard deviation."
   ]
  },
  {
   "cell_type": "code",
   "execution_count": 60,
   "id": "a2607d68-b8cf-4bf1-baf3-970d7f8532c5",
   "metadata": {},
   "outputs": [
    {
     "name": "stdout",
     "output_type": "stream",
     "text": [
      "48990\n",
      "0.4899\n"
     ]
    }
   ],
   "source": [
    "X = np.random.randint(0, 100, 100000)\n",
    "\n",
    "# Your code here\n",
    "ge_50_mask = ...\n",
    "\n",
    "# Solution\n",
    "ge_50_mask = (X > 50)\n",
    "print(ge_50_mask.sum())\n",
    "print(ge_50_mask.mean())\n",
    "\n",
    "# It means that approx. half of the random integers are greater than 50"
   ]
  },
  {
   "cell_type": "markdown",
   "id": "72e4e51f-9fff-41f2-a9ce-1fd0e930b156",
   "metadata": {},
   "source": [
    "# 7. Other Useful NumPy Functions\n",
    "\n",
    "In this part, we will look at some other useful NumPy functions.\n",
    "\n",
    "The function `np.where()` returns elements chosen from two arrays based on a condition. This is maybe best demonstrated with an example."
   ]
  },
  {
   "cell_type": "code",
   "execution_count": 61,
   "id": "8d4c8bc7-5f25-4056-b52d-c0a5db942636",
   "metadata": {},
   "outputs": [
    {
     "name": "stdout",
     "output_type": "stream",
     "text": [
      "Original Array: [10 20 30 40 50]\n",
      "Condition (array > 30): [False False False  True  True]\n",
      "x array (selected when True): [-1 -2 -3 -4 -5]\n",
      "y array (selected when False): [1 2 3 4 5]\n",
      "Result of np.where: [ 1  2  3 -4 -5]\n"
     ]
    }
   ],
   "source": [
    "arr = np.array([10, 20, 30, 40, 50])\n",
    "\n",
    "condition = arr > 30\n",
    "x = np.array([-1, -2, -3, -4, -5])\n",
    "y = np.array([1, 2, 3, 4, 5])\n",
    "result = np.where(condition, x, y)\n",
    "\n",
    "print(f\"Original Array: {arr}\")\n",
    "print(f\"Condition (array > 30): {condition}\")\n",
    "print(f\"x array (selected when True): {x}\")\n",
    "print(f\"y array (selected when False): {y}\")\n",
    "print(f\"Result of np.where: {result}\")"
   ]
  },
  {
   "cell_type": "markdown",
   "id": "05d080a8-5d3b-4f6d-8ebe-c59702c19df6",
   "metadata": {},
   "source": [
    "The function `np.unique()` finds unique elements of an array. If we pass `return_counts=True`, the function will also return the count of each unique element (how many times it appeared in the original array). We can also take unique along a given axis."
   ]
  },
  {
   "cell_type": "code",
   "execution_count": 62,
   "id": "f493fbd1-9808-4ccd-9862-ef5067879114",
   "metadata": {},
   "outputs": [
    {
     "name": "stdout",
     "output_type": "stream",
     "text": [
      "Original Array: [1 2 2 3 1 5 6 5]\n",
      "Unique Elements: [1 2 3 5 6]\n",
      "Unique Elements: [1 2 3 5 6]\n",
      "Counts: [2 2 1 2 1]\n"
     ]
    }
   ],
   "source": [
    "arr = np.array([1, 2, 2, 3, 1, 5, 6, 5])\n",
    "unique_elements = np.unique(arr)\n",
    "\n",
    "print(f\"Original Array: {arr}\")\n",
    "print(f\"Unique Elements: {unique_elements}\")\n",
    "\n",
    "# With counting\n",
    "unique_elements, counts = np.unique(arr, return_counts=True)\n",
    "print(f\"Unique Elements: {unique_elements}\")\n",
    "print(f\"Counts: {counts}\")"
   ]
  },
  {
   "cell_type": "code",
   "execution_count": 63,
   "id": "73793652-bec2-45eb-a4bc-136d5e9e3261",
   "metadata": {},
   "outputs": [
    {
     "name": "stdout",
     "output_type": "stream",
     "text": [
      "Original Array:\n",
      "[[1 0]\n",
      " [3 1]\n",
      " [1 1]\n",
      " [1 0]\n",
      " [6 2]\n",
      " [3 1]\n",
      " [1 3]\n",
      " [1 0]]\n",
      "Unique Elements:\n",
      "[[1 0]\n",
      " [1 1]\n",
      " [1 3]\n",
      " [3 1]\n",
      " [6 2]]\n"
     ]
    }
   ],
   "source": [
    "# Unique values along an axis (unique rows in this case)\n",
    "arr = np.array([[1, 0],\n",
    "                [3, 1],\n",
    "                [1, 1],\n",
    "                [1, 0],\n",
    "                [6, 2],\n",
    "                [3, 1],\n",
    "                [1, 3],\n",
    "                [1, 0]])\n",
    "\n",
    "unique_elements = np.unique(arr, axis=0)\n",
    "print(f\"Original Array:\\n{arr}\")\n",
    "print(f\"Unique Elements:\\n{unique_elements}\")"
   ]
  },
  {
   "cell_type": "markdown",
   "id": "7175973b-3c82-4e70-a7d2-231368dbbc64",
   "metadata": {},
   "source": [
    "There are two main sorting functions provided by NumPy:\n",
    "- `np.sort()` - sorts elements of an array.\n",
    "- `np.argsort()` - returns indices of sorted elements."
   ]
  },
  {
   "cell_type": "code",
   "execution_count": 64,
   "id": "2fc2cde3-3f42-4da0-89de-ab4ab232e227",
   "metadata": {},
   "outputs": [
    {
     "name": "stdout",
     "output_type": "stream",
     "text": [
      "Original Array: [3 1 2 5 4]\n",
      "Sorted Array: [1 2 3 4 5]\n",
      "Indices of Sorted Array: [1 2 0 4 3]\n"
     ]
    }
   ],
   "source": [
    "array = np.array([3, 1, 2, 5, 4])\n",
    "\n",
    "sorted_array = np.sort(array)\n",
    "sorted_indices = np.argsort(array)\n",
    "\n",
    "print(f\"Original Array: {array}\")\n",
    "print(f\"Sorted Array: {sorted_array}\")\n",
    "print(f\"Indices of Sorted Array: {sorted_indices}\")"
   ]
  },
  {
   "cell_type": "markdown",
   "id": "4dccc323-aad2-4f2e-81f0-8e0d71f622ac",
   "metadata": {},
   "source": [
    "Also these functions supports the `axis=` argument."
   ]
  },
  {
   "cell_type": "code",
   "execution_count": 65,
   "id": "e196dcd8-8384-42b7-befa-d8dab999241c",
   "metadata": {},
   "outputs": [
    {
     "name": "stdout",
     "output_type": "stream",
     "text": [
      "Original 2D Array:\n",
      "[[3 1 4]\n",
      " [1 5 9]\n",
      " [2 6 5]]\n",
      "\n",
      "Sorted along Axis 0 (columns):\n",
      "Sorted Array:\n",
      "[[1 1 4]\n",
      " [2 5 5]\n",
      " [3 6 9]]\n",
      "Indices of Sorted Array:\n",
      "[[1 0 0]\n",
      " [2 1 2]\n",
      " [0 2 1]]\n",
      "\n",
      "Sorted along Axis 1 (rows):\n",
      "Sorted Array:\n",
      "[[1 3 4]\n",
      " [1 5 9]\n",
      " [2 5 6]]\n",
      "Indices of Sorted Array:\n",
      "[[1 0 2]\n",
      " [0 1 2]\n",
      " [0 2 1]]\n"
     ]
    }
   ],
   "source": [
    "array_2d = np.array([[3, 1, 4],\n",
    "                     [1, 5, 9],\n",
    "                     [2, 6, 5]])\n",
    "\n",
    "# Sort along axis 0 (columns)\n",
    "sorted_axis0 = np.sort(array_2d, axis=0)\n",
    "sorted_indices_axis0 = np.argsort(array_2d, axis=0)\n",
    "\n",
    "# Sort along axis 1 (rows)\n",
    "sorted_axis1 = np.sort(array_2d, axis=1)\n",
    "sorted_indices_axis1 = np.argsort(array_2d, axis=1)\n",
    "\n",
    "print(\"Original 2D Array:\")\n",
    "print(array_2d)\n",
    "print()\n",
    "\n",
    "print(\"Sorted along Axis 0 (columns):\")\n",
    "print(\"Sorted Array:\")\n",
    "print(sorted_axis0)\n",
    "print(\"Indices of Sorted Array:\")\n",
    "print(sorted_indices_axis0)\n",
    "print()\n",
    "\n",
    "print(\"Sorted along Axis 1 (rows):\")\n",
    "print(\"Sorted Array:\")\n",
    "print(sorted_axis1)\n",
    "print(\"Indices of Sorted Array:\")\n",
    "print(sorted_indices_axis1)"
   ]
  },
  {
   "cell_type": "markdown",
   "id": "e836c887-77ad-41c7-b533-32324827cd86",
   "metadata": {},
   "source": [
    "## Exercise\n",
    "\n",
    "You are given two files, `data_dates.npy` and `measurements.npy`. Both files contain NumPy arrays. The file `data_dates.npy` contains an array of shape `(367,)` containing date strings. The file `measurements.npy` contains an array of shape `(367, 2)` where the first and second column correspond to the average temperature and amount of precipitation for a given day. The measurements are taken from [Seklima](https://seklima.met.no/observations/) and are from Florida, Bergen."
   ]
  },
  {
   "cell_type": "code",
   "execution_count": 66,
   "id": "4135452c-0a16-4320-be69-4bcdf59cd57c",
   "metadata": {},
   "outputs": [
    {
     "name": "stdout",
     "output_type": "stream",
     "text": [
      "First 10 rows of data:\n",
      "Date\t\tTemperature\tPrecipitation\n",
      "14.06.2023\t19.4\t\t0.0\n",
      "15.06.2023\t20.2\t\t0.0\n",
      "16.06.2023\t18.5\t\t0.0\n",
      "17.06.2023\t17.4\t\t0.0\n",
      "18.06.2023\t18.9\t\t0.0\n",
      "19.06.2023\t19.9\t\t0.0\n",
      "20.06.2023\t20.1\t\t0.3\n",
      "21.06.2023\t17.9\t\t0.2\n",
      "22.06.2023\t14.7\t\t7.0\n",
      "23.06.2023\t14.7\t\t1.6\n"
     ]
    }
   ],
   "source": [
    "dates = np.load(\"data_dates.npy\", allow_pickle=True)\n",
    "measurements = np.load(\"measurements.npy\")\n",
    "\n",
    "print(\"First 10 rows of data:\")\n",
    "print(\"Date\\t\\tTemperature\\tPrecipitation\")\n",
    "for date, temp, prec in zip(dates[:10], measurements[:10, 0], measurements[:10, 1]):\n",
    "    print(f\"{date}\\t{temp}\\t\\t{prec}\")"
   ]
  },
  {
   "cell_type": "markdown",
   "id": "5b006cdf-da62-463e-8872-d35c9daaa59e",
   "metadata": {},
   "source": [
    "### Task 1\n",
    "\n",
    "Using `np.argsort()` find and print the 10 dates with the highest and lowest average temperatures in the dataset.\n",
    "\n",
    "Print the dates together with the temperature on that day. The output should be something like this:\n",
    "\n",
    "```\n",
    "Top 10 dates with the highest temperatures\n",
    "14.06.2023 Temperature: 19.4\n",
    "21.05.2024 Temperature: 19.4\n",
    "08.09.2023 Temperature: 19.5\n",
    "...\n",
    "\n",
    "Top 10 dates with the lowest temperatures\n",
    "06.01.2024 Temperature: -7.5\n",
    "05.01.2024 Temperature: -6.9\n",
    "09.02.2024 Temperature: -5.2\n",
    "...\n",
    "```\n",
    "\n",
    "**Hint:** You can extract the temperatures from `measurements` by indexing the first column with `measurements[:, 0]`. This will give you a 1-dimensional array."
   ]
  },
  {
   "cell_type": "code",
   "execution_count": 67,
   "id": "0f597db0-dc5c-40d6-8acd-9cb1cec91746",
   "metadata": {},
   "outputs": [
    {
     "name": "stdout",
     "output_type": "stream",
     "text": [
      "Top 10 dates with the highest temperatures\n",
      "14.06.2023 Temperature: 19.4\n",
      "21.05.2024 Temperature: 19.4\n",
      "08.09.2023 Temperature: 19.5\n",
      "19.06.2023 Temperature: 19.9\n",
      "20.06.2023 Temperature: 20.1\n",
      "15.06.2023 Temperature: 20.2\n",
      "14.05.2024 Temperature: 20.3\n",
      "22.05.2024 Temperature: 20.9\n",
      "09.07.2023 Temperature: 21.4\n",
      "23.05.2024 Temperature: 21.4\n",
      "\n",
      "Top 10 dates with the lowest temperatures\n",
      "06.01.2024 Temperature: -7.5\n",
      "05.01.2024 Temperature: -6.9\n",
      "09.02.2024 Temperature: -5.2\n",
      "17.01.2024 Temperature: -5.1\n",
      "07.01.2024 Temperature: -4.8\n",
      "04.01.2024 Temperature: -4.6\n",
      "01.12.2023 Temperature: -4.3\n",
      "23.12.2023 Temperature: -3.8\n",
      "08.02.2024 Temperature: -3.3\n",
      "28.11.2023 Temperature: -3.3\n"
     ]
    }
   ],
   "source": [
    "# Your code here\n",
    "sorted_idxs = ...\n",
    "highest_idxs = ...\n",
    "lowest_idxs = ...\n",
    "\n",
    "# Solution\n",
    "sorted_idxs = np.argsort(measurements[:, 0])\n",
    "highest_idxs = sorted_idxs[-10:]\n",
    "lowest_idxs = sorted_idxs[:10]\n",
    "\n",
    "print(\"Top 10 dates with the highest temperatures\")\n",
    "for idx in highest_idxs:\n",
    "    print(f\"{dates[idx]} Temperature: {measurements[idx, 0]}\")\n",
    "\n",
    "\n",
    "print(\"\\nTop 10 dates with the lowest temperatures\")\n",
    "for idx in lowest_idxs:\n",
    "    print(f\"{dates[idx]} Temperature: {measurements[idx, 0]}\")"
   ]
  },
  {
   "cell_type": "markdown",
   "id": "de379200-0886-42f8-bf6c-eefd581c10ef",
   "metadata": {},
   "source": [
    "### Task 2\n",
    "\n",
    "Use `np.argmin()` and `np.argmax()` to find the two days with the lowest and highest temperatures.\n",
    "\n",
    "Does this agree with your results from the previous task? What happens when there is a tie (as in this case for `argmax`)?"
   ]
  },
  {
   "cell_type": "code",
   "execution_count": 68,
   "id": "0e60c81d-3cce-4252-9e17-87684ca47a66",
   "metadata": {},
   "outputs": [
    {
     "name": "stdout",
     "output_type": "stream",
     "text": [
      "Lowest temperature was -7.5 on 06.01.2024\n",
      "Highest temperature was 21.4 on 09.07.2023\n"
     ]
    }
   ],
   "source": [
    "# Your code here\n",
    "temperatures = ...\n",
    "max_idx = ...\n",
    "min_idx = ...\n",
    "\n",
    "# Solution\n",
    "temperatures = measurements[:, 0]\n",
    "max_idx = np.argmax(temperatures)\n",
    "min_idx = np.argmin(temperatures)\n",
    "\n",
    "print(f\"Lowest temperature was {temperatures[min_idx]} on {dates[min_idx]}\")\n",
    "print(f\"Highest temperature was {temperatures[max_idx]} on {dates[max_idx]}\")"
   ]
  },
  {
   "cell_type": "markdown",
   "id": "19169757-37e0-49e4-a5b7-64200cf45322",
   "metadata": {},
   "source": [
    "### Task 3\n",
    "\n",
    "Compute the mean temperature and precipitation for all dates.\n",
    "\n",
    "**Hint:** Use `np.mean()` on `measurements` together with the `axis=` argument to compute both means at the same time. Which axis should we compute the mean along?"
   ]
  },
  {
   "cell_type": "code",
   "execution_count": 69,
   "id": "abd4ca3a-b299-473b-9151-b300084000fd",
   "metadata": {},
   "outputs": [
    {
     "name": "stdout",
     "output_type": "stream",
     "text": [
      "Mean temperature: 8.67, mean precipitation: 6.59\n"
     ]
    }
   ],
   "source": [
    "# Your code here\n",
    "means = ...\n",
    "\n",
    "# Solution\n",
    "means = np.mean(measurements, axis=0)\n",
    "print(f\"Mean temperature: {means[0]:.2f}, mean precipitation: {means[1]:.2f}\")"
   ]
  },
  {
   "cell_type": "markdown",
   "id": "a207c93d-a1c5-4f7c-802d-ac7fd77f2445",
   "metadata": {},
   "source": [
    "### Task 4\n",
    "\n",
    "Create an array `labels` using `np.where()` on the precipitation measurements such that it has value `0` if the precipitation is zero and `1` if precipitation that day was greater than zero.\n",
    "\n",
    "Then use `np.stack()` to stack the precipitation measurements and the labels and print the first 20 rows.\n",
    "\n",
    "At last, print the sum of all values in `labels`. What does this number mean? Can you find other ways to compute the same number using NumPy?\n",
    "\n",
    "The output should be:\n",
    "```\n",
    "[[ 0.   0. ]\n",
    " [ 0.   0. ]\n",
    " [ 0.   0. ]\n",
    " [ 0.   0. ]\n",
    " [ 0.   0. ]\n",
    " [ 0.   0. ]\n",
    " [ 0.3  1. ]\n",
    " [ 0.2  1. ]\n",
    " [ 7.   1. ]\n",
    " [ 1.6  1. ]\n",
    " [ 0.3  1. ]\n",
    " [ 0.   0. ]\n",
    " [ 0.   0. ]\n",
    " [47.1  1. ]\n",
    " [ 0.   0. ]\n",
    " [10.5  1. ]\n",
    " [ 0.1  1. ]\n",
    " [ 3.   1. ]\n",
    " [ 8.7  1. ]\n",
    " [ 2.6  1. ]]\n",
    "238\n",
    "```"
   ]
  },
  {
   "cell_type": "code",
   "execution_count": 70,
   "id": "a0707848-d166-44d1-b5ce-a8e07a351a4f",
   "metadata": {},
   "outputs": [
    {
     "name": "stdout",
     "output_type": "stream",
     "text": [
      "[[ 0.   0. ]\n",
      " [ 0.   0. ]\n",
      " [ 0.   0. ]\n",
      " [ 0.   0. ]\n",
      " [ 0.   0. ]\n",
      " [ 0.   0. ]\n",
      " [ 0.3  1. ]\n",
      " [ 0.2  1. ]\n",
      " [ 7.   1. ]\n",
      " [ 1.6  1. ]\n",
      " [ 0.3  1. ]\n",
      " [ 0.   0. ]\n",
      " [ 0.   0. ]\n",
      " [47.1  1. ]\n",
      " [ 0.   0. ]\n",
      " [10.5  1. ]\n",
      " [ 0.1  1. ]\n",
      " [ 3.   1. ]\n",
      " [ 8.7  1. ]\n",
      " [ 2.6  1. ]]\n",
      "238\n"
     ]
    }
   ],
   "source": [
    "# Your code here\n",
    "precipitation = ...\n",
    "labels = ...\n",
    "stacked = ...\n",
    "\n",
    "# Solution\n",
    "precipitation = measurements[:, 1]\n",
    "labels = np.where(precipitation > 0, 1, 0)\n",
    "stacked = np.stack((precipitation, labels), axis=-1)\n",
    "print(stacked[:20])\n",
    "print(labels.sum()) # another way to count rainy days: (precipitation > 0).sum()"
   ]
  },
  {
   "cell_type": "code",
   "execution_count": null,
   "id": "268da174-9bb0-4b0d-88b6-0623f7c9d051",
   "metadata": {},
   "outputs": [],
   "source": []
  }
 ],
 "metadata": {
  "kernelspec": {
   "display_name": "Python 3 (ipykernel)",
   "language": "python",
   "name": "python3"
  },
  "language_info": {
   "codemirror_mode": {
    "name": "ipython",
    "version": 3
   },
   "file_extension": ".py",
   "mimetype": "text/x-python",
   "name": "python",
   "nbconvert_exporter": "python",
   "pygments_lexer": "ipython3",
   "version": "3.12.3"
  }
 },
 "nbformat": 4,
 "nbformat_minor": 5
}
