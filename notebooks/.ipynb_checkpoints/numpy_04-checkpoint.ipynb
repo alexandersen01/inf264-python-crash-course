{
 "cells": [
  {
   "cell_type": "markdown",
   "id": "ea69f94b-c71e-4f40-86b7-fe61b33b372c",
   "metadata": {},
   "source": [
    "# NumPy – Part 4\n",
    "## Useful NumPy Functions"
   ]
  },
  {
   "cell_type": "markdown",
   "id": "7dd434b7-32b0-400e-b1eb-2d26d795c952",
   "metadata": {},
   "source": [
    "### Maximum and Minimum"
   ]
  },
  {
   "cell_type": "markdown",
   "id": "9871076f-88b2-45ac-ba47-299803f9ee83",
   "metadata": {},
   "source": [
    "### Argmax and Argmin"
   ]
  },
  {
   "cell_type": "markdown",
   "id": "f29cf94d-b654-4a13-b7b8-c8321c8f6878",
   "metadata": {},
   "source": [
    "### Sorting NumPy Arrays"
   ]
  },
  {
   "cell_type": "markdown",
   "id": "224479d0-1c5b-4300-b715-19c2e8c8187a",
   "metadata": {},
   "source": [
    "### NumPy `where`"
   ]
  },
  {
   "cell_type": "markdown",
   "id": "72d56f5e-513f-47d4-b877-00622177aaec",
   "metadata": {},
   "source": [
    "### Finding Unique Values"
   ]
  },
  {
   "cell_type": "markdown",
   "id": "bdf92e2a-1f61-4a62-b5be-7d8a070e7dab",
   "metadata": {},
   "source": [
    "### Clipping Values"
   ]
  }
 ],
 "metadata": {
  "kernelspec": {
   "display_name": "Python 3 (ipykernel)",
   "language": "python",
   "name": "python3"
  },
  "language_info": {
   "codemirror_mode": {
    "name": "ipython",
    "version": 3
   },
   "file_extension": ".py",
   "mimetype": "text/x-python",
   "name": "python",
   "nbconvert_exporter": "python",
   "pygments_lexer": "ipython3",
   "version": "3.12.3"
  }
 },
 "nbformat": 4,
 "nbformat_minor": 5
}
