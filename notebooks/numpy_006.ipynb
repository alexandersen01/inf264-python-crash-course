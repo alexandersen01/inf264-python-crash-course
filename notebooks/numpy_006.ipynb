{
 "cells": [
  {
   "attachments": {},
   "cell_type": "markdown",
   "id": "20ac73e2-9bfc-483b-94c5-ddf43c9d9260",
   "metadata": {},
   "source": [
    "# 6. Reduction Operations in NumPy"
   ]
  },
  {
   "cell_type": "markdown",
   "id": "dfbc51c3-6521-4631-adf6-a05fa8ca5b38",
   "metadata": {},
   "source": [
    "We start by importing NumPy under the alias `np`."
   ]
  },
  {
   "cell_type": "code",
   "execution_count": 1,
   "id": "33c5005b-5a2e-4a1d-9852-1f2dec3d171c",
   "metadata": {},
   "outputs": [],
   "source": [
    "import numpy as np"
   ]
  },
  {
   "cell_type": "markdown",
   "id": "a88c2901-5893-45a2-9d6b-90c2365cec7d",
   "metadata": {},
   "source": [
    "For this part, let us create a dummy dataset consisting of $200$ rows and $5$ columns by sampling from the uniform distribution  $\\mathcal{U}(-10, 10)$."
   ]
  },
  {
   "cell_type": "code",
   "execution_count": 2,
   "id": "25a9b1cf-076d-4804-b567-b916fdcf16b3",
   "metadata": {},
   "outputs": [
    {
     "name": "stdout",
     "output_type": "stream",
     "text": [
      "[[-0.95291225 -7.88760638 -6.32944755  6.82201217 -9.88205561]\n",
      " [ 0.6569027  -5.82003347 -8.80213799  2.16207931  9.53315234]\n",
      " [ 2.52892116 -6.78134855 -0.94057844 -1.08461561 -4.98683087]\n",
      " [ 2.23337794 -3.49704286 -9.04510842  3.38548853 -4.54048506]\n",
      " [-4.93210839 -7.59604558 -5.93473537  2.09462866  9.96653294]\n",
      " [ 7.2098027  -4.72641501 -8.0392037   5.73166895 -5.47568065]\n",
      " [-9.44297286  3.08925855  5.75237348  5.25270725 -5.97310322]\n",
      " [-8.91742973  9.83162102  9.86012818 -2.57557482 -3.31439253]\n",
      " [-6.90016792 -8.03964213  8.85504355 -1.85708362 -8.69426668]\n",
      " [ 3.75752665  6.5168397   5.07611002  8.82824967 -6.42085207]]\n"
     ]
    }
   ],
   "source": [
    "dataset = np.random.uniform(-10, 10, (200, 5))\n",
    "print(dataset[:10]) # Print the first 10 rows of our dataset"
   ]
  },
  {
   "attachments": {},
   "cell_type": "markdown",
   "id": "78b2bbd0-b751-44d9-8558-ed6daf575c17",
   "metadata": {},
   "source": [
    "To compute the mean value, we can use the array method `arr.mean()`."
   ]
  },
  {
   "cell_type": "code",
   "execution_count": 3,
   "id": "2e399e38-dc34-40c7-829d-36fdc5a6e57c",
   "metadata": {},
   "outputs": [
    {
     "name": "stdout",
     "output_type": "stream",
     "text": [
      "-0.1595651869779748\n"
     ]
    }
   ],
   "source": [
    "mean = np.mean(dataset) # or dataset.mean()\n",
    "print(mean)"
   ]
  },
  {
   "attachments": {},
   "cell_type": "markdown",
   "id": "2d64a7d1-98f8-44ce-8dd9-af9f787fe74a",
   "metadata": {},
   "source": [
    "Sometimes, we want to compute the mean for each column or row. We can do this by specifying which dimension we wish to compute the mean along."
   ]
  },
  {
   "cell_type": "code",
   "execution_count": 4,
   "id": "0581e7eb-2d3f-4b9f-9f62-624e625781fd",
   "metadata": {},
   "outputs": [
    {
     "name": "stdout",
     "output_type": "stream",
     "text": [
      "(200,)\n",
      "[-3.64600192 -0.45400742 -2.25289046 -2.29275397 -1.28034555 -1.05996554\n",
      " -0.26434736  0.97687042 -3.32722336  3.55157479]\n",
      "(5,)\n",
      "[-0.08217597 -0.41152732 -0.13137848  0.08140434 -0.2541485 ]\n"
     ]
    }
   ],
   "source": [
    "# Compute the mean along axis 1. This will take the mean over all columns for each row\n",
    "# resulting in an array of shape (200,)\n",
    "row_means = np.mean(dataset, axis=1) # or dataset.mean(axis=1)\n",
    "print(row_means.shape) # The mean for each row \n",
    "print(row_means[:10])  # Print the mean for the first 10 rows\n",
    "\n",
    "# Similarly, for computing the mean over all rows\n",
    "col_means = np.mean(dataset, axis=0) # or dataset.mean(axis=0)\n",
    "print(col_means.shape)\n",
    "print(col_means)"
   ]
  },
  {
   "attachments": {},
   "cell_type": "markdown",
   "id": "35ec4943-d6bb-44e7-97a3-6169cecc06f0",
   "metadata": {},
   "source": [
    "There are similar functions for computing the sum, minimum, maximum and standard deviation of an array. We can also specify over which axes we want to compute along for these functions."
   ]
  },
  {
   "cell_type": "code",
   "execution_count": 5,
   "id": "190b08ff-93f1-493a-8750-de855248fed2",
   "metadata": {},
   "outputs": [
    {
     "name": "stdout",
     "output_type": "stream",
     "text": [
      "[-16.43519463 -82.30546321 -26.27569629  16.28086719 -50.82970003]\n",
      "9.988540507193314\n",
      "[-9.88205561 -8.80213799 -6.78134855 -9.04510842 -7.59604558 -8.0392037\n",
      " -9.44297286 -8.91742973 -8.69426668 -6.42085207]\n",
      "[5.80766697 6.25527085 5.67548057 5.44940171 5.84684364]\n"
     ]
    }
   ],
   "source": [
    "print(np.sum(dataset, axis=0))      # The sum of each column (compute along row-dimension, axis 0)\n",
    "print(np.max(dataset))              # The largest value in dataset\n",
    "print(np.min(dataset, axis=1)[:10]) # The smallest values for the 10 first rows\n",
    "print(np.std(dataset, axis=0))      # Standard deviation for each column"
   ]
  },
  {
   "attachments": {},
   "cell_type": "markdown",
   "id": "5a635073-32c3-4ca7-820f-d30009057195",
   "metadata": {},
   "source": [
    "If we want to find the index of the smallest or largest value, we can use `np.argmin()` and `np.argmax()`, respectively. See the following example where we find the index (and value) of the smallest and largest value in the first column of `dataset`."
   ]
  },
  {
   "cell_type": "code",
   "execution_count": 6,
   "id": "1981a4c2-8cd9-43af-8b23-89a94dd2009e",
   "metadata": {},
   "outputs": [
    {
     "name": "stdout",
     "output_type": "stream",
     "text": [
      "The smallest value in the first column is -9.9271 at index 111\n",
      "The largest value in the first column is 9.8887 at index 157\n"
     ]
    }
   ],
   "source": [
    "first_column = dataset[:, 0]      # Select only the first column\n",
    "\n",
    "min_idx = np.argmin(first_column) # Find the index of the smallest value\n",
    "min_val = first_column[min_idx]   # Get the value at index min_idx\n",
    "\n",
    "print(f\"The smallest value in the first column is {min_val:.4f} at index {min_idx}\")\n",
    "\n",
    "# Do the same with argmax\n",
    "max_idx = np.argmax(first_column) # Find the index of the smallest value\n",
    "max_val = first_column[max_idx]   # Get the value at index min_idx\n",
    "\n",
    "print(f\"The largest value in the first column is {max_val:.4f} at index {max_idx}\")"
   ]
  },
  {
   "attachments": {},
   "cell_type": "markdown",
   "id": "5d6ba52f-744b-4f10-be8a-46e08ef60182",
   "metadata": {},
   "source": [
    "## Exercises\n",
    "\n",
    "### 1. Computing the Mean, Sum and Maximum\n",
    "\n",
    "You are given an array `A` in the code cell below. \n",
    "\n",
    "Compute\n",
    "1. The mean of all elements in `A` using `np.mean()`,\n",
    "2. The sum of each row, using `np.sum()`, and\n",
    "3. The largest value in each column using `np.max()`.\n",
    "\n",
    "Print the result to verify that it works as you intended. \n",
    "\n",
    "You need to use the `axis=` argument for 2. and 3."
   ]
  },
  {
   "cell_type": "code",
   "execution_count": 7,
   "id": "edde4fe0-f032-47da-90f8-9bcd1fca755b",
   "metadata": {},
   "outputs": [
    {
     "name": "stdout",
     "output_type": "stream",
     "text": [
      "5.0\n",
      "[ 6 15 24]\n",
      "[7 8 9]\n"
     ]
    }
   ],
   "source": [
    "A = np.array([[1, 2, 3], \n",
    "              [4, 5, 6], \n",
    "              [7, 8, 9]])\n",
    "\n",
    "# Your code here\n",
    "total_mean = ...\n",
    "row_sums = ...\n",
    "column_maxes = ...\n",
    "\n",
    "# Solution\n",
    "total_mean = np.mean(A)\n",
    "row_sums = np.sum(A, axis=1)\n",
    "column_maxes = np.max(A, axis=0)\n",
    "\n",
    "print(total_mean)\n",
    "print(row_sums)\n",
    "print(column_maxes)"
   ]
  },
  {
   "attachments": {},
   "cell_type": "markdown",
   "id": "ba141b57-92c5-4027-8ba7-984168cc481f",
   "metadata": {},
   "source": [
    "### 2. Standardize Each Column of a Dataset\n",
    "\n",
    "You are given a dataset of shape `(200, 5)` stored in the variable `X`. Think of this as 200 observations of 5 different measurements/variables.\n",
    "\n",
    "We now want to [standardize](https://en.wikipedia.org/wiki/Standard_score#Calculation) each column $X_i$ by applying the transform $\\hat{X}_i = \\frac{X_i - \\hat{\\mu}_i}{\\hat{\\sigma}_i}$ where $\\hat{\\mu}_i$ and $\\hat{\\sigma}_i$ are the mean and standard deviation of column $i$, respectively.\n",
    "\n",
    "Compute the means and standard deviations for each column and standardize `X`. Store the standardized version of `X` in a new variable `X_hat`.\n",
    "\n",
    "Verify that the mean and standard deviation of each column of `X_hat` is (very close to) 0 and 1, respectively.\n",
    "\n",
    "**Hints:**\n",
    "\n",
    "1. Compute the mean and standard deviations for each column by using `np.mean()` and `np.std()` with the argument `axis=0` (\"compute along rows\").\n",
    "2. Taking advantage of broadcasting, all columns can be standardized simultaneously by simply writing `X_hat = (dataset - mean) / std`.\n",
    "3. Use `np.mean(X_hat, axis=0)` and `np.std(X_hat, axis=0)` to verify that each column now has mean $\\approx 0$ and standard deviation $\\approx 1$."
   ]
  },
  {
   "cell_type": "code",
   "execution_count": 8,
   "id": "0d715a71-29a5-45a7-9acc-ae89f07d160c",
   "metadata": {},
   "outputs": [
    {
     "name": "stdout",
     "output_type": "stream",
     "text": [
      "[0.03663527 0.07457612 0.04329808 0.09242455 0.13042571]\n",
      "[1.00787811 0.88430796 1.01945192 0.97300649 1.01297252]\n"
     ]
    }
   ],
   "source": [
    "X = np.random.uniform(-10, 10, (200, 5))\n",
    "\n",
    "# Your code here\n",
    "mean = ...\n",
    "std = ...\n",
    "X_hat = ...\n",
    "\n",
    "mean = np.mean(dataset, axis=0)\n",
    "std = np.std(dataset, axis=0)\n",
    "\n",
    "X_hat = (X - mean) / std\n",
    "print(X_hat.mean(axis=0))\n",
    "print(X_hat.std(axis=0))"
   ]
  },
  {
   "attachments": {},
   "cell_type": "markdown",
   "id": "f5fdbc93-24eb-4d09-89a9-c5113e0cb3a4",
   "metadata": {},
   "source": [
    "### 3. Different Ways of Doing Things\n",
    "\n",
    "Below are three cases where two different expressions give the same result.\n",
    "\n",
    "Try to understand why they give (approximately) the same answers."
   ]
  },
  {
   "cell_type": "code",
   "execution_count": 9,
   "id": "7903db76-3025-41e4-b62a-2ab90a16cc2b",
   "metadata": {},
   "outputs": [
    {
     "name": "stdout",
     "output_type": "stream",
     "text": [
      "[0.16115021 0.37252166 0.47825551 0.20733643 0.0964006 ]\n",
      "[0.16115021 0.37252166 0.47825551 0.20733643 0.0964006 ]\n",
      "5.5951332948722055\n",
      "5.5951332948722055\n",
      "263.1328846981138\n",
      "263.1328846981139\n"
     ]
    }
   ],
   "source": [
    "X = np.random.uniform(-10, 10, (200, 5))\n",
    "\n",
    "# Case 1\n",
    "print(X.sum(axis=0) / X.shape[0])\n",
    "print(X.mean(axis=0))\n",
    "\n",
    "# Case 2\n",
    "print(X.std())\n",
    "print(np.mean((X - X.mean())**2) ** 0.5)\n",
    "\n",
    "# Case 3\n",
    "print(X.sum())\n",
    "print((X.mean(0) * len(X)).sum())"
   ]
  },
  {
   "attachments": {},
   "cell_type": "markdown",
   "id": "b09f1161-30d7-47c6-8c55-86d2727fa20c",
   "metadata": {},
   "source": [
    "### 4. Count With Boolean Arrays\n",
    "\n",
    "You are given an array `X` with 100000 integers between 0 and 100 in the code cell below.\n",
    "\n",
    "1. Create a boolean array `ge_50_mask` by using `(X > 50)`. This will create an array of the same shape as `X` with `True` or `False` depending on the value in `X` is greater than 50 or not.\n",
    "2. Print the sum and mean of `ge_50_mask`.\n",
    "\n",
    "What does the sum and mean of `ge_50_mask` tell us? And why are they approximately, 50000 and 0.5, respectively?\n",
    "\n",
    "**Note:** When you do `np.sum()` or `arr.sum()` on a boolean array, NumPy will treat `False` as 0 and `True` as 1 and sum these. The same is true for mean and standard deviation."
   ]
  },
  {
   "cell_type": "code",
   "execution_count": 10,
   "id": "a2607d68-b8cf-4bf1-baf3-970d7f8532c5",
   "metadata": {},
   "outputs": [
    {
     "name": "stdout",
     "output_type": "stream",
     "text": [
      "49093\n",
      "0.49093\n"
     ]
    }
   ],
   "source": [
    "X = np.random.randint(0, 100, 100000)\n",
    "\n",
    "# Your code here\n",
    "ge_50_mask = ...\n",
    "\n",
    "# Solution\n",
    "ge_50_mask = (X > 50)\n",
    "print(ge_50_mask.sum())\n",
    "print(ge_50_mask.mean())\n",
    "\n",
    "# It means that approx. half of the random integers are greater than 50"
   ]
  }
 ],
 "metadata": {
  "kernelspec": {
   "display_name": "Python 3 (ipykernel)",
   "language": "python",
   "name": "python3"
  },
  "language_info": {
   "codemirror_mode": {
    "name": "ipython",
    "version": 3
   },
   "file_extension": ".py",
   "mimetype": "text/x-python",
   "name": "python",
   "nbconvert_exporter": "python",
   "pygments_lexer": "ipython3",
   "version": "3.12.3"
  }
 },
 "nbformat": 4,
 "nbformat_minor": 5
}
