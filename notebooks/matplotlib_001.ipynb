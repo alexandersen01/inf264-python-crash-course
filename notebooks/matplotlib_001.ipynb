{
 "cells": [
  {
   "cell_type": "markdown",
   "id": "3422a4d3-cb80-467f-8fc0-0d2d455453d6",
   "metadata": {},
   "source": [
    "# A Short Introduction to Matplotlib\n",
    "\n",
    "Matplotlib is a versatile Python plotting library used to create data visualizations. Pyplot, a module within Matplotlib, offers an interface that simplifies the creation and customization of plots with functions like `plot()`, `scatter()`, and `hist()`.\n",
    "\n",
    "Learning Matplotlib is useful because it provides a solid foundation in data visualization, is highly customizable, and remains widely used in scientific and academic communities."
   ]
  },
  {
   "cell_type": "markdown",
   "id": "e62325c6-435f-4643-aac8-c9a8873b23bb",
   "metadata": {},
   "source": [
    "We start by importing the module `matplotlib.pyplot` under the alias `plt` as is standard convention."
   ]
  },
  {
   "cell_type": "code",
   "execution_count": null,
   "id": "79e58655-a7ed-42ea-97aa-7395187b4a8b",
   "metadata": {},
   "outputs": [],
   "source": [
    "import matplotlib.pyplot as plt\n",
    "import numpy as np"
   ]
  },
  {
   "cell_type": "markdown",
   "id": "c36d8791-2d29-42e7-a93b-e04598f991a8",
   "metadata": {},
   "source": [
    "## 1. Basic Plotting\n",
    "\n",
    "To demonstrate basic use, let us create an evenly spaced grid of $50$ points on the interval $[0, 4\\pi]$, and compute the values $\\sin(x)$ and $\\cos(x)$ on these points. We also compute the y-values of the line $y=0.05x-0.25$."
   ]
  },
  {
   "cell_type": "code",
   "execution_count": null,
   "id": "95c6817d-15cb-4327-80af-15f0a8e34d9c",
   "metadata": {},
   "outputs": [],
   "source": [
    "X = np.linspace(0, 4 * np.pi, 50)\n",
    "y_cos = np.cos(X)\n",
    "y_sin = np.sin(X)\n",
    "y_line = 0.05 * X - 0.25"
   ]
  },
  {
   "cell_type": "markdown",
   "id": "e71fbebc-e056-4a58-90cc-d07124172789",
   "metadata": {},
   "source": [
    "Calling `plt.plot(X, y_cos)`, we can plot the graph of $\\cos(x)$. Calling `plt.show()` is not always needed when working in Jupyter notebooks, but it is needed everywhere else, so it is good practice to always call it."
   ]
  },
  {
   "cell_type": "code",
   "execution_count": null,
   "id": "a048e131-ef5f-42c9-b0a6-4aa01bc29ac3",
   "metadata": {},
   "outputs": [],
   "source": [
    "plt.plot(X, y_cos)\n",
    "plt.show()"
   ]
  },
  {
   "cell_type": "markdown",
   "id": "8960c265-f3b4-435a-be7a-817b201c2bab",
   "metadata": {},
   "source": [
    "Here is an example demonstrating some ways in which you can customize your plots. The `label` keyword is particularly useful as this allows you to show the legend. Furthermore, remember to **always add labels to your axes** so that other people can understand your visualization!"
   ]
  },
  {
   "cell_type": "code",
   "execution_count": null,
   "id": "a3af17da-e446-4738-a544-ddd8ebcba5aa",
   "metadata": {},
   "outputs": [],
   "source": [
    "# Plot the three functions / arrays with different stylings\n",
    "plt.plot(X, y_cos, label=\"f(x)=cos(x)\", c=\"black\", marker=\"o\")  # marker=\"o\" adds a bulletpoint marker on each data point\n",
    "plt.plot(X, y_sin, label=\"f(x)=sin(x)\", c=\"green\", linewidth=5) # linewidth=5 gives us a thicker line\n",
    "plt.plot(X, y_line, linestyle=\"--\", label=\"some line\") # Plot as a dashed line\n",
    "\n",
    "# Set axes labels (always do this in your reports)\n",
    "plt.xlabel(\"x\")\n",
    "plt.ylabel(\"f(x)\")\n",
    "\n",
    "# Set axes ranges\n",
    "plt.ylim(-1.5, 1.5)\n",
    "plt.xlim(-1, 4 * np.pi + 1)\n",
    "\n",
    "plt.legend(loc=\"lower right\") # Show legend (based on labels) in the lower right corner\n",
    "plt.show()"
   ]
  },
  {
   "cell_type": "markdown",
   "id": "41c0cfb1-c4cd-47b8-9792-327183dbe9a3",
   "metadata": {},
   "source": [
    "## 2. Scatter Plots\n",
    "\n",
    "A scatter plot is a type of graph that uses dots to represent values of two different variables, allowing visualization of the relationship between them. To create a scatter plot, use the function `plt.scatter(X, Y)` where `X` contains the x-values and `Y` contains the y-values of the points you want to plot.\n",
    "\n",
    "Here we generate a noisy circular point cloud `X` consisting of $25$ points in $\\mathbb{R}^2$, i.e., a NumPy array of shape `(25, 2)`."
   ]
  },
  {
   "cell_type": "code",
   "execution_count": null,
   "id": "fd7df391",
   "metadata": {},
   "outputs": [],
   "source": [
    "grid = np.linspace(0, 2 * np.pi, 25)\n",
    "X = np.c_[np.cos(grid), np.sin(grid)] + 0.3 * np.random.standard_normal(size=(25, 2))\n",
    "print(X.shape)\n",
    "\n",
    "plt.scatter(X[:, 0], X[:, 1]) # Alternatively, plt.scatter(*X.T) does the same thing using unpacking of the transposed data matrix\n",
    "plt.show()"
   ]
  },
  {
   "cell_type": "markdown",
   "id": "14066157",
   "metadata": {},
   "source": [
    "Let us assign a random label to each point. Each label is an integer between $0$ and $3$ and we color the point depending on its label using the `c=` argument of `plt.scatter()`. \n",
    "\n",
    "We also set the size of each point based on the Euclidean distance from the origin using `np.linalg.norm()` to compute the distance and the `s=` argument of `plt.scatter()` to set the size.\n",
    "\n",
    "In total, this plot visualizes four dimensions using the x and y coordinates, and the color and size of a point."
   ]
  },
  {
   "cell_type": "code",
   "execution_count": null,
   "id": "ec75c4bc",
   "metadata": {},
   "outputs": [],
   "source": [
    "labels = np.random.randint(0, 4, size=(25, 1))\n",
    "sizes = 50 * np.linalg.norm(X, axis=-1) ** 2\n",
    "\n",
    "plt.scatter(*X.T, c=labels, s=sizes)\n",
    "plt.show()"
   ]
  },
  {
   "cell_type": "markdown",
   "id": "c3076df9-68d0-4653-a5a4-9684ce2e87c2",
   "metadata": {},
   "source": [
    "## 3. Bar Plots and Histograms"
   ]
  },
  {
   "cell_type": "code",
   "execution_count": null,
   "id": "60c589e7",
   "metadata": {},
   "outputs": [],
   "source": [
    "# Create random dummy data\n",
    "categories = np.arange(0, 14)\n",
    "heights = np.random.standard_exponential(14)\n",
    "\n",
    "# Plot data using a bar plot\n",
    "plt.suptitle(\"Precipitation for 2 Weeks\")\n",
    "plt.xlabel(\"Day\")\n",
    "plt.ylabel(\"Precipitation [mm]\")\n",
    "plt.bar(categories, heights)\n",
    "plt.show()"
   ]
  },
  {
   "cell_type": "markdown",
   "id": "dfb70891",
   "metadata": {},
   "source": [
    "A histogram is a type of bar plot that represents the distribution of a dataset by grouping data into bins and plotting the frequency of data points within each bin. It is useful to represent the distribution of your data."
   ]
  },
  {
   "cell_type": "code",
   "execution_count": null,
   "id": "b14252cd",
   "metadata": {},
   "outputs": [],
   "source": [
    "# Create random dummy data\n",
    "data = np.random.chisquare(20, size=(1000, )).astype(np.int_)\n",
    "\n",
    "# Plot histogram visualizing the data\n",
    "plt.suptitle(\"Student Scores\")\n",
    "plt.xlabel(\"Score\")\n",
    "plt.ylabel(\"Number of Students\")\n",
    "plt.hist(data)\n",
    "plt.show()"
   ]
  },
  {
   "cell_type": "markdown",
   "id": "31f50015-2ffd-465c-818c-f053352f4513",
   "metadata": {},
   "source": [
    "## 4. Multiple Plots (Subplots)"
   ]
  },
  {
   "cell_type": "markdown",
   "id": "92d2210e",
   "metadata": {},
   "source": [
    "Using the function `plt.subplots()` with the keywords `ncols` and `nrows` to specify the number of columns and rows, we can have multiple subplots in a single plot.\n",
    "\n",
    "Writing `fig, axs = plt.subplots(ncols=2, nrows=3)` creates a plot with three rows and two columns giving us a total of six subplots. We index the `axs` variable to access the different subplots.\n",
    "\n",
    "This is maybe best illustrated by an example. The following example include three plots side-by-side."
   ]
  },
  {
   "cell_type": "code",
   "execution_count": null,
   "id": "ed509779",
   "metadata": {},
   "outputs": [],
   "source": [
    "# Create random dummy data\n",
    "day_numbers = np.arange(0, 14)\n",
    "precipitation = np.random.standard_exponential(size=14)\n",
    "temperature = np.random.normal(20, 1, size=14)\n",
    "wind_speed = np.random.uniform(0, 10, size=14)\n",
    "\n",
    "fig, axs = plt.subplots(ncols=3, nrows=1, figsize=(12, 4))\n",
    "\n",
    "# Add plot for precipitation data\n",
    "axs[0].set_xlabel(\"Day\")\n",
    "axs[0].set_ylabel(\"Precipitation [mm]\")\n",
    "axs[0].bar(day_numbers, precipitation)\n",
    "\n",
    "# Add plot for temperature data\n",
    "axs[1].set_xlabel(\"Day\")\n",
    "axs[1].set_ylabel(\"Temperature [Deg C]\")\n",
    "axs[1].plot(day_numbers, temperature, color=\"black\")\n",
    "# Add lines showing the minimum, mean and maximum temperatures\n",
    "max_temp = np.max(temperature)\n",
    "min_temp = np.min(temperature)\n",
    "mean_temp = np.mean(temperature)\n",
    "axs[1].hlines(max_temp, 0, 14, color=\"red\", label=\"max\", linestyle=\"dashed\")\n",
    "axs[1].hlines(min_temp, 0, 14, color=\"blue\", label=\"min\", linestyle=\"dashed\")\n",
    "axs[1].hlines(mean_temp, 0, 14, color=\"green\", label=\"mean\", linestyle=\"dotted\")\n",
    "axs[1].legend()\n",
    "\n",
    "# Add plot for wind speed data\n",
    "axs[2].set_xlabel(\"Day\")\n",
    "axs[2].set_ylabel(\"Wind Speed [m/s]\")\n",
    "axs[2].bar(day_numbers, wind_speed, color=\"purple\")\n",
    "\n",
    "fig.tight_layout() # Useful if plots overlap eachother and to make everything fit nicely\n",
    "plt.show()"
   ]
  },
  {
   "cell_type": "markdown",
   "id": "b362741f",
   "metadata": {},
   "source": [
    "If we want to have both multiple rows and columns, we need to index `axs` with two indices as shown in the following example."
   ]
  },
  {
   "cell_type": "code",
   "execution_count": null,
   "id": "9d93fac1",
   "metadata": {},
   "outputs": [],
   "source": [
    "# Create some dummy data\n",
    "grid = np.linspace(0, 2 * np.pi, 50)\n",
    "X1 = np.c_[np.sin(grid), np.cos(grid)]\n",
    "X2 = np.c_[np.sin(grid) ** 5, np.cos(grid) ** 5]\n",
    "X3 = np.cos(grid)\n",
    "X4 = np.sin(grid)\n",
    "\n",
    "fig, axs = plt.subplots(ncols=2, nrows=2, figsize=(12,8))\n",
    "\n",
    "# Upper left plot\n",
    "axs[0, 0].set_title(\"A Circle\")\n",
    "axs[0, 0].scatter(*X1.T)\n",
    "\n",
    "# Upper right\n",
    "axs[0, 1].set_title(\"A Star\")\n",
    "axs[0, 1].scatter(*X2.T, c=\"black\", s=5)\n",
    "axs[0, 1].axis(\"off\") # Hide axes\n",
    "\n",
    "# Lower left\n",
    "axs[1, 0].set_title(\"Cosine\")\n",
    "axs[1, 0].plot(X3, label=\"cos(x)\")\n",
    "axs[1, 0].legend() # Add legend to plot\n",
    "\n",
    "# Lower right\n",
    "axs[1, 1].set_title(\"Sine\")\n",
    "axs[1, 1].set_xlabel(\"Axis Label\") # Add x-axis label\n",
    "axs[1, 1].plot(X4)\n",
    "\n",
    "plt.show()"
   ]
  },
  {
   "cell_type": "markdown",
   "id": "6dfab40f-71fc-4b7e-8212-1e490f8e1308",
   "metadata": {},
   "source": [
    "## 5. Other Stuff\n",
    "\n",
    "### Saving Plots to File\n",
    "Sometimes you want to save your plots as an image file. For example, when you are handing in homework or project work in INF264!\n",
    "\n",
    "To do this, you simply call `plt.savefig(\"filename.png\")` **instead** of calling `plt.show()` and the plot will be saved as `filename.png`.\n",
    "\n",
    "It is recommended to use the `dpi` keyword to get a high resolution image. Setting the DPI to 300 is usually sufficient.\n",
    "\n",
    "See the following example for an demonstration of how to use `plt.savefig()`."
   ]
  },
  {
   "cell_type": "code",
   "execution_count": null,
   "id": "bbb614de",
   "metadata": {},
   "outputs": [],
   "source": [
    "fig, ax = plt.subplots()\n",
    "\n",
    "ax.plot([1, 2, 3, 4, 5, 4, 3, 2, 1], color=\"green\", label=\"My Function\")\n",
    "ax.set_title(\"My Plot\")\n",
    "ax.set_xlabel(\"x\")\n",
    "ax.set_ylabel(\"y\")\n",
    "ax.legend()\n",
    "\n",
    "plt.savefig(\"my_plot.png\", dpi=300)"
   ]
  },
  {
   "cell_type": "markdown",
   "id": "b93956f1",
   "metadata": {},
   "source": [
    "### Displaying 2D Arrays as Images\n",
    "\n",
    "Images are often represented as 2-dimensional arrays. To display an 2D array as an image, you can use `plt.imshow()`.\n",
    "\n",
    "The `cmap` keyword determines the color map used. You can find an overview over available color maps in the official matplotlib documentation."
   ]
  },
  {
   "cell_type": "code",
   "execution_count": null,
   "id": "afd4842f",
   "metadata": {},
   "outputs": [],
   "source": [
    "im = np.load(\"corgi.npy\")\n",
    "\n",
    "print(f\"2D Array:\\n{im}\")\n",
    "print(f\"Array shape: {im.shape}\")\n",
    "\n",
    "fig, axs = plt.subplots(ncols=4, figsize=(12, 3))\n",
    "\n",
    "axs[0].imshow(im, cmap=\"gray\")\n",
    "axs[1].imshow(im, cmap=\"plasma\")\n",
    "axs[2].imshow(im, cmap=\"copper\")\n",
    "axs[3].imshow(im, cmap=\"bwr\")\n",
    "\n",
    "# Hide axes for all subplots\n",
    "for ax in axs:\n",
    "    ax.axis(\"off\")\n",
    "\n",
    "plt.show()"
   ]
  },
  {
   "cell_type": "markdown",
   "id": "75e332be",
   "metadata": {},
   "source": [
    "## Matplotlib Exercise\n",
    "\n",
    "In this exercise, we first load some historical weather data from the file `measurements.npy`. We only consider the first 30 rows of measurements. The first column `data[:, 0]` contains daily temperature measurements (in degree C) and the second column `data[:, 1]` contains daily precipitation measurements (in mm).\n",
    "\n",
    "Using `plt.subplots(...)`, create two plots side-by-side with `figsize=(10, 5)`. Plot the temperature in the left subplot using `axs[0].plot(...)`, and the precipitation in the right subplot as a bar plot using `axs[1].bar(...)`.\n",
    "\n",
    "Play around with different settings to make the plots pretty. Do not forget to at least add axis labels and subplot titles explaining your visualization!\n",
    "\n",
    "Have a look at the file `weather_plot.png` if you need inspiration."
   ]
  },
  {
   "cell_type": "code",
   "execution_count": null,
   "id": "0f1108db",
   "metadata": {},
   "outputs": [],
   "source": [
    "data = np.load(\"measurements.npy\")[:30]\n",
    "\n",
    "# Your code here..."
   ]
  }
 ],
 "metadata": {
  "kernelspec": {
   "display_name": "Python 3 (ipykernel)",
   "language": "python",
   "name": "python3"
  },
  "language_info": {
   "codemirror_mode": {
    "name": "ipython",
    "version": 3
   },
   "file_extension": ".py",
   "mimetype": "text/x-python",
   "name": "python",
   "nbconvert_exporter": "python",
   "pygments_lexer": "ipython3",
   "version": "3.12.3"
  }
 },
 "nbformat": 4,
 "nbformat_minor": 5
}
