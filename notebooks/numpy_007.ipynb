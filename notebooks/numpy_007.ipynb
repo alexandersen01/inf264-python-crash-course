{
 "cells": [
  {
   "attachments": {},
   "cell_type": "markdown",
   "id": "72e4e51f-9fff-41f2-a9ce-1fd0e930b156",
   "metadata": {},
   "source": [
    "# 7. Other Useful NumPy Functions"
   ]
  },
  {
   "cell_type": "code",
   "execution_count": null,
   "id": "9b71c2a0-6ac1-4440-93bf-649b0646b855",
   "metadata": {},
   "outputs": [],
   "source": [
    "import numpy as np"
   ]
  },
  {
   "cell_type": "markdown",
   "id": "7ee61a2e-40ee-4692-a658-c02beb80dd36",
   "metadata": {},
   "source": [
    "In this part, we will look at some other useful NumPy functions.\n",
    "\n",
    "The function `np.where()` returns elements chosen from two arrays based on a condition. This is maybe best demonstrated with an example."
   ]
  },
  {
   "cell_type": "code",
   "execution_count": null,
   "id": "8d4c8bc7-5f25-4056-b52d-c0a5db942636",
   "metadata": {},
   "outputs": [],
   "source": [
    "arr = np.array([10, 20, 30, 40, 50])\n",
    "\n",
    "condition = arr > 30\n",
    "x = np.array([-1, -2, -3, -4, -5])\n",
    "y = np.array([1, 2, 3, 4, 5])\n",
    "result = np.where(condition, x, y)\n",
    "\n",
    "print(f\"Original Array: {arr}\")\n",
    "print(f\"Condition (array > 30): {condition}\")\n",
    "print(f\"x array (selected when True): {x}\")\n",
    "print(f\"y array (selected when False): {y}\")\n",
    "print(f\"Result of np.where: {result}\")"
   ]
  },
  {
   "attachments": {},
   "cell_type": "markdown",
   "id": "05d080a8-5d3b-4f6d-8ebe-c59702c19df6",
   "metadata": {},
   "source": [
    "The function `np.unique()` finds unique elements of an array. If we pass `return_counts=True`, the function will also return the count of each unique element (how many times it appeared in the original array). We can also apply `np.unique()` along a given axis."
   ]
  },
  {
   "cell_type": "code",
   "execution_count": null,
   "id": "f493fbd1-9808-4ccd-9862-ef5067879114",
   "metadata": {},
   "outputs": [],
   "source": [
    "arr = np.array([1, 2, 2, 3, 1, 5, 6, 5])\n",
    "unique_elements = np.unique(arr)\n",
    "\n",
    "print(f\"Original Array: {arr}\")\n",
    "print(f\"Unique Elements: {unique_elements}\")\n",
    "\n",
    "# With counting\n",
    "unique_elements, counts = np.unique(arr, return_counts=True)\n",
    "print(f\"Unique Elements: {unique_elements}\")\n",
    "print(f\"Counts: {counts}\")"
   ]
  },
  {
   "cell_type": "code",
   "execution_count": null,
   "id": "73793652-bec2-45eb-a4bc-136d5e9e3261",
   "metadata": {},
   "outputs": [],
   "source": [
    "# Unique values along an axis (unique rows in this case)\n",
    "arr = np.array([[1, 0],\n",
    "                [3, 1],\n",
    "                [1, 1],\n",
    "                [1, 0],\n",
    "                [6, 2],\n",
    "                [3, 1],\n",
    "                [1, 3],\n",
    "                [1, 0]])\n",
    "\n",
    "unique_elements = np.unique(arr, axis=0)\n",
    "print(f\"Original Array:\\n{arr}\")\n",
    "print(f\"Unique Elements:\\n{unique_elements}\")"
   ]
  },
  {
   "attachments": {},
   "cell_type": "markdown",
   "id": "7175973b-3c82-4e70-a7d2-231368dbbc64",
   "metadata": {},
   "source": [
    "There are two main sorting functions provided by NumPy:\n",
    "- `np.sort()` - sorts elements of an array.\n",
    "- `np.argsort()` - returns indices of sorted elements."
   ]
  },
  {
   "cell_type": "code",
   "execution_count": null,
   "id": "2fc2cde3-3f42-4da0-89de-ab4ab232e227",
   "metadata": {},
   "outputs": [],
   "source": [
    "array = np.array([3, 1, 2, 5, 4])\n",
    "\n",
    "# Using np.sort()\n",
    "sorted_array = np.sort(array)\n",
    "print(f\"Original Array: {array}\")\n",
    "print(f\"Sorted Array: {sorted_array}\\n\")\n",
    "\n",
    "# Using np.argsort()\n",
    "sorted_indices = np.argsort(array)\n",
    "sorted_array = array[sorted_indices]\n",
    "print(f\"Original Array: {array}\")\n",
    "print(f\"Indices of Sorted Array: {sorted_indices}\")\n",
    "print(f\"Sorted Array: {sorted_array}\")\n"
   ]
  },
  {
   "attachments": {},
   "cell_type": "markdown",
   "id": "4dccc323-aad2-4f2e-81f0-8e0d71f622ac",
   "metadata": {},
   "source": [
    "Also these sorting functions supports the `axis=` argument."
   ]
  },
  {
   "cell_type": "code",
   "execution_count": null,
   "id": "e196dcd8-8384-42b7-befa-d8dab999241c",
   "metadata": {},
   "outputs": [],
   "source": [
    "array_2d = np.array([[3, 1, 4],\n",
    "                     [1, 5, 9],\n",
    "                     [2, 6, 5]])\n",
    "\n",
    "# Sort along axis 0 (columns)\n",
    "sorted_axis0 = np.sort(array_2d, axis=0)\n",
    "sorted_indices_axis0 = np.argsort(array_2d, axis=0)\n",
    "\n",
    "# Sort along axis 1 (rows)\n",
    "sorted_axis1 = np.sort(array_2d, axis=1)\n",
    "sorted_indices_axis1 = np.argsort(array_2d, axis=1)\n",
    "\n",
    "print(\"Original 2D Array:\")\n",
    "print(array_2d)\n",
    "print()\n",
    "\n",
    "print(\"Sorted along Axis 0 (columns):\")\n",
    "print(\"Sorted Array:\")\n",
    "print(sorted_axis0)\n",
    "print(\"Indices of Sorted Array:\")\n",
    "print(sorted_indices_axis0)\n",
    "print()\n",
    "\n",
    "print(\"Sorted along Axis 1 (rows):\")\n",
    "print(\"Sorted Array:\")\n",
    "print(sorted_axis1)\n",
    "print(\"Indices of Sorted Array:\")\n",
    "print(sorted_indices_axis1)"
   ]
  },
  {
   "attachments": {},
   "cell_type": "markdown",
   "id": "e836c887-77ad-41c7-b533-32324827cd86",
   "metadata": {},
   "source": [
    "## Exercise\n",
    "\n",
    "You are given two files, `data_dates.npy` and `measurements.npy`. Both files contain NumPy arrays. The file `data_dates.npy` contains an array of shape `(367,)` containing date strings. The file `measurements.npy` contains an array of shape `(367, 2)` where the first and second column correspond to the average temperature and amount of precipitation for a given day, respectively. \n",
    "\n",
    "The measurements are taken from [Seklima](https://seklima.met.no/observations/) and were recorded at Florida, Bergen."
   ]
  },
  {
   "cell_type": "code",
   "execution_count": null,
   "id": "4135452c-0a16-4320-be69-4bcdf59cd57c",
   "metadata": {},
   "outputs": [],
   "source": [
    "dates = np.load(\"data_dates.npy\", allow_pickle=True)\n",
    "measurements = np.load(\"measurements.npy\")\n",
    "\n",
    "print(f\"Data shape: {measurements.shape}\")\n",
    "\n",
    "print(\"First 10 rows of data:\")\n",
    "print(\"Date\\t\\tTemperature\\tPrecipitation\")\n",
    "for date, temp, prec in zip(dates[:10], measurements[:10, 0], measurements[:10, 1]):\n",
    "    print(f\"{date}\\t{temp}\\t\\t{prec}\")"
   ]
  },
  {
   "attachments": {},
   "cell_type": "markdown",
   "id": "5b006cdf-da62-463e-8872-d35c9daaa59e",
   "metadata": {},
   "source": [
    "### Task 1\n",
    "\n",
    "Using `np.argsort()` find and print the 10 dates with the highest and lowest average temperatures in the dataset.\n",
    "\n",
    "Print the dates together with the temperature on that day. The output should be something like this:\n",
    "\n",
    "```\n",
    "Top 10 dates with the highest temperatures\n",
    "14.06.2023 Temperature: 19.4\n",
    "21.05.2024 Temperature: 19.4\n",
    "08.09.2023 Temperature: 19.5\n",
    "...\n",
    "\n",
    "Top 10 dates with the lowest temperatures\n",
    "06.01.2024 Temperature: -7.5\n",
    "05.01.2024 Temperature: -6.9\n",
    "09.02.2024 Temperature: -5.2\n",
    "...\n",
    "```\n",
    "\n",
    "**Hint:** You can extract the temperatures from `measurements` by indexing the first column with `measurements[:, 0]`. This will give you a 1-dimensional array consisting only of the temperature measurements."
   ]
  },
  {
   "cell_type": "code",
   "execution_count": null,
   "id": "0f597db0-dc5c-40d6-8acd-9cb1cec91746",
   "metadata": {},
   "outputs": [],
   "source": [
    "# Your code here\n",
    "sorted_idxs = ...\n",
    "highest_idxs = ...\n",
    "lowest_idxs = ..."
   ]
  },
  {
   "attachments": {},
   "cell_type": "markdown",
   "id": "de379200-0886-42f8-bf6c-eefd581c10ef",
   "metadata": {},
   "source": [
    "### Task 2\n",
    "\n",
    "Use `np.argmin()` and `np.argmax()` to find the two days with the lowest and highest temperatures.\n",
    "\n",
    "Does this agree with your results from the previous task? What happens when there is a tie (as in this case for `argmax`)?\n",
    "\n",
    "Your output should be something like this:\n",
    "```\n",
    "Lowest temperature was -7.5 on 06.01.2024\n",
    "Highest temperature was 21.4 on 09.07.2023\n",
    "```"
   ]
  },
  {
   "cell_type": "code",
   "execution_count": null,
   "id": "0e60c81d-3cce-4252-9e17-87684ca47a66",
   "metadata": {},
   "outputs": [],
   "source": [
    "# Your code here\n",
    "temperatures = ...\n",
    "max_idx = ...\n",
    "min_idx = ..."
   ]
  },
  {
   "attachments": {},
   "cell_type": "markdown",
   "id": "19169757-37e0-49e4-a5b7-64200cf45322",
   "metadata": {},
   "source": [
    "### Task 3\n",
    "\n",
    "Compute the mean temperature and precipitation for all dates.\n",
    "\n",
    "**Hint:** Use `np.mean()` on `measurements` together with the `axis=` argument to compute both means at the same time. Which axis should we compute the mean along?\n",
    "\n",
    "Your output should be something like this: `Mean temperature: 8.67, mean precipitation: 6.59`."
   ]
  },
  {
   "cell_type": "code",
   "execution_count": null,
   "id": "abd4ca3a-b299-473b-9151-b300084000fd",
   "metadata": {},
   "outputs": [],
   "source": [
    "# Your code here\n",
    "means = ..."
   ]
  },
  {
   "attachments": {},
   "cell_type": "markdown",
   "id": "a207c93d-a1c5-4f7c-802d-ac7fd77f2445",
   "metadata": {},
   "source": [
    "### Task 4\n",
    "\n",
    "Create an array `labels` using `np.where()` on the precipitation measurements such that it has value `0` if the precipitation is zero and `1` if precipitation that day was greater than zero.\n",
    "\n",
    "Then use `np.stack()` to stack the precipitation measurements and the labels and print the first 20 rows.\n",
    "\n",
    "At last, print the sum of all values in `labels`. What does this number mean? Can you find other ways to compute the same number using NumPy?\n",
    "\n",
    "The output should be:\n",
    "```\n",
    "[[ 0.   0. ]\n",
    " [ 0.   0. ]\n",
    " [ 0.   0. ]\n",
    " [ 0.   0. ]\n",
    " [ 0.   0. ]\n",
    " [ 0.   0. ]\n",
    " [ 0.3  1. ]\n",
    " [ 0.2  1. ]\n",
    " [ 7.   1. ]\n",
    " [ 1.6  1. ]\n",
    " [ 0.3  1. ]\n",
    " [ 0.   0. ]\n",
    " [ 0.   0. ]\n",
    " [47.1  1. ]\n",
    " [ 0.   0. ]\n",
    " [10.5  1. ]\n",
    " [ 0.1  1. ]\n",
    " [ 3.   1. ]\n",
    " [ 8.7  1. ]\n",
    " [ 2.6  1. ]]\n",
    "238\n",
    "```"
   ]
  },
  {
   "cell_type": "code",
   "execution_count": null,
   "id": "a0707848-d166-44d1-b5ce-a8e07a351a4f",
   "metadata": {},
   "outputs": [],
   "source": [
    "# Your code here\n",
    "precipitation = ...\n",
    "labels = ...\n",
    "stacked = ..."
   ]
  }
 ],
 "metadata": {
  "kernelspec": {
   "display_name": "Python 3 (ipykernel)",
   "language": "python",
   "name": "python3"
  },
  "language_info": {
   "codemirror_mode": {
    "name": "ipython",
    "version": 3
   },
   "file_extension": ".py",
   "mimetype": "text/x-python",
   "name": "python",
   "nbconvert_exporter": "python",
   "pygments_lexer": "ipython3",
   "version": "3.12.3"
  }
 },
 "nbformat": 4,
 "nbformat_minor": 5
}
